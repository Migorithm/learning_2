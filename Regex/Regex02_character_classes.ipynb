{
 "cells": [
  {
   "cell_type": "code",
   "execution_count": 1,
   "id": "d349089a-2a11-4c7b-9575-fbe545a4f27c",
   "metadata": {},
   "outputs": [],
   "source": [
    "import re"
   ]
  },
  {
   "cell_type": "code",
   "execution_count": 2,
   "id": "ff607294-14ee-4268-ba98-02179d1b8c7a",
   "metadata": {},
   "outputs": [
    {
     "data": {
      "text/plain": [
       "<re.Match object; span=(0, 6), match='Python'>"
      ]
     },
     "execution_count": 2,
     "metadata": {},
     "output_type": "execute_result"
    }
   ],
   "source": [
    "re.search(r\"[pP]ython\",\"Python\")"
   ]
  },
  {
   "cell_type": "code",
   "execution_count": 3,
   "id": "82d83d0a-f594-450d-a72c-72d53b0280a9",
   "metadata": {},
   "outputs": [
    {
     "data": {
      "text/plain": [
       "<re.Match object; span=(18, 22), match='hway'>"
      ]
     },
     "execution_count": 3,
     "metadata": {},
     "output_type": "execute_result"
    }
   ],
   "source": [
    "re.search(r\"[a-z]way\",\"The end of the highway\")"
   ]
  },
  {
   "cell_type": "code",
   "execution_count": 4,
   "id": "2d28907a-8fcd-4827-9944-d4c325163c2a",
   "metadata": {},
   "outputs": [
    {
     "data": {
      "text/plain": [
       "<re.Match object; span=(0, 6), match='cloudy'>"
      ]
     },
     "execution_count": 4,
     "metadata": {},
     "output_type": "execute_result"
    }
   ],
   "source": [
    "re.search(r\"cloud[a-zA-Z0-9]\",\"cloudy\")"
   ]
  },
  {
   "cell_type": "markdown",
   "id": "19a7e7f8-c72e-4bfd-88c3-a4071955633b",
   "metadata": {},
   "source": [
    "#### Problem\n",
    "Fill in the code to check if the text passed contains punctuation symbols: commas, periods, colons, semicolons, question marks, and exclamation points.\n"
   ]
  },
  {
   "cell_type": "code",
   "execution_count": 5,
   "id": "0d54aa7c-012e-40cf-a49d-69c48cf7b839",
   "metadata": {},
   "outputs": [
    {
     "name": "stdout",
     "output_type": "stream",
     "text": [
      "True\n",
      "False\n",
      "True\n",
      "True\n",
      "False\n"
     ]
    }
   ],
   "source": [
    "import re\n",
    "def check_punctuation (text):\n",
    "    result = re.search(r\"[.,;:?!]\", text)\n",
    "    return result != None\n",
    "\n",
    "print(check_punctuation(\"This is a sentence that ends with a period.\")) # True\n",
    "print(check_punctuation(\"This is a sentence fragment without a period\")) # False\n",
    "print(check_punctuation(\"Aren't regular expressions awesome?\")) # True\n",
    "print(check_punctuation(\"Wow! We're really picking up some steam now!\")) # True\n",
    "print(check_punctuation(\"End of the line\")) # False"
   ]
  },
  {
   "cell_type": "markdown",
   "id": "44294937-b6b6-49ea-88c2-92c3e2f8c443",
   "metadata": {
    "tags": []
   },
   "source": [
    "#### To search characters that don't match pattern\n",
    "[^letter]"
   ]
  },
  {
   "cell_type": "markdown",
   "id": "cd44abc8-73d9-41f8-96da-e931d3e2e0f4",
   "metadata": {},
   "source": [
    "#### If we want to match either one expression or another, we can use the pipe symbol to do that. \n",
    "[expression **|** another expression]"
   ]
  },
  {
   "cell_type": "code",
   "execution_count": 6,
   "id": "5083fbce-579c-4a39-8ee8-f2dc11ef36c5",
   "metadata": {},
   "outputs": [
    {
     "data": {
      "text/plain": [
       "<re.Match object; span=(7, 10), match='cat'>"
      ]
     },
     "execution_count": 6,
     "metadata": {},
     "output_type": "execute_result"
    }
   ],
   "source": [
    "re.search(\"cat|dog\",\"I like cats.\")"
   ]
  },
  {
   "cell_type": "markdown",
   "id": "d7dc105c-490e-45be-b7a3-b5e954c54490",
   "metadata": {},
   "source": [
    "#### But what if we have both words in a sentence? Will it return occurrence of both word?\n"
   ]
  },
  {
   "cell_type": "code",
   "execution_count": 7,
   "id": "49a2eed4-c025-48ec-97f4-09a99ddc3728",
   "metadata": {},
   "outputs": [
    {
     "data": {
      "text/plain": [
       "<re.Match object; span=(7, 10), match='cat'>"
      ]
     },
     "execution_count": 7,
     "metadata": {},
     "output_type": "execute_result"
    }
   ],
   "source": [
    "re.search(\"cat|dog\",\"I like cats and dogs\")"
   ]
  },
  {
   "cell_type": "code",
   "execution_count": 8,
   "id": "2925455a-0727-42be-9f2c-c44938c79910",
   "metadata": {},
   "outputs": [],
   "source": [
    "#turns out, it doesn't!"
   ]
  },
  {
   "cell_type": "markdown",
   "id": "5fdc7348-65ce-4ef0-b744-4b9e14fb6be0",
   "metadata": {},
   "source": [
    "#### to get around to it, we use ..\n",
    "- re.findall() "
   ]
  },
  {
   "cell_type": "code",
   "execution_count": 9,
   "id": "fe67841d-c7b0-441c-a45c-61887d583a3f",
   "metadata": {},
   "outputs": [
    {
     "data": {
      "text/plain": [
       "['Cat', 'Dog']"
      ]
     },
     "execution_count": 9,
     "metadata": {},
     "output_type": "execute_result"
    }
   ],
   "source": [
    "re.findall(r\"cat|dog\", \"I like Cats and Dogs\", re.IGNORECASE)"
   ]
  },
  {
   "cell_type": "code",
   "execution_count": null,
   "id": "03e5f367-a78a-494c-83c4-046c90ad96b4",
   "metadata": {},
   "outputs": [],
   "source": []
  }
 ],
 "metadata": {
  "kernelspec": {
   "display_name": "Python 3 (ipykernel)",
   "language": "python",
   "name": "python3"
  },
  "language_info": {
   "codemirror_mode": {
    "name": "ipython",
    "version": 3
   },
   "file_extension": ".py",
   "mimetype": "text/x-python",
   "name": "python",
   "nbconvert_exporter": "python",
   "pygments_lexer": "ipython3",
   "version": "3.10.0"
  }
 },
 "nbformat": 4,
 "nbformat_minor": 5
}
