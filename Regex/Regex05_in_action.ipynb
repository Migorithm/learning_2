{
 "cells": [
  {
   "cell_type": "code",
   "execution_count": 2,
   "id": "669bba83-d06e-4f3c-aa0f-6a67cb7b9766",
   "metadata": {},
   "outputs": [],
   "source": [
    "import re"
   ]
  },
  {
   "cell_type": "markdown",
   "id": "4edca10f-71b6-420a-bd18-8e4d2f5ab6c4",
   "metadata": {},
   "source": [
    "#### Find out the word that starts with A and ends with a"
   ]
  },
  {
   "cell_type": "code",
   "execution_count": 3,
   "id": "2fafefcc-5982-4a08-881c-0d3b68462d0c",
   "metadata": {},
   "outputs": [
    {
     "data": {
      "text/plain": [
       "<re.Match object; span=(0, 9), match='Argentina'>"
      ]
     },
     "execution_count": 3,
     "metadata": {},
     "output_type": "execute_result"
    }
   ],
   "source": [
    "re.search(\"A.*a\",\"Argentina\")"
   ]
  },
  {
   "cell_type": "code",
   "execution_count": 4,
   "id": "f49f97c4-4802-49a5-a699-d144dab61d9d",
   "metadata": {},
   "outputs": [
    {
     "data": {
      "text/plain": [
       "<re.Match object; span=(0, 9), match='Azerbaija'>"
      ]
     },
     "execution_count": 4,
     "metadata": {},
     "output_type": "execute_result"
    }
   ],
   "source": [
    "re.search(r\"A.*a\",\"Azerbaijan\")"
   ]
  },
  {
   "cell_type": "code",
   "execution_count": 5,
   "id": "a3185394-564a-4355-99e9-792980d44b45",
   "metadata": {},
   "outputs": [],
   "source": [
    "# Although it shouldn't match, it did. So we have to specify the position wtih caret and anchor"
   ]
  },
  {
   "cell_type": "code",
   "execution_count": 6,
   "id": "1caa5430-acac-43bc-b852-48f08e97dbac",
   "metadata": {},
   "outputs": [
    {
     "name": "stdout",
     "output_type": "stream",
     "text": [
      "None\n"
     ]
    }
   ],
   "source": [
    "print(re.search(r\"^A.*a$\",\"Azerbaijan\"))"
   ]
  },
  {
   "cell_type": "code",
   "execution_count": 8,
   "id": "356e29fa-2729-43c3-b551-ace0fa99f7d2",
   "metadata": {},
   "outputs": [
    {
     "name": "stdout",
     "output_type": "stream",
     "text": [
      "<re.Match object; span=(0, 9), match='Australia'>\n"
     ]
    }
   ],
   "source": [
    "print(re.search(r\"^A.*a$\",\"Australia\"))"
   ]
  },
  {
   "cell_type": "markdown",
   "id": "bebac85c-19f5-419d-a8af-7db12872d48a",
   "metadata": {
    "tags": []
   },
   "source": [
    "#### Problem :: validate if string is valid variable name in python\n",
    "\n",
    "- It can contain any number of letters numbers or underscores, but it can't start with a number. S"
   ]
  },
  {
   "cell_type": "code",
   "execution_count": 15,
   "id": "2a759561-afdf-4fb0-9a40-3b4329f57ac9",
   "metadata": {},
   "outputs": [],
   "source": [
    "pattern = r\"^[a-zA-Z_]\\w*$\""
   ]
  },
  {
   "cell_type": "code",
   "execution_count": 17,
   "id": "b77ef477-4297-4dc6-9ce6-faf80f0e51e6",
   "metadata": {},
   "outputs": [
    {
     "data": {
      "text/plain": [
       "<re.Match object; span=(0, 30), match='_this_is_a_valid_variable_name'>"
      ]
     },
     "execution_count": 17,
     "metadata": {},
     "output_type": "execute_result"
    }
   ],
   "source": [
    "re.search(pattern,\"_this_is_a_valid_variable_name\")"
   ]
  },
  {
   "cell_type": "code",
   "execution_count": 21,
   "id": "288aaf73-7e60-4a5e-9cc3-f9112b0c83bf",
   "metadata": {},
   "outputs": [],
   "source": [
    "re.search(pattern,\"this isn't a valid variable\")"
   ]
  },
  {
   "cell_type": "code",
   "execution_count": 22,
   "id": "ad06ff4e-439a-40b2-961f-1d8940eab0a2",
   "metadata": {},
   "outputs": [
    {
     "data": {
      "text/plain": [
       "<re.Match object; span=(0, 9), match='variable2'>"
      ]
     },
     "execution_count": 22,
     "metadata": {},
     "output_type": "execute_result"
    }
   ],
   "source": [
    "re.search(pattern,\"variable2\")"
   ]
  },
  {
   "cell_type": "markdown",
   "id": "afd336e5-e537-4420-843d-09fdb3f618fd",
   "metadata": {},
   "source": [
    "#### Problem \n",
    "Fill in the code to check if the text passed looks like a standard sentence, meaning that it starts with an uppercase letter, followed by at least some lowercase letters or a space, and ends with a period, question mark, or exclamation point. "
   ]
  },
  {
   "cell_type": "code",
   "execution_count": 23,
   "id": "b8d5276a-5366-422a-9fb4-6d9a0bd1ea1a",
   "metadata": {},
   "outputs": [
    {
     "name": "stdout",
     "output_type": "stream",
     "text": [
      "True\n",
      "False\n",
      "False\n",
      "False\n",
      "True\n"
     ]
    }
   ],
   "source": [
    "def check_sentence(text):\n",
    "    result = re.search(r\"^[A-Z][a-z ]*[.?!]$\", text)\n",
    "    return result != None\n",
    "\n",
    "print(check_sentence(\"Is this is a sentence?\")) # True\n",
    "print(check_sentence(\"is this is a sentence?\")) # False\n",
    "print(check_sentence(\"Hello\")) # False\n",
    "print(check_sentence(\"1-2-3-GO!\")) # False\n",
    "print(check_sentence(\"A star is born.\")) # True"
   ]
  },
  {
   "cell_type": "markdown",
   "id": "f223339b-2d0f-4a7e-8a6e-64707bc92ccf",
   "metadata": {},
   "source": [
    "#### Problem\n",
    "The check_web_address function checks if the text passed qualifies as a top-level web address, meaning that it contains alphanumeric characters (which includes letters, numbers, and underscores), as well as periods, dashes, and a plus sign, followed by a period and a character-only top-level domain such as \".com\", \".info\", \".edu\", etc. Fill in the regular expression to do that, using escape characters, wildcards, repetition qualifiers, beginning and end-of-line characters, and character classes."
   ]
  },
  {
   "cell_type": "code",
   "execution_count": 26,
   "id": "b3b17c5e-d78b-4881-b916-39e5b26b498a",
   "metadata": {},
   "outputs": [
    {
     "name": "stdout",
     "output_type": "stream",
     "text": [
      "True\n",
      "False\n",
      "True\n",
      "False\n",
      "True\n"
     ]
    }
   ],
   "source": [
    "\n",
    "def check_web_address(text):\n",
    "    pattern = r\"^[a-zA-Z0-9_\\.\\-\\+]*\\.[a-zA-Z]*$\"  # escaping characters are required \n",
    "    result = re.search(pattern, text)\n",
    "    return result != None\n",
    "\n",
    "print(check_web_address(\"gmail.com\")) # True\n",
    "print(check_web_address(\"www@google\")) # False\n",
    "print(check_web_address(\"www.Coursera.org\")) # True\n",
    "print(check_web_address(\"web-address.com/homepage\")) # False\n",
    "print(check_web_address(\"My_Favorite-Blog.US\")) # True\n"
   ]
  },
  {
   "cell_type": "markdown",
   "id": "61de62f9-878d-4f74-8cd9-c9d16246cd53",
   "metadata": {},
   "source": [
    "#### problem\n",
    "The check_time function checks for the time format of a 12-hour clock, as follows: the hour is between 1 and 12, with no leading zero, followed by a colon, then minutes between 00 and 59, then an optional space, and then AM or PM, in upper or lower case. Fill in the regular expression to do that. How many of the concepts that you just learned can you use here?"
   ]
  },
  {
   "cell_type": "code",
   "execution_count": 38,
   "id": "1c8fb1e2-6b32-4ad2-a7cb-bef9236a8749",
   "metadata": {},
   "outputs": [
    {
     "name": "stdout",
     "output_type": "stream",
     "text": [
      "<re.Match object; span=(0, 7), match='12:45pm'>\n",
      "True\n",
      "<re.Match object; span=(0, 7), match='9:59 AM'>\n",
      "True\n",
      "None\n",
      "False\n",
      "None\n",
      "False\n"
     ]
    }
   ],
   "source": [
    "def check_time(text):\n",
    "    pattern = r\"[1-9]{1,2}:[0-5][0-9]\\s?([aA][mM]|[pP][mM])\"\n",
    "    result = re.search(pattern, text)\n",
    "    print(result)\n",
    "    return result != None\n",
    "\n",
    "print(check_time(\"12:45pm\")) # True\n",
    "print(check_time(\"9:59 AM\")) # True\n",
    "print(check_time(\"6:60am\")) # False\n",
    "print(check_time(\"five o'clock\")) # False"
   ]
  },
  {
   "cell_type": "markdown",
   "id": "22104f5f-73d9-405e-bc73-ee62b313baf5",
   "metadata": {},
   "source": [
    "#### problem\n",
    "The contains_acronym function checks the text for the presence of 2 or more characters or digits surrounded by parentheses, with at least the first character in uppercase (if it's a letter), returning True if the condition is met, or False otherwise. For example, \"Instant messaging (IM) is a set of communication technologies used for text-based communication\" should return True since (IM) satisfies the match conditions.\" Fill in the regular expression in this function: "
   ]
  },
  {
   "cell_type": "code",
   "execution_count": 40,
   "id": "eb714340-195e-4f2b-8b7b-d0ab7cc78f09",
   "metadata": {},
   "outputs": [
    {
     "name": "stdout",
     "output_type": "stream",
     "text": [
      "True\n",
      "True\n",
      "False\n",
      "True\n",
      "True\n"
     ]
    }
   ],
   "source": [
    "def contains_acronym(text):\n",
    "    pattern = r\"\\([0-9A-Z][a-zA-Z]+\\)\"\n",
    "    result = re.search(pattern, text)\n",
    "    return result != None\n",
    "\n",
    "print(contains_acronym(\"Instant messaging (IM) is a set of communication technologies used for text-based communication\")) # True\n",
    "print(contains_acronym(\"American Standard Code for Information Interchange (ASCII) is a character encoding standard for electronic communication\")) # True\n",
    "print(contains_acronym(\"Please do NOT enter without permission!\")) # False\n",
    "print(contains_acronym(\"PostScript is a fourth-generation programming language (4GL)\")) # True\n",
    "print(contains_acronym(\"Have fun using a self-contained underwater breathing apparatus (Scuba)!\")) # True"
   ]
  },
  {
   "cell_type": "markdown",
   "id": "4e3f04c4-6eb4-4f89-8293-e77fb13e51d4",
   "metadata": {},
   "source": [
    "#### problem\n",
    "Fill in the code to check if the text passed includes a possible U.S. zip code, formatted as follows: exactly 5 digits, and sometimes, but not always, followed by a dash with 4 more digits. The zip code needs to be preceded by at least one space, and cannot be at the start of the text."
   ]
  },
  {
   "cell_type": "code",
   "execution_count": 44,
   "id": "15911768-fd8f-416a-ab35-7176fbc453f1",
   "metadata": {},
   "outputs": [
    {
     "name": "stdout",
     "output_type": "stream",
     "text": [
      "True\n",
      "False\n",
      "True\n",
      "False\n"
     ]
    }
   ],
   "source": [
    "def check_zip_code (text):\n",
    "    pattern= r\" +[0-9]{5}(-[0-9]{4})?\"\n",
    "    result = re.search(pattern, text)\n",
    "    return result != None\n",
    "\n",
    "print(check_zip_code(\"The zip codes for New York are 10001 thru 11104.\")) # True\n",
    "print(check_zip_code(\"90210 is a TV show\")) # False\n",
    "print(check_zip_code(\"Their address is: 123 Main Street, Anytown, AZ 85258-0001.\")) # True\n",
    "print(check_zip_code(\"The Parliament of Canada is at 111 Wellington St, Ottawa, ON K1A0A9.\")) # False"
   ]
  },
  {
   "cell_type": "code",
   "execution_count": null,
   "id": "929cb73d-6c56-4be1-ae38-1706a42099c9",
   "metadata": {},
   "outputs": [],
   "source": []
  }
 ],
 "metadata": {
  "kernelspec": {
   "display_name": "Python 3 (ipykernel)",
   "language": "python",
   "name": "python3"
  },
  "language_info": {
   "codemirror_mode": {
    "name": "ipython",
    "version": 3
   },
   "file_extension": ".py",
   "mimetype": "text/x-python",
   "name": "python",
   "nbconvert_exporter": "python",
   "pygments_lexer": "ipython3",
   "version": "3.10.0"
  }
 },
 "nbformat": 4,
 "nbformat_minor": 5
}
