{
 "cells": [
  {
   "cell_type": "code",
   "execution_count": 1,
   "id": "a6d6677d-46be-49c8-8ac0-618470451b4a",
   "metadata": {},
   "outputs": [],
   "source": [
    "import re"
   ]
  },
  {
   "cell_type": "markdown",
   "id": "e6504ab5-d389-4d8c-a7b4-75682561d4aa",
   "metadata": {},
   "source": [
    "#### What if we want a special character to be found in a string not as special but comman character? "
   ]
  },
  {
   "cell_type": "code",
   "execution_count": 3,
   "id": "d21b0366-6b0a-48ee-aec9-b7ce65eb7c53",
   "metadata": {},
   "outputs": [
    {
     "data": {
      "text/plain": [
       "<re.Match object; span=(2, 6), match='lcom'>"
      ]
     },
     "execution_count": 3,
     "metadata": {},
     "output_type": "execute_result"
    }
   ],
   "source": [
    "re.search(r\".com\",\"welcom\")"
   ]
  },
  {
   "cell_type": "markdown",
   "id": "c23f5518-dcf0-483d-b1aa-f31fe38d2ec2",
   "metadata": {},
   "source": [
    "#### Add escapce charcter \"\\\\\""
   ]
  },
  {
   "cell_type": "code",
   "execution_count": 4,
   "id": "2972a860-c2f2-4870-88ae-ba89a37726b6",
   "metadata": {},
   "outputs": [],
   "source": [
    "re.search(r\"\\.com\",\"welcome\")"
   ]
  },
  {
   "cell_type": "code",
   "execution_count": 5,
   "id": "28fd8036-4784-4c99-83f4-d0080f1d7c4e",
   "metadata": {},
   "outputs": [
    {
     "data": {
      "text/plain": [
       "<re.Match object; span=(5, 9), match='.com'>"
      ]
     },
     "execution_count": 5,
     "metadata": {},
     "output_type": "execute_result"
    }
   ],
   "source": [
    "re.search(r\"\\.com\",\"naver.com\")"
   ]
  },
  {
   "cell_type": "markdown",
   "id": "3db1cb66-b680-46e1-aa30-97e093f7f5e4",
   "metadata": {},
   "source": [
    "#### \\\\w : matches any alphanumeric character including letters, numbers, and underscores. \n",
    "- [a-zA-Z0-9_]"
   ]
  },
  {
   "cell_type": "code",
   "execution_count": 7,
   "id": "f79e0e9a-cccc-4c7a-8669-1b0359a3f807",
   "metadata": {},
   "outputs": [
    {
     "data": {
      "text/plain": [
       "<re.Match object; span=(0, 4), match='this'>"
      ]
     },
     "execution_count": 7,
     "metadata": {},
     "output_type": "execute_result"
    }
   ],
   "source": [
    "re.search(r\"\\w*\",\"this is an example.\")"
   ]
  },
  {
   "cell_type": "code",
   "execution_count": 9,
   "id": "ab1906bf-dfb6-4416-a8fd-a68d676d8044",
   "metadata": {},
   "outputs": [
    {
     "data": {
      "text/plain": [
       "['this', '', 'is', '', 'an', '', 'example', '', '']"
      ]
     },
     "execution_count": 9,
     "metadata": {},
     "output_type": "execute_result"
    }
   ],
   "source": [
    "re.findall(r\"\\w*\",\"this is an example.\")"
   ]
  },
  {
   "cell_type": "markdown",
   "id": "e8203e7d-9bd4-442a-8617-d2683162e944",
   "metadata": {},
   "source": [
    "#### \n",
    "- \\\\d for matching digits \n",
    "- \\\\s for matching whitespace characters like space, tab or new line\n",
    "- \\\\b for word boundaries and a few others. "
   ]
  },
  {
   "cell_type": "code",
   "execution_count": 12,
   "id": "f49454f5-89ce-4847-b974-2ce77818ec36",
   "metadata": {},
   "outputs": [
    {
     "name": "stdout",
     "output_type": "stream",
     "text": [
      "None\n",
      "False\n",
      "<re.Match object; span=(0, 10), match='123  Ready'>\n",
      "True\n",
      "<re.Match object; span=(0, 16), match='username user_01'>\n",
      "True\n",
      "None\n",
      "False\n"
     ]
    }
   ],
   "source": [
    "def check_character_groups(text):\n",
    "    result = re.search(r\"\\w+\\s+\\w+\", text)\n",
    "    print(result)\n",
    "    return result != None\n",
    "\n",
    "print(check_character_groups(\"One\")) # False\n",
    "print(check_character_groups(\"123  Ready Set GO\")) # True\n",
    "print(check_character_groups(\"username user_01\")) # True\n",
    "print(check_character_groups(\"shopping_list: milk, bread, eggs.\")) # False"
   ]
  },
  {
   "cell_type": "code",
   "execution_count": null,
   "id": "e0837332-e4d7-4286-b09a-ff9f68272120",
   "metadata": {},
   "outputs": [],
   "source": []
  }
 ],
 "metadata": {
  "kernelspec": {
   "display_name": "Python 3 (ipykernel)",
   "language": "python",
   "name": "python3"
  },
  "language_info": {
   "codemirror_mode": {
    "name": "ipython",
    "version": 3
   },
   "file_extension": ".py",
   "mimetype": "text/x-python",
   "name": "python",
   "nbconvert_exporter": "python",
   "pygments_lexer": "ipython3",
   "version": "3.10.0"
  }
 },
 "nbformat": 4,
 "nbformat_minor": 5
}
