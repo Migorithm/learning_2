{
 "cells": [
  {
   "cell_type": "code",
   "execution_count": 1,
   "id": "ae31a80c-ebd7-467f-8a3a-01648fa8c8b0",
   "metadata": {},
   "outputs": [],
   "source": [
    "import re"
   ]
  },
  {
   "cell_type": "markdown",
   "id": "3fbef85c-3c46-4863-ad87-e950b443ca4a",
   "metadata": {},
   "source": [
    "#### Capturing groups\n",
    "\n",
    "- Capturing groups are portions of the pattern that are enclosed in parentheses."
   ]
  },
  {
   "cell_type": "code",
   "execution_count": 2,
   "id": "4bc1e9bf-a2dc-425f-99e1-b0b9d8e3be3b",
   "metadata": {},
   "outputs": [],
   "source": [
    "result = re.search(r\"^(\\w*), (\\w*)$\",\"Lovelace, Ada\")"
   ]
  },
  {
   "cell_type": "code",
   "execution_count": 3,
   "id": "f4a26351-4521-4332-aa2e-aa2c723c5ee8",
   "metadata": {},
   "outputs": [
    {
     "name": "stdout",
     "output_type": "stream",
     "text": [
      "<re.Match object; span=(0, 13), match='Lovelace, Ada'>\n"
     ]
    }
   ],
   "source": [
    "print(result)"
   ]
  },
  {
   "cell_type": "code",
   "execution_count": 4,
   "id": "c4b10a39-4a23-4592-a40d-27e0d6057e83",
   "metadata": {},
   "outputs": [
    {
     "data": {
      "text/plain": [
       "('Lovelace', 'Ada')"
      ]
     },
     "execution_count": 4,
     "metadata": {},
     "output_type": "execute_result"
    }
   ],
   "source": [
    "result.groups()"
   ]
  },
  {
   "cell_type": "markdown",
   "id": "316bad27-65ee-4a7c-813b-52650a610be4",
   "metadata": {},
   "source": [
    "#### The first element contains the text matched by the entire regular expression"
   ]
  },
  {
   "cell_type": "code",
   "execution_count": 5,
   "id": "5dce6fd8-bfc9-4e67-b098-532e2bfef2c3",
   "metadata": {},
   "outputs": [
    {
     "data": {
      "text/plain": [
       "'Lovelace, Ada'"
      ]
     },
     "execution_count": 5,
     "metadata": {},
     "output_type": "execute_result"
    }
   ],
   "source": [
    "result[0]"
   ]
  },
  {
   "cell_type": "markdown",
   "id": "e256ff38-dcbb-4e0d-abac-de89bd841d3e",
   "metadata": {},
   "source": [
    "#### Each successive element contains the data that was matched by every subsequent match group."
   ]
  },
  {
   "cell_type": "code",
   "execution_count": 7,
   "id": "b9c53b3f-a9f5-4f44-9fde-abc2193371ee",
   "metadata": {},
   "outputs": [
    {
     "data": {
      "text/plain": [
       "'Lovelace'"
      ]
     },
     "execution_count": 7,
     "metadata": {},
     "output_type": "execute_result"
    }
   ],
   "source": [
    "result[1]"
   ]
  },
  {
   "cell_type": "code",
   "execution_count": 8,
   "id": "11e76f8b-8b0e-410a-ad49-f0887a5af2e4",
   "metadata": {},
   "outputs": [
    {
     "data": {
      "text/plain": [
       "'Ada'"
      ]
     },
     "execution_count": 8,
     "metadata": {},
     "output_type": "execute_result"
    }
   ],
   "source": [
    "result[2]"
   ]
  },
  {
   "cell_type": "code",
   "execution_count": 10,
   "id": "96d0cdd2-8bcb-4e7b-8758-c18c1804ce61",
   "metadata": {},
   "outputs": [
    {
     "name": "stdout",
     "output_type": "stream",
     "text": [
      "Ada Lovelace\n"
     ]
    }
   ],
   "source": [
    "print(\"{} {}\".format(result[2],result[1]))"
   ]
  },
  {
   "cell_type": "markdown",
   "id": "1185e43e-7243-4557-be98-fa4907423c74",
   "metadata": {},
   "source": [
    "#### Problem\n",
    "Fix the regular expression used in the rearrange_name function so that it can match middle names, middle initials, as well as double surnames."
   ]
  },
  {
   "cell_type": "code",
   "execution_count": 22,
   "id": "7c269418-87b8-488a-be2a-0d5b2e61ab64",
   "metadata": {},
   "outputs": [
    {
     "name": "stdout",
     "output_type": "stream",
     "text": [
      "John F. Kennedy\n"
     ]
    }
   ],
   "source": [
    "def rearrange_name(name):\n",
    "    result = re.search(r\"^(\\w*), ([\\w \\.]*)$\", name)\n",
    "    \n",
    "    if result == None:\n",
    "        return name\n",
    "    return \"{} {}\".format(result[2], result[1])\n",
    "\n",
    "name=rearrange_name(\"Kennedy, John F.\")\n",
    "print(name)"
   ]
  },
  {
   "cell_type": "code",
   "execution_count": null,
   "id": "ae213222-8ea4-4add-8146-bf05297fc72b",
   "metadata": {},
   "outputs": [],
   "source": []
  }
 ],
 "metadata": {
  "kernelspec": {
   "display_name": "Python 3 (ipykernel)",
   "language": "python",
   "name": "python3"
  },
  "language_info": {
   "codemirror_mode": {
    "name": "ipython",
    "version": 3
   },
   "file_extension": ".py",
   "mimetype": "text/x-python",
   "name": "python",
   "nbconvert_exporter": "python",
   "pygments_lexer": "ipython3",
   "version": "3.10.0"
  }
 },
 "nbformat": 4,
 "nbformat_minor": 5
}
