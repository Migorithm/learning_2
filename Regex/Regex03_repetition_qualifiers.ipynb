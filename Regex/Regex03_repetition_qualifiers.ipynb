{
 "cells": [
  {
   "cell_type": "code",
   "execution_count": 1,
   "id": "22d20bf5-73da-4744-9f8d-3c6046373882",
   "metadata": {},
   "outputs": [],
   "source": [
    "import re"
   ]
  },
  {
   "cell_type": "markdown",
   "id": "8c95674c-d4e2-4a58-bce8-6d6e78dc0a52",
   "metadata": {
    "tags": []
   },
   "source": [
    "#### \n",
    "**\"*\"** : 0 or more "
   ]
  },
  {
   "cell_type": "code",
   "execution_count": 2,
   "id": "87a0a9a1-fe14-431c-9baf-a63699b7dba1",
   "metadata": {},
   "outputs": [
    {
     "data": {
      "text/plain": [
       "<re.Match object; span=(0, 9), match='Pygmalion'>"
      ]
     },
     "execution_count": 2,
     "metadata": {},
     "output_type": "execute_result"
    }
   ],
   "source": [
    "re.search(r\"Py.*n\",\"Pygmalion\")"
   ]
  },
  {
   "cell_type": "code",
   "execution_count": 3,
   "id": "7c682e0d-1b77-44ac-a34c-e9321c5fd748",
   "metadata": {},
   "outputs": [
    {
     "data": {
      "text/plain": [
       "<re.Match object; span=(0, 6), match='Python'>"
      ]
     },
     "execution_count": 3,
     "metadata": {},
     "output_type": "execute_result"
    }
   ],
   "source": [
    "re.search(r\"Py[a-z]*n\",\"Python programming\")"
   ]
  },
  {
   "cell_type": "markdown",
   "id": "e81c152d-9a32-4ffb-b127-82f65981bf37",
   "metadata": {
    "jp-MarkdownHeadingCollapsed": true,
    "tags": []
   },
   "source": [
    "\n",
    "\n",
    "\n",
    "\"**+**\" : 1 or more"
   ]
  },
  {
   "cell_type": "code",
   "execution_count": 4,
   "id": "f51242d6-4187-40f9-84c0-d39a8a6112db",
   "metadata": {},
   "outputs": [
    {
     "data": {
      "text/plain": [
       "<re.Match object; span=(1, 3), match='ol'>"
      ]
     },
     "execution_count": 4,
     "metadata": {},
     "output_type": "execute_result"
    }
   ],
   "source": [
    "re.search(r\"o+l+\",\"goldfish\")"
   ]
  },
  {
   "cell_type": "code",
   "execution_count": 5,
   "id": "58386431-b650-4787-b316-86c9bb680011",
   "metadata": {},
   "outputs": [
    {
     "data": {
      "text/plain": [
       "<re.Match object; span=(1, 5), match='ooll'>"
      ]
     },
     "execution_count": 5,
     "metadata": {},
     "output_type": "execute_result"
    }
   ],
   "source": [
    "re.search(r\"o+l+\",\"woolly\")"
   ]
  },
  {
   "cell_type": "code",
   "execution_count": 9,
   "id": "bb20d431-364e-495a-b2ec-559f4dd425c2",
   "metadata": {},
   "outputs": [],
   "source": [
    "re.search(r\"o+l+\",\"Wow\")\n",
    "\n",
    "#return None"
   ]
  },
  {
   "cell_type": "code",
   "execution_count": 7,
   "id": "5ced7125-fced-4fd5-ab11-a0b3fbd80e8d",
   "metadata": {},
   "outputs": [
    {
     "data": {
      "text/plain": [
       "<re.Match object; span=(1, 2), match='o'>"
      ]
     },
     "execution_count": 7,
     "metadata": {},
     "output_type": "execute_result"
    }
   ],
   "source": [
    "re.search(r\"o+l*\",\"Wow\")"
   ]
  },
  {
   "cell_type": "markdown",
   "id": "dd533898-6df9-4b99-96d3-e08e9d0f45d7",
   "metadata": {},
   "source": [
    "#### Problem\n",
    "The repeating_letter_a function checks if the text passed includes the letter \"a\" (lowercase or uppercase) at least twice. For example, repeating_letter_a(\"banana\") is True, while repeating_letter_a(\"pineapple\") is False. Fill in the code to make this work. "
   ]
  },
  {
   "cell_type": "code",
   "execution_count": 10,
   "id": "7e01f814-a3d2-47a8-8bbb-8ef0b1e009dd",
   "metadata": {},
   "outputs": [
    {
     "name": "stdout",
     "output_type": "stream",
     "text": [
      "True\n",
      "False\n",
      "True\n",
      "True\n"
     ]
    }
   ],
   "source": [
    "def repeating_letter_a(text):\n",
    "    result = re.search(r\"[aA][b-zB-Z ]*[aA]\", text)\n",
    "    return result != None\n",
    "\n",
    "print(repeating_letter_a(\"banana\")) # True\n",
    "print(repeating_letter_a(\"pineapple\")) # False\n",
    "print(repeating_letter_a(\"Animal Kingdom\")) # True\n",
    "print(repeating_letter_a(\"A is for apple\")) # True"
   ]
  },
  {
   "cell_type": "markdown",
   "id": "6ac8c4bd-ceeb-45bd-9b47-4c071f84a4a9",
   "metadata": {},
   "source": [
    "#### Question qualifier :: optional\n",
    "**?** : 0 or 1"
   ]
  },
  {
   "cell_type": "code",
   "execution_count": 11,
   "id": "82cf58b4-32c2-4e64-b102-2e85d90ff122",
   "metadata": {},
   "outputs": [
    {
     "data": {
      "text/plain": [
       "<re.Match object; span=(3, 7), match='each'>"
      ]
     },
     "execution_count": 11,
     "metadata": {},
     "output_type": "execute_result"
    }
   ],
   "source": [
    "re.search(r\"[pP]?each\",\"to each their own\")"
   ]
  },
  {
   "cell_type": "code",
   "execution_count": 12,
   "id": "6781e7c0-8722-4331-bf01-9575a48adb6c",
   "metadata": {},
   "outputs": [
    {
     "data": {
      "text/plain": [
       "<re.Match object; span=(0, 5), match='peach'>"
      ]
     },
     "execution_count": 12,
     "metadata": {},
     "output_type": "execute_result"
    }
   ],
   "source": [
    "re.search(r\"[pP]?each\",\"peach\")"
   ]
  },
  {
   "cell_type": "code",
   "execution_count": null,
   "id": "02faa4b1-5716-485a-988f-422cb8efcc78",
   "metadata": {},
   "outputs": [],
   "source": []
  }
 ],
 "metadata": {
  "kernelspec": {
   "display_name": "Python 3 (ipykernel)",
   "language": "python",
   "name": "python3"
  },
  "language_info": {
   "codemirror_mode": {
    "name": "ipython",
    "version": 3
   },
   "file_extension": ".py",
   "mimetype": "text/x-python",
   "name": "python",
   "nbconvert_exporter": "python",
   "pygments_lexer": "ipython3",
   "version": "3.10.0"
  }
 },
 "nbformat": 4,
 "nbformat_minor": 5
}
