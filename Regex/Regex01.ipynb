{
 "cells": [
  {
   "cell_type": "code",
   "execution_count": 3,
   "id": "7b588c01-7b79-4be6-985c-7870513282ad",
   "metadata": {},
   "outputs": [],
   "source": [
    "import re"
   ]
  },
  {
   "cell_type": "markdown",
   "id": "76116040-a18c-4f48-b4e7-5d6a9ea8174e",
   "metadata": {},
   "source": [
    "### Basic Search"
   ]
  },
  {
   "cell_type": "code",
   "execution_count": 5,
   "id": "9b54a03e-13a0-4857-b6f5-01e04adbebf1",
   "metadata": {},
   "outputs": [],
   "source": [
    "result = re.search(r\"aza\",\"plaza\")"
   ]
  },
  {
   "cell_type": "code",
   "execution_count": 6,
   "id": "65bb7b16-7c93-43f4-a385-2cd396a5bda1",
   "metadata": {},
   "outputs": [
    {
     "name": "stdout",
     "output_type": "stream",
     "text": [
      "<re.Match object; span=(2, 5), match='aza'>\n"
     ]
    }
   ],
   "source": [
    "print(result)"
   ]
  },
  {
   "cell_type": "code",
   "execution_count": 7,
   "id": "8142d52f-8ae6-4d2e-a86d-90b7583d2fb0",
   "metadata": {},
   "outputs": [],
   "source": [
    "result2 = re.search(r\"aza\",\"blaze\")"
   ]
  },
  {
   "cell_type": "code",
   "execution_count": 9,
   "id": "a8f41660-911a-4b62-bab7-5282bcd11438",
   "metadata": {},
   "outputs": [
    {
     "name": "stdout",
     "output_type": "stream",
     "text": [
      "None\n"
     ]
    }
   ],
   "source": [
    "print(result2)"
   ]
  },
  {
   "cell_type": "markdown",
   "id": "6128840a-a592-4727-831f-146a2c979e7c",
   "metadata": {},
   "source": [
    "#### special characters\n",
    "- caret\n",
    "- anchor\n",
    "- ."
   ]
  },
  {
   "cell_type": "code",
   "execution_count": 11,
   "id": "beef590a-190a-461a-be46-714c92375295",
   "metadata": {},
   "outputs": [],
   "source": [
    "result3 = re.search(\"^[Xx]\",\"xenon\")\n"
   ]
  },
  {
   "cell_type": "code",
   "execution_count": 12,
   "id": "3046dcef-8e73-4190-be57-4ce07b87f22b",
   "metadata": {},
   "outputs": [
    {
     "name": "stdout",
     "output_type": "stream",
     "text": [
      "<re.Match object; span=(0, 1), match='x'>\n"
     ]
    }
   ],
   "source": [
    "print(result3)"
   ]
  },
  {
   "cell_type": "code",
   "execution_count": 13,
   "id": "ebf9f810-14a0-4dc7-88b4-4c376a6cceb5",
   "metadata": {},
   "outputs": [
    {
     "name": "stdout",
     "output_type": "stream",
     "text": [
      "<re.Match object; span=(0, 4), match='peng'>\n",
      "<re.Match object; span=(4, 8), match='ping'>\n",
      "<re.Match object; span=(4, 8), match='pung'>\n"
     ]
    }
   ],
   "source": [
    "result4 = re.search(\"p.ng\",\"penguin\")\n",
    "result5 = re.search(\"p.ng\",\"clapping\")\n",
    "result6 = re.search(\"p.ng\",\"trappung\")\n",
    "print(result4)\n",
    "print(result5)\n",
    "print(result6)"
   ]
  },
  {
   "cell_type": "markdown",
   "id": "296dee1e-6fbb-41ac-8826-46f2aad94086",
   "metadata": {},
   "source": [
    "#### Problem1 \n",
    "Fill in the code to check if the text passed contains the vowels a, e and i, with exactly one occurrence of any other character in between."
   ]
  },
  {
   "cell_type": "code",
   "execution_count": 16,
   "id": "0e1101b7-7108-4f29-a564-27304de424c3",
   "metadata": {},
   "outputs": [
    {
     "name": "stdout",
     "output_type": "stream",
     "text": [
      "True\n",
      "False\n",
      "True\n"
     ]
    }
   ],
   "source": [
    "def check_aei (text):\n",
    "    result = re.search(r\"a[^aei]e[^aei]i\", text)\n",
    "    return result != None\n",
    "\n",
    "print(check_aei(\"academia\")) # True\n",
    "print(check_aei(\"aerial\")) # False\n",
    "print(check_aei(\"paramedic\")) # True"
   ]
  },
  {
   "cell_type": "markdown",
   "id": "1d4c19c2-d975-45a8-8346-07ffb512d1ab",
   "metadata": {},
   "source": [
    "#### Wanna ignore case?\n",
    "- re.IGNORECASE \n"
   ]
  },
  {
   "cell_type": "code",
   "execution_count": 17,
   "id": "e59c9036-dad1-40c5-8d83-a54807408659",
   "metadata": {},
   "outputs": [
    {
     "name": "stdout",
     "output_type": "stream",
     "text": [
      "<re.Match object; span=(0, 4), match='Peng'>\n"
     ]
    }
   ],
   "source": [
    "search = re.search(\"p.ng\",\"Pengguin\",re.IGNORECASE)\n",
    "print(search)"
   ]
  },
  {
   "cell_type": "code",
   "execution_count": 18,
   "id": "a090badb-074b-4f33-b8ea-42b51f04a413",
   "metadata": {},
   "outputs": [
    {
     "data": {
      "text/plain": [
       "<re.Match object; span=(0, 5), match='Paang'>"
      ]
     },
     "execution_count": 18,
     "metadata": {},
     "output_type": "execute_result"
    }
   ],
   "source": [
    "re.search(r\"p[ab]{2}ng\",\"Paang\",re.IGNORECASE)"
   ]
  },
  {
   "cell_type": "code",
   "execution_count": null,
   "id": "61434e1c-f320-47ec-a5db-1e6a79301f87",
   "metadata": {},
   "outputs": [],
   "source": []
  },
  {
   "cell_type": "code",
   "execution_count": null,
   "id": "d8baafe6-f31a-44ea-aa9d-f1e08539d97d",
   "metadata": {},
   "outputs": [],
   "source": []
  },
  {
   "cell_type": "code",
   "execution_count": null,
   "id": "4e6d4617-2f6f-410f-bbad-a9b8c09bcd75",
   "metadata": {},
   "outputs": [],
   "source": []
  }
 ],
 "metadata": {
  "kernelspec": {
   "display_name": "Python 3 (ipykernel)",
   "language": "python",
   "name": "python3"
  },
  "language_info": {
   "codemirror_mode": {
    "name": "ipython",
    "version": 3
   },
   "file_extension": ".py",
   "mimetype": "text/x-python",
   "name": "python",
   "nbconvert_exporter": "python",
   "pygments_lexer": "ipython3",
   "version": "3.9.4"
  }
 },
 "nbformat": 4,
 "nbformat_minor": 5
}
