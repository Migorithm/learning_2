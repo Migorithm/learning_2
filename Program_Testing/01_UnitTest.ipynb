{
 "cells": [
  {
   "cell_type": "markdown",
   "id": "aca51dbe-5332-4a9c-9259-9ebc2423a8a1",
   "metadata": {},
   "source": [
    "### UnitTest\n",
    "Unit tests are used to verify that small isolated parts of a program are correct.<br>\n",
    "This ensures that any success or failure of the test is caused by the behavior of the unit in question and doesn't result from some external factor like the network being down or a database server being unresponsive. \n"
   ]
  },
  {
   "cell_type": "markdown",
   "id": "20e1a33b-6619-4fae-9492-e24db7e073af",
   "metadata": {},
   "source": [
    "#### Let's look at the snippet of code.\n"
   ]
  },
  {
   "cell_type": "code",
   "execution_count": 3,
   "id": "c060ecce-0c64-4ab3-9f41-b71b6848dc14",
   "metadata": {},
   "outputs": [
    {
     "data": {
      "text/plain": [
       "\u001b[0;32mimport\u001b[0m \u001b[0mre\u001b[0m\u001b[0;34m\u001b[0m\n",
       "\u001b[0;34m\u001b[0m\u001b[0;32mdef\u001b[0m \u001b[0mrearrange_name\u001b[0m\u001b[0;34m(\u001b[0m\u001b[0mname\u001b[0m\u001b[0;34m)\u001b[0m\u001b[0;34m:\u001b[0m\u001b[0;34m\u001b[0m\n",
       "\u001b[0;34m\u001b[0m    \u001b[0mresult\u001b[0m\u001b[0;34m=\u001b[0m\u001b[0mre\u001b[0m\u001b[0;34m.\u001b[0m\u001b[0msearch\u001b[0m\u001b[0;34m(\u001b[0m\u001b[0;34mr\"^([\\w .]*), ([\\w .]*)$\"\u001b[0m\u001b[0;34m,\u001b[0m\u001b[0mname\u001b[0m\u001b[0;34m)\u001b[0m\u001b[0;34m\u001b[0m\n",
       "\u001b[0;34m\u001b[0m    \u001b[0;32mreturn\u001b[0m \u001b[0;34m\"{} {}\"\u001b[0m\u001b[0;34m.\u001b[0m\u001b[0mformat\u001b[0m\u001b[0;34m(\u001b[0m\u001b[0mresult\u001b[0m\u001b[0;34m[\u001b[0m\u001b[0;36m2\u001b[0m\u001b[0;34m]\u001b[0m\u001b[0;34m,\u001b[0m\u001b[0mresult\u001b[0m\u001b[0;34m[\u001b[0m\u001b[0;36m1\u001b[0m\u001b[0;34m]\u001b[0m\u001b[0;34m)\u001b[0m\u001b[0;34m\u001b[0m\u001b[0;34m\u001b[0m\u001b[0m\n"
      ]
     },
     "metadata": {},
     "output_type": "display_data"
    }
   ],
   "source": [
    "%pycat rearrrange.py"
   ]
  },
  {
   "cell_type": "markdown",
   "id": "9af349c8-eaa9-4b68-981f-45428763e5f4",
   "metadata": {},
   "source": [
    "#### How are we gonna test it? "
   ]
  },
  {
   "cell_type": "code",
   "execution_count": 4,
   "id": "3b815ca9-eb29-4240-9a08-35e9c5877856",
   "metadata": {},
   "outputs": [],
   "source": [
    "from rearrrange import rearrange_name"
   ]
  },
  {
   "cell_type": "code",
   "execution_count": 5,
   "id": "03586a6f-17ed-492c-95bb-e5ad061b089a",
   "metadata": {},
   "outputs": [
    {
     "data": {
      "text/plain": [
       "'Ada Lovelace'"
      ]
     },
     "execution_count": 5,
     "metadata": {},
     "output_type": "execute_result"
    }
   ],
   "source": [
    "rearrange_name(\"Lovelace, Ada\")"
   ]
  },
  {
   "cell_type": "markdown",
   "id": "2f8c5ce4-2c72-40e9-b458-773f6338e0cb",
   "metadata": {},
   "source": [
    "#### Like wise, the test focuses on a small, isolated piece of code and validate our assumption about how it works."
   ]
  },
  {
   "cell_type": "markdown",
   "id": "f20fc29e-d019-4d9d-b041-d76916bb2610",
   "metadata": {},
   "source": [
    "#### But then how do we implement automatic testing?\n",
    "To help us with that, Python provides a module called unittest.\n"
   ]
  },
  {
   "cell_type": "code",
   "execution_count": 6,
   "id": "f5010161-362a-487c-81a9-a020d344f76a",
   "metadata": {},
   "outputs": [],
   "source": [
    "import unittest\n",
    "#it has TestCase class with a bunch of testing methods. \n",
    "\n",
    "class TestRearrange(unittest.TestCase):\n",
    "    #By inheriting TestCase, any methods defined in this TestRearrange class that start with the prefix \n",
    "    #'test' will become tests that can be run by the testing framework.\n",
    "    def test_basic(self):\n",
    "        testcase =\"Lovelace, Ada\"\n",
    "        expected =\"Ada Lovelave\"\n",
    "        self.assertEqual(rearrange_name(testcase),expected)\n",
    "    #assertEqual method basically says both of my arguments are equal. -> Bool.\n",
    "        \n",
    "\n",
    "    "
   ]
  },
  {
   "cell_type": "markdown",
   "id": "70eb609d-0881-447e-bbb4-0628a02a2902",
   "metadata": {},
   "source": [
    "#### Okay we got out first unit test. So, how can we run it?"
   ]
  },
  {
   "cell_type": "code",
   "execution_count": 7,
   "id": "84ec4ad3-a4eb-4d9e-899f-9fa230e98fd7",
   "metadata": {},
   "outputs": [],
   "source": [
    "#In our main part of our program, we're gonna call \"unittest.main()\" which will run the test for us."
   ]
  },
  {
   "cell_type": "code",
   "execution_count": 29,
   "id": "77a2f51a-8792-48f2-9b84-5e84b5023f95",
   "metadata": {},
   "outputs": [
    {
     "name": "stderr",
     "output_type": "stream",
     "text": [
      ".\n",
      "----------------------------------------------------------------------\n",
      "Ran 1 test in 0.002s\n",
      "\n",
      "OK\n"
     ]
    }
   ],
   "source": [
    "%run rearrange_test.py"
   ]
  },
  {
   "cell_type": "code",
   "execution_count": 28,
   "id": "8fe6ae50-a481-4ce2-bb81-19fd8aec2fc1",
   "metadata": {},
   "outputs": [
    {
     "data": {
      "text/plain": [
       "'Ada Lovelace'"
      ]
     },
     "execution_count": 28,
     "metadata": {},
     "output_type": "execute_result"
    }
   ],
   "source": [
    "rearrange_name(\"Lovelace, Ada\")"
   ]
  },
  {
   "cell_type": "code",
   "execution_count": 33,
   "id": "f23eb534-68c4-4989-a414-6b69b94c9eb0",
   "metadata": {},
   "outputs": [
    {
     "data": {
      "text/plain": [
       "'cheetsheet.png'"
      ]
     },
     "metadata": {},
     "output_type": "display_data"
    }
   ],
   "source": [
    "from IPython import "
   ]
  },
  {
   "cell_type": "code",
   "execution_count": null,
   "id": "e4dac5b4-f0f5-45f5-ae7d-a93f0326abce",
   "metadata": {},
   "outputs": [],
   "source": []
  }
 ],
 "metadata": {
  "kernelspec": {
   "display_name": "Python 3 (ipykernel)",
   "language": "python",
   "name": "python3"
  },
  "language_info": {
   "codemirror_mode": {
    "name": "ipython",
    "version": 3
   },
   "file_extension": ".py",
   "mimetype": "text/x-python",
   "name": "python",
   "nbconvert_exporter": "python",
   "pygments_lexer": "ipython3",
   "version": "3.10.0"
  }
 },
 "nbformat": 4,
 "nbformat_minor": 5
}
