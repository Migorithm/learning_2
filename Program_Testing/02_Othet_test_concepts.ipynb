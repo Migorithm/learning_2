{
 "cells": [
  {
   "cell_type": "markdown",
   "id": "4eb2d7ea-5678-4bc3-8ae0-76fb4bcdaf9c",
   "metadata": {},
   "source": [
    "### White-box test\n",
    "\n",
    "The test creator knows how the code works and can write test cases that use the understanding to make sure that everything is performing the way it's expected to."
   ]
  },
  {
   "cell_type": "markdown",
   "id": "485ac085-b76b-47bc-9404-e9d6b30db895",
   "metadata": {},
   "source": [
    "### Black-box test\n",
    "in black-box testing, the software being tested is treated like an opaque box. In other words, the tester doesn't know the internals of how the software works. Black-box tests are written with an awareness of what the program is supposed to do, its requirements or specifications, but not how it does it. "
   ]
  },
  {
   "cell_type": "code",
   "execution_count": null,
   "id": "e9d2255e-2430-47d5-bd40-e77f0be35a4e",
   "metadata": {},
   "outputs": [],
   "source": []
  }
 ],
 "metadata": {
  "kernelspec": {
   "display_name": "Python 3 (ipykernel)",
   "language": "python",
   "name": "python3"
  },
  "language_info": {
   "codemirror_mode": {
    "name": "ipython",
    "version": 3
   },
   "file_extension": ".py",
   "mimetype": "text/x-python",
   "name": "python",
   "nbconvert_exporter": "python",
   "pygments_lexer": "ipython3",
   "version": "3.10.0"
  }
 },
 "nbformat": 4,
 "nbformat_minor": 5
}
