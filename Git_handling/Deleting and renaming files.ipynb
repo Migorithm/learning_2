{
 "cells": [
  {
   "cell_type": "markdown",
   "id": "ef3c88ac-bb40-4300-bca1-51d03a945554",
   "metadata": {},
   "source": [
    "Let's say that you've decided to clean up some old scripts and want to remove them from your repository.<br><br>\n",
    "Or you've done some refactoring, which makes that particular file, obsolete. <br><br>\n",
    "\n",
    "You can remove files from your repository with the **git rm** command, which will stop the file from being tracked by git and remove it from the git directory.<br><br>"
   ]
  },
  {
   "cell_type": "code",
   "execution_count": 2,
   "id": "c4187994-6742-47d7-9075-9eb7f079380f",
   "metadata": {},
   "outputs": [
    {
     "name": "stdout",
     "output_type": "stream",
     "text": [
      "On branch main\n",
      "Your branch is up to date with 'origin/main'.\n",
      "\n",
      "Untracked files:\n",
      "  (use \"git add <file>...\" to include in what will be committed)\n",
      "\t.ipynb_checkpoints/Deleting and renaming files-checkpoint.ipynb\n",
      "\t.ipynb_checkpoints/Skipping_staging_area-checkpoint.ipynb\n",
      "\tDeleting and renaming files.ipynb\n",
      "\tSkipping_staging_area.ipynb\n",
      "\tunneeded_file.txt\n",
      "\n",
      "nothing added to commit but untracked files present (use \"git add\" to track)\n"
     ]
    }
   ],
   "source": [
    "!git status \n",
    "#to get \"unneeded_file.txt\" tracked"
   ]
  },
  {
   "cell_type": "code",
   "execution_count": 3,
   "id": "67112dac-1956-47b3-a498-35734cdfc23b",
   "metadata": {},
   "outputs": [],
   "source": [
    "!git add unneeded_file.txt"
   ]
  },
  {
   "cell_type": "code",
   "execution_count": 4,
   "id": "6a142024-f22c-4e71-8e9e-0da1663ed19d",
   "metadata": {},
   "outputs": [
    {
     "name": "stdout",
     "output_type": "stream",
     "text": [
      "[main 25042bd] unneeded_file.txt\n",
      " 1 file changed, 0 insertions(+), 0 deletions(-)\n",
      " create mode 100644 Git_handling/unneeded_file.txt\n"
     ]
    }
   ],
   "source": [
    "!git commit -m \"unneeded_file.txt\""
   ]
  },
  {
   "cell_type": "code",
   "execution_count": 5,
   "id": "ab729e10-0c37-44b7-90f1-2191cf8566dd",
   "metadata": {},
   "outputs": [
    {
     "name": "stdout",
     "output_type": "stream",
     "text": [
      "rm 'Git_handling/unneeded_file.txt'\n"
     ]
    }
   ],
   "source": [
    "!git rm unneeded_file.txt"
   ]
  },
  {
   "cell_type": "code",
   "execution_count": 6,
   "id": "3a9fe235-089d-423b-95b8-a245e2bef320",
   "metadata": {},
   "outputs": [
    {
     "name": "stdout",
     "output_type": "stream",
     "text": [
      "[main 919fe68] delete unneeded_file\n",
      " 1 file changed, 0 insertions(+), 0 deletions(-)\n",
      " delete mode 100644 Git_handling/unneeded_file.txt\n"
     ]
    }
   ],
   "source": [
    "!git commit -m \"delete unneeded_file\""
   ]
  },
  {
   "cell_type": "code",
   "execution_count": 7,
   "id": "4e9a3acb-5df9-4379-a447-f6ca68785544",
   "metadata": {},
   "outputs": [
    {
     "name": "stdout",
     "output_type": "stream",
     "text": [
      "On branch main\n",
      "Your branch is ahead of 'origin/main' by 2 commits.\n",
      "  (use \"git push\" to publish your local commits)\n",
      "\n",
      "Untracked files:\n",
      "  (use \"git add <file>...\" to include in what will be committed)\n",
      "\t.ipynb_checkpoints/Deleting and renaming files-checkpoint.ipynb\n",
      "\t.ipynb_checkpoints/Skipping_staging_area-checkpoint.ipynb\n",
      "\tDeleting and renaming files.ipynb\n",
      "\tSkipping_staging_area.ipynb\n",
      "\n",
      "nothing added to commit but untracked files present (use \"git add\" to track)\n"
     ]
    }
   ],
   "source": [
    "!git status"
   ]
  },
  {
   "cell_type": "code",
   "execution_count": 8,
   "id": "6f227f2a-ae53-4305-9803-476bf03e4397",
   "metadata": {},
   "outputs": [
    {
     "name": "stdout",
     "output_type": "stream",
     "text": [
      "On branch main\n",
      "Your branch is ahead of 'origin/main' by 2 commits.\n",
      "  (use \"git push\" to publish your local commits)\n",
      "\n",
      "Untracked files:\n",
      "  (use \"git add <file>...\" to include in what will be committed)\n",
      "\t.ipynb_checkpoints/Deleting and renaming files-checkpoint.ipynb\n",
      "\t.ipynb_checkpoints/Skipping_staging_area-checkpoint.ipynb\n",
      "\tDeleting and renaming files.ipynb\n",
      "\tSkipping_staging_area.ipynb\n",
      "\trandom.txt\n",
      "\n",
      "nothing added to commit but untracked files present (use \"git add\" to track)\n"
     ]
    }
   ],
   "source": [
    "!git status"
   ]
  },
  {
   "cell_type": "code",
   "execution_count": 9,
   "id": "9309a99d-abbd-4967-a651-66eec7ec84c0",
   "metadata": {},
   "outputs": [],
   "source": [
    "!git add random.txt"
   ]
  },
  {
   "cell_type": "code",
   "execution_count": 11,
   "id": "4eff75e0-1196-48fd-bd5d-7fc024a97c20",
   "metadata": {},
   "outputs": [
    {
     "name": "stderr",
     "output_type": "stream",
     "text": [
      "fatal: bad source, source=Git_handling/random.txt, destination=Git_handling/rand.txt\n"
     ]
    }
   ],
   "source": [
    "!git mv random.txt rand.txt\n",
    "#renaming"
   ]
  },
  {
   "cell_type": "code",
   "execution_count": 12,
   "id": "b1785481-fb20-45ca-90f5-152874b64f79",
   "metadata": {},
   "outputs": [
    {
     "name": "stdout",
     "output_type": "stream",
     "text": [
      "On branch main\n",
      "Your branch is ahead of 'origin/main' by 2 commits.\n",
      "  (use \"git push\" to publish your local commits)\n",
      "\n",
      "Changes to be committed:\n",
      "  (use \"git restore --staged <file>...\" to unstage)\n",
      "\tnew file:   rand.txt\n",
      "\n",
      "Untracked files:\n",
      "  (use \"git add <file>...\" to include in what will be committed)\n",
      "\t.ipynb_checkpoints/Deleting and renaming files-checkpoint.ipynb\n",
      "\t.ipynb_checkpoints/Skipping_staging_area-checkpoint.ipynb\n",
      "\tDeleting and renaming files.ipynb\n",
      "\tSkipping_staging_area.ipynb\n",
      "\n"
     ]
    }
   ],
   "source": [
    "!git status"
   ]
  },
  {
   "cell_type": "markdown",
   "id": "52d25ffd-19c5-44bc-b5a2-14c63951926f",
   "metadata": {},
   "source": [
    "**git commit -a**<br>\n",
    "Stages files automatically<br><br>\n",
    "\n",
    "**git log -p**<br>\n",
    "\n",
    "Produces patch text<br><br>\n",
    "\n",
    "**git show**<br>\n",
    "\n",
    "Shows various objects<br><br>\n",
    "\n",
    "**git diff**<br>\n",
    "\n",
    "Is similar to the Linux `diff` command, and can show the differences in various commits<br><br>\n",
    "\n",
    "**git diff --staged**<br>\n",
    "\n",
    "An alias to --cached, this will show all staged files compared to the named commit<br><br>\n",
    "\n",
    "**git add -p**<br>\n",
    "\n",
    "Allows a user to interactively review patches to add to the current commit<br><br>\n",
    "\n",
    "**git mv**<br>\n",
    "\n",
    "Similar to the Linux `mv` command, this moves a file<br><br>\n",
    "\n",
    "**git rm**<br>\n",
    "\n",
    "Similar to the Linux `rm` command, this deletes, or removes a file<br><br>\n",
    "\n"
   ]
  }
 ],
 "metadata": {
  "kernelspec": {
   "display_name": "Python 3 (ipykernel)",
   "language": "python",
   "name": "python3"
  },
  "language_info": {
   "codemirror_mode": {
    "name": "ipython",
    "version": 3
   },
   "file_extension": ".py",
   "mimetype": "text/x-python",
   "name": "python",
   "nbconvert_exporter": "python",
   "pygments_lexer": "ipython3",
   "version": "3.9.4"
  }
 },
 "nbformat": 4,
 "nbformat_minor": 5
}
