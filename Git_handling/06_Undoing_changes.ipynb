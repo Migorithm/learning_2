{
 "cells": [
  {
   "cell_type": "markdown",
   "id": "80a3d425-51e8-4ece-9d25-13f7a7fffd4c",
   "metadata": {
    "tags": []
   },
   "source": [
    "#### Let's changes something on our file \"abc.txt\" and save"
   ]
  },
  {
   "cell_type": "code",
   "execution_count": 3,
   "id": "474a4828-1b4c-477f-8e2f-9a93fb253289",
   "metadata": {},
   "outputs": [],
   "source": [
    "!echo \"Additional word\" >> abc.txt"
   ]
  },
  {
   "cell_type": "code",
   "execution_count": 4,
   "id": "7ae14f9c-7eae-4dd7-878f-7234e944a605",
   "metadata": {},
   "outputs": [
    {
     "name": "stdout",
     "output_type": "stream",
     "text": [
      "On branch main\n",
      "Your branch is up to date with 'origin/main'.\n",
      "\n",
      "Changes not staged for commit:\n",
      "  (use \"git add <file>...\" to update what will be committed)\n",
      "  (use \"git restore <file>...\" to discard changes in working directory)\n",
      "\t\u001b[31mmodified:   abc.txt\u001b[m\n",
      "\n",
      "Untracked files:\n",
      "  (use \"git add <file>...\" to include in what will be committed)\n",
      "\t\u001b[31m.ipynb_checkpoints/06_Undoing_changes-checkpoint.ipynb\u001b[m\n",
      "\t\u001b[31m.ipynb_checkpoints/abc-checkpoint.txt\u001b[m\n",
      "\t\u001b[31m06_Undoing_changes.ipynb\u001b[m\n",
      "\n",
      "no changes added to commit (use \"git add\" and/or \"git commit -a\")\n"
     ]
    }
   ],
   "source": [
    "!git status"
   ]
  },
  {
   "cell_type": "markdown",
   "id": "da7ac7a1-3337-43cd-a42a-a183f5f166e4",
   "metadata": {},
   "source": [
    "#### To discard current changes, you can use either git checkout or restore."
   ]
  },
  {
   "cell_type": "code",
   "execution_count": 5,
   "id": "0a9111a2-0a6f-477f-9fdd-133a49f37eb9",
   "metadata": {},
   "outputs": [
    {
     "name": "stdout",
     "output_type": "stream",
     "text": [
      "Updated 1 path from the index\n"
     ]
    }
   ],
   "source": [
    "!git checkout abc.txt"
   ]
  },
  {
   "cell_type": "code",
   "execution_count": 6,
   "id": "4606c364-984a-4799-90e9-a99ce7907c66",
   "metadata": {},
   "outputs": [
    {
     "name": "stdout",
     "output_type": "stream",
     "text": [
      "On branch main\n",
      "Your branch is up to date with 'origin/main'.\n",
      "\n",
      "Untracked files:\n",
      "  (use \"git add <file>...\" to include in what will be committed)\n",
      "\t\u001b[31m.ipynb_checkpoints/06_Undoing_changes-checkpoint.ipynb\u001b[m\n",
      "\t\u001b[31m.ipynb_checkpoints/abc-checkpoint.txt\u001b[m\n",
      "\t\u001b[31m06_Undoing_changes.ipynb\u001b[m\n",
      "\n",
      "nothing added to commit but untracked files present (use \"git add\" to track)\n"
     ]
    }
   ],
   "source": [
    "!git status"
   ]
  },
  {
   "cell_type": "code",
   "execution_count": 8,
   "id": "58239ee0-51ce-424c-9fe6-6ee9c8e679e6",
   "metadata": {},
   "outputs": [],
   "source": [
    "!cat abc.txt\n",
    "#It's got nothing!"
   ]
  },
  {
   "cell_type": "code",
   "execution_count": 9,
   "id": "1275d28c-3029-4ee2-a2d8-dc70ab5d4ce2",
   "metadata": {},
   "outputs": [],
   "source": [
    "!echo \"Additional word2\" >> abc.txt"
   ]
  },
  {
   "cell_type": "code",
   "execution_count": 10,
   "id": "234e1e5f-6f0f-42e3-8347-95ea6635d328",
   "metadata": {},
   "outputs": [
    {
     "name": "stdout",
     "output_type": "stream",
     "text": [
      "Additional word2\n"
     ]
    }
   ],
   "source": [
    "!cat abc.txt"
   ]
  },
  {
   "cell_type": "code",
   "execution_count": 11,
   "id": "260fd0b5-3046-4ea9-ac7e-a520e0e8a3e5",
   "metadata": {},
   "outputs": [
    {
     "name": "stdout",
     "output_type": "stream",
     "text": [
      "On branch main\n",
      "Your branch is up to date with 'origin/main'.\n",
      "\n",
      "Changes not staged for commit:\n",
      "  (use \"git add <file>...\" to update what will be committed)\n",
      "  (use \"git restore <file>...\" to discard changes in working directory)\n",
      "\t\u001b[31mmodified:   abc.txt\u001b[m\n",
      "\n",
      "Untracked files:\n",
      "  (use \"git add <file>...\" to include in what will be committed)\n",
      "\t\u001b[31m.ipynb_checkpoints/06_Undoing_changes-checkpoint.ipynb\u001b[m\n",
      "\t\u001b[31m.ipynb_checkpoints/abc-checkpoint.txt\u001b[m\n",
      "\t\u001b[31m06_Undoing_changes.ipynb\u001b[m\n",
      "\n",
      "no changes added to commit (use \"git add\" and/or \"git commit -a\")\n"
     ]
    }
   ],
   "source": [
    "!git status\n"
   ]
  },
  {
   "cell_type": "code",
   "execution_count": 12,
   "id": "52626abb-4c7d-4c93-8916-8184a8ef8c59",
   "metadata": {},
   "outputs": [],
   "source": [
    "!git restore abc.txt"
   ]
  },
  {
   "cell_type": "code",
   "execution_count": 13,
   "id": "bc482414-1937-4c8c-aa03-c2507b566846",
   "metadata": {},
   "outputs": [
    {
     "name": "stdout",
     "output_type": "stream",
     "text": [
      "On branch main\n",
      "Your branch is up to date with 'origin/main'.\n",
      "\n",
      "Untracked files:\n",
      "  (use \"git add <file>...\" to include in what will be committed)\n",
      "\t\u001b[31m.ipynb_checkpoints/06_Undoing_changes-checkpoint.ipynb\u001b[m\n",
      "\t\u001b[31m.ipynb_checkpoints/abc-checkpoint.txt\u001b[m\n",
      "\t\u001b[31m06_Undoing_changes.ipynb\u001b[m\n",
      "\n",
      "nothing added to commit but untracked files present (use \"git add\" to track)\n"
     ]
    }
   ],
   "source": [
    "!git status"
   ]
  },
  {
   "cell_type": "code",
   "execution_count": 14,
   "id": "5e5a65e0-a23c-4ed5-9d69-88bf668650a7",
   "metadata": {},
   "outputs": [],
   "source": [
    "!cat abc.txt"
   ]
  },
  {
   "cell_type": "markdown",
   "id": "cf7793e4-4965-4d04-a130-20c9083df66b",
   "metadata": {},
   "source": [
    "#### if you want to checkout the individual changes instead of the whole file, you can do that by..\n",
    "git checkout -p"
   ]
  },
  {
   "cell_type": "markdown",
   "id": "55375d8b-4d13-4cf0-b628-9842de1836d5",
   "metadata": {},
   "source": [
    "### What if you added the changes to the staging area already? "
   ]
  },
  {
   "cell_type": "code",
   "execution_count": 15,
   "id": "0c50bbeb-8f86-42d1-b267-fc326e1c3e58",
   "metadata": {},
   "outputs": [],
   "source": [
    "#git reset"
   ]
  },
  {
   "cell_type": "code",
   "execution_count": 16,
   "id": "b84fa6cf-e033-4712-8c6e-3fd122ec915e",
   "metadata": {},
   "outputs": [],
   "source": [
    "!./all_checks.py > output.txt"
   ]
  },
  {
   "cell_type": "code",
   "execution_count": 17,
   "id": "4dbb2c69-8d79-4b68-90f0-d19b6f5f1987",
   "metadata": {},
   "outputs": [],
   "source": [
    "!git add * "
   ]
  },
  {
   "cell_type": "code",
   "execution_count": 18,
   "id": "656ffb56-a311-495f-935b-e3c5745e780c",
   "metadata": {},
   "outputs": [
    {
     "name": "stdout",
     "output_type": "stream",
     "text": [
      "On branch main\n",
      "Your branch is up to date with 'origin/main'.\n",
      "\n",
      "Changes to be committed:\n",
      "  (use \"git restore --staged <file>...\" to unstage)\n",
      "\t\u001b[32mnew file:   06_Undoing_changes.ipynb\u001b[m\n",
      "\t\u001b[32mnew file:   output.txt\u001b[m\n",
      "\n",
      "Untracked files:\n",
      "  (use \"git add <file>...\" to include in what will be committed)\n",
      "\t\u001b[31m.ipynb_checkpoints/06_Undoing_changes-checkpoint.ipynb\u001b[m\n",
      "\t\u001b[31m.ipynb_checkpoints/abc-checkpoint.txt\u001b[m\n",
      "\n"
     ]
    }
   ],
   "source": [
    "!git status"
   ]
  },
  {
   "cell_type": "code",
   "execution_count": 19,
   "id": "3eb5bebe-a605-4c17-af11-985852681ceb",
   "metadata": {},
   "outputs": [
    {
     "name": "stdout",
     "output_type": "stream",
     "text": [
      "Unstaged changes after reset:\n",
      "M\tGit_handling/06_Undoing_changes.ipynb\n"
     ]
    }
   ],
   "source": [
    "!git reset HEAD output.txt"
   ]
  },
  {
   "cell_type": "code",
   "execution_count": 20,
   "id": "1550cc32-3fec-433a-807f-8e7c64000714",
   "metadata": {},
   "outputs": [
    {
     "name": "stdout",
     "output_type": "stream",
     "text": [
      "On branch main\n",
      "Your branch is up to date with 'origin/main'.\n",
      "\n",
      "Changes to be committed:\n",
      "  (use \"git restore --staged <file>...\" to unstage)\n",
      "\t\u001b[32mnew file:   06_Undoing_changes.ipynb\u001b[m\n",
      "\n",
      "Changes not staged for commit:\n",
      "  (use \"git add <file>...\" to update what will be committed)\n",
      "  (use \"git restore <file>...\" to discard changes in working directory)\n",
      "\t\u001b[31mmodified:   06_Undoing_changes.ipynb\u001b[m\n",
      "\n",
      "Untracked files:\n",
      "  (use \"git add <file>...\" to include in what will be committed)\n",
      "\t\u001b[31m.ipynb_checkpoints/06_Undoing_changes-checkpoint.ipynb\u001b[m\n",
      "\t\u001b[31m.ipynb_checkpoints/abc-checkpoint.txt\u001b[m\n",
      "\t\u001b[31moutput.txt\u001b[m\n",
      "\n"
     ]
    }
   ],
   "source": [
    "!git status"
   ]
  },
  {
   "cell_type": "code",
   "execution_count": 37,
   "id": "91b8beb6-2d86-44a4-9b61-a97db71cb830",
   "metadata": {},
   "outputs": [],
   "source": [
    "!./all_checks.py >> output.txt"
   ]
  },
  {
   "cell_type": "code",
   "execution_count": 38,
   "id": "a8d74369-a21c-40f0-8f91-c01eb394a517",
   "metadata": {},
   "outputs": [],
   "source": [
    "!git add *"
   ]
  },
  {
   "cell_type": "code",
   "execution_count": 39,
   "id": "65c5cb12-a92c-463d-8d25-d7514a88ea19",
   "metadata": {},
   "outputs": [
    {
     "name": "stdout",
     "output_type": "stream",
     "text": [
      "On branch main\n",
      "Your branch is up to date with 'origin/main'.\n",
      "\n",
      "Changes to be committed:\n",
      "  (use \"git restore --staged <file>...\" to unstage)\n",
      "\t\u001b[32mnew file:   06_Undoing_changes.ipynb\u001b[m\n",
      "\t\u001b[32mmodified:   all_checks.py\u001b[m\n",
      "\t\u001b[32mnew file:   output.txt\u001b[m\n",
      "\n",
      "Changes not staged for commit:\n",
      "  (use \"git add <file>...\" to update what will be committed)\n",
      "  (use \"git restore <file>...\" to discard changes in working directory)\n",
      "\t\u001b[31mmodified:   .ipynb_checkpoints/all_checks-checkpoint.py\u001b[m\n",
      "\n",
      "Untracked files:\n",
      "  (use \"git add <file>...\" to include in what will be committed)\n",
      "\t\u001b[31m.ipynb_checkpoints/06_Undoing_changes-checkpoint.ipynb\u001b[m\n",
      "\t\u001b[31m.ipynb_checkpoints/abc-checkpoint.txt\u001b[m\n",
      "\t\u001b[31m.ipynb_checkpoints/output-checkpoint.txt\u001b[m\n",
      "\n"
     ]
    }
   ],
   "source": [
    "!git status"
   ]
  },
  {
   "cell_type": "code",
   "execution_count": 40,
   "id": "7fe019b0-b7c6-49f9-b3fd-1ad9b34b0e1b",
   "metadata": {},
   "outputs": [
    {
     "name": "stdout",
     "output_type": "stream",
     "text": [
      "Unstaged changes after reset:\n",
      "M\tGit_handling/.ipynb_checkpoints/all_checks-checkpoint.py\n",
      "M\tGit_handling/06_Undoing_changes.ipynb\n"
     ]
    }
   ],
   "source": [
    "!git reset output.txt"
   ]
  },
  {
   "cell_type": "code",
   "execution_count": 41,
   "id": "1e2f9d00-ebe7-40d3-85f9-7542c2d8b2b9",
   "metadata": {},
   "outputs": [
    {
     "name": "stdout",
     "output_type": "stream",
     "text": [
      "[main a77fb84] good!\n",
      " 2 files changed, 391 insertions(+), 2 deletions(-)\n",
      " create mode 100644 Git_handling/06_Undoing_changes.ipynb\n"
     ]
    }
   ],
   "source": [
    "!git commit -m \"good!\""
   ]
  }
 ],
 "metadata": {
  "kernelspec": {
   "display_name": "Python 3 (ipykernel)",
   "language": "python",
   "name": "python3"
  },
  "language_info": {
   "codemirror_mode": {
    "name": "ipython",
    "version": 3
   },
   "file_extension": ".py",
   "mimetype": "text/x-python",
   "name": "python",
   "nbconvert_exporter": "python",
   "pygments_lexer": "ipython3",
   "version": "3.10.0"
  }
 },
 "nbformat": 4,
 "nbformat_minor": 5
}
