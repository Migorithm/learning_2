{
 "cells": [
  {
   "cell_type": "markdown",
   "id": "4641eac1-91ae-4f50-a864-e46bbcabc3fd",
   "metadata": {
    "tags": []
   },
   "source": [
    "#### Imagine this.\n",
    "A colleague is asking our help with fixing a script named disk_usage.py.<br>\n",
    "The goal of the script is to check how much disk space is currently used, and print an error if it's too little space for normal operation.<br><br>\n",
    "**But the script is currently broken because it has a few bugs.**<br>\n",
    "Before we change anything, let’s make a couple copies of the script.<br>\n",
    "We'll add _original to one copy, which we’ll keep unmodified and use for comparison<br>and _fixed to the other copy, which we’ll use to repair our fix.<br>"
   ]
  },
  {
   "cell_type": "code",
   "execution_count": 1,
   "id": "de61d69c-c9c4-4350-b31d-eff2f24115b0",
   "metadata": {},
   "outputs": [
    {
     "data": {
      "text/plain": [
       "\u001b[0;32mimport\u001b[0m \u001b[0mshutil\u001b[0m\u001b[0;34m\u001b[0m\n",
       "\u001b[0;34m\u001b[0m\u001b[0;34m\u001b[0m\n",
       "\u001b[0;34m\u001b[0m\u001b[0;32mdef\u001b[0m \u001b[0mcheck_disk_usage\u001b[0m\u001b[0;34m(\u001b[0m\u001b[0mdisk\u001b[0m\u001b[0;34m,\u001b[0m\u001b[0mmin_absolute\u001b[0m\u001b[0;34m,\u001b[0m\u001b[0mmin_percent\u001b[0m\u001b[0;34m)\u001b[0m\u001b[0;34m:\u001b[0m\u001b[0;34m\u001b[0m\n",
       "\u001b[0;34m\u001b[0m    \u001b[0;34m\"\"\"returns True if there is enough free disk space, false otherwise.\"\"\"\u001b[0m\u001b[0;34m\u001b[0m\n",
       "\u001b[0;34m\u001b[0m    \u001b[0mdu\u001b[0m \u001b[0;34m=\u001b[0m \u001b[0mshutil\u001b[0m\u001b[0;34m.\u001b[0m\u001b[0mdisk_usage\u001b[0m\u001b[0;34m(\u001b[0m\u001b[0mdisk\u001b[0m\u001b[0;34m)\u001b[0m\u001b[0;34m\u001b[0m\n",
       "\u001b[0;34m\u001b[0m    \u001b[0;34m\u001b[0m\n",
       "\u001b[0;34m\u001b[0m    \u001b[0;31m#calculate the percentage of free space\u001b[0m\u001b[0;34m\u001b[0m\n",
       "\u001b[0;34m\u001b[0m    \u001b[0mpercent_free\u001b[0m \u001b[0;34m=\u001b[0m \u001b[0;36m100\u001b[0m\u001b[0;34m*\u001b[0m \u001b[0mdu\u001b[0m\u001b[0;34m.\u001b[0m\u001b[0mfree\u001b[0m \u001b[0;34m/\u001b[0m\u001b[0mdu\u001b[0m\u001b[0;34m.\u001b[0m\u001b[0mtotal\u001b[0m\u001b[0;34m\u001b[0m\n",
       "\u001b[0;34m\u001b[0m    \u001b[0;34m\u001b[0m\n",
       "\u001b[0;34m\u001b[0m    \u001b[0;31m#caculate how many free gigabytes\u001b[0m\u001b[0;34m\u001b[0m\n",
       "\u001b[0;34m\u001b[0m    \u001b[0mgigabytes_free\u001b[0m \u001b[0;34m=\u001b[0m \u001b[0mdu\u001b[0m\u001b[0;34m.\u001b[0m\u001b[0mfree\u001b[0m \u001b[0;34m/\u001b[0m\u001b[0;36m2\u001b[0m\u001b[0;34m**\u001b[0m\u001b[0;36m30\u001b[0m\u001b[0;34m\u001b[0m\n",
       "\u001b[0;34m\u001b[0m    \u001b[0;32mif\u001b[0m \u001b[0mpercent_free\u001b[0m \u001b[0;34m<\u001b[0m\u001b[0mmin_percent\u001b[0m \u001b[0;32mor\u001b[0m \u001b[0mgigabytes_free\u001b[0m \u001b[0;34m<\u001b[0m \u001b[0mmin_absolute\u001b[0m\u001b[0;34m:\u001b[0m\u001b[0;34m\u001b[0m\n",
       "\u001b[0;34m\u001b[0m        \u001b[0;32mreturn\u001b[0m \u001b[0;32mFalse\u001b[0m\u001b[0;34m\u001b[0m\n",
       "\u001b[0;34m\u001b[0m    \u001b[0;32mreturn\u001b[0m \u001b[0;32mTrue\u001b[0m\u001b[0;34m\u001b[0m\n",
       "\u001b[0;34m\u001b[0m\u001b[0;34m\u001b[0m\n",
       "\u001b[0;34m\u001b[0m\u001b[0;31m#Check for at least 2GB and 10% free\u001b[0m\u001b[0;34m\u001b[0m\n",
       "\u001b[0;34m\u001b[0m\u001b[0;32mif\u001b[0m \u001b[0;32mnot\u001b[0m \u001b[0mcheck_disk_usage\u001b[0m\u001b[0;34m(\u001b[0m\u001b[0;34m\"/\"\u001b[0m\u001b[0;34m,\u001b[0m\u001b[0;36m2\u001b[0m\u001b[0;34m*\u001b[0m\u001b[0;36m2\u001b[0m\u001b[0;34m**\u001b[0m\u001b[0;36m30\u001b[0m\u001b[0;34m,\u001b[0m\u001b[0;36m10\u001b[0m\u001b[0;34m)\u001b[0m\u001b[0;34m:\u001b[0m\u001b[0;34m\u001b[0m\n",
       "\u001b[0;34m\u001b[0m    \u001b[0mprint\u001b[0m\u001b[0;34m(\u001b[0m\u001b[0;34m\"ERROR: Not enough disk space\"\u001b[0m\u001b[0;34m)\u001b[0m\u001b[0;34m\u001b[0m\n",
       "\u001b[0;34m\u001b[0m    \u001b[0;32mreturn\u001b[0m \u001b[0;36m1\u001b[0m\u001b[0;34m\u001b[0m\n",
       "\u001b[0;34m\u001b[0m\u001b[0mprint\u001b[0m \u001b[0;34m(\u001b[0m\u001b[0;34m\"Everything ok\"\u001b[0m\u001b[0;34m)\u001b[0m\u001b[0;34m\u001b[0m\n",
       "\u001b[0;34m\u001b[0m\u001b[0;32mreturn\u001b[0m \u001b[0;36m0\u001b[0m\u001b[0;34m\u001b[0m\u001b[0;34m\u001b[0m\u001b[0m\n"
      ]
     },
     "metadata": {},
     "output_type": "display_data"
    }
   ],
   "source": [
    "#firstly, let's look at the original file\n",
    "\n",
    "%pycat ./_02/disk_usage.py"
   ]
  },
  {
   "cell_type": "code",
   "execution_count": 3,
   "id": "458cf90b-8ab4-456d-bf79-af0958131808",
   "metadata": {},
   "outputs": [],
   "source": [
    "#Let's copy the original script."
   ]
  },
  {
   "cell_type": "code",
   "execution_count": 2,
   "id": "213d39f2-422e-4976-8956-6fc531174906",
   "metadata": {
    "tags": []
   },
   "outputs": [],
   "source": [
    "!cp ./_02/disk_usage.py ./_02/disk_usage_original.py\n",
    "!cp ./_02/disk_usage.py ./_02/disk_usage_fixed.py\n"
   ]
  },
  {
   "cell_type": "code",
   "execution_count": 4,
   "id": "6de582b7-fa96-49f7-b586-d19cc9e1714c",
   "metadata": {},
   "outputs": [
    {
     "ename": "SyntaxError",
     "evalue": "'return' outside function (disk_usage_fixed.py, line 19)",
     "output_type": "error",
     "traceback": [
      "\u001b[0;36m  File \u001b[0;32m\"/Users/we/google_course/Git_handling/_02/disk_usage_fixed.py\"\u001b[0;36m, line \u001b[0;32m19\u001b[0m\n\u001b[0;31m    return 1\u001b[0m\n\u001b[0m    ^\u001b[0m\n\u001b[0;31mSyntaxError\u001b[0m\u001b[0;31m:\u001b[0m 'return' outside function\n"
     ]
    }
   ],
   "source": [
    "#To test out, let's run it.\n",
    "%run ./_02/disk_usage_fixed.py"
   ]
  },
  {
   "cell_type": "markdown",
   "id": "687a4938-9e47-4292-9f7b-dbe5cae1d525",
   "metadata": {
    "tags": []
   },
   "source": [
    "#### Error[1]\n",
    "As you can see, there is a return that's not inside any function.<br>\n",
    "In python, we can only use return statements inside functions.<br>\n",
    "How do we fix this?\n",
    "1. **Turning the current code into a function** and call that function from the main part of our script.\n",
    "2. Or we could use **sys.exit** to make the return number of the exit code of our script.\n",
    "\n",
    "For now, let's just go with the second option. "
   ]
  },
  {
   "cell_type": "code",
   "execution_count": 27,
   "id": "818162aa-cc75-4a3d-bc4a-5b878d0bb9db",
   "metadata": {},
   "outputs": [
    {
     "data": {
      "text/plain": [
       "\u001b[0;32mimport\u001b[0m \u001b[0mshutil\u001b[0m\u001b[0;34m\u001b[0m\n",
       "\u001b[0;34m\u001b[0m\u001b[0;32mimport\u001b[0m \u001b[0msys\u001b[0m\u001b[0;34m\u001b[0m\n",
       "\u001b[0;34m\u001b[0m\u001b[0;34m\u001b[0m\n",
       "\u001b[0;34m\u001b[0m\u001b[0;32mdef\u001b[0m \u001b[0mcheck_disk_usage\u001b[0m\u001b[0;34m(\u001b[0m\u001b[0mdisk\u001b[0m\u001b[0;34m,\u001b[0m\u001b[0mmin_absolute\u001b[0m\u001b[0;34m,\u001b[0m\u001b[0mmin_percent\u001b[0m\u001b[0;34m)\u001b[0m\u001b[0;34m:\u001b[0m\u001b[0;34m\u001b[0m\n",
       "\u001b[0;34m\u001b[0m    \u001b[0;34m\"\"\"returns True if there is enough free disk space, false otherwise.\"\"\"\u001b[0m\u001b[0;34m\u001b[0m\n",
       "\u001b[0;34m\u001b[0m    \u001b[0mdu\u001b[0m \u001b[0;34m=\u001b[0m \u001b[0mshutil\u001b[0m\u001b[0;34m.\u001b[0m\u001b[0mdisk_usage\u001b[0m\u001b[0;34m(\u001b[0m\u001b[0mdisk\u001b[0m\u001b[0;34m)\u001b[0m\u001b[0;34m\u001b[0m\n",
       "\u001b[0;34m\u001b[0m    \u001b[0;34m\u001b[0m\n",
       "\u001b[0;34m\u001b[0m    \u001b[0;31m#calculate the percentage of free space\u001b[0m\u001b[0;34m\u001b[0m\n",
       "\u001b[0;34m\u001b[0m    \u001b[0mpercent_free\u001b[0m \u001b[0;34m=\u001b[0m \u001b[0;36m100\u001b[0m\u001b[0;34m*\u001b[0m \u001b[0mdu\u001b[0m\u001b[0;34m.\u001b[0m\u001b[0mfree\u001b[0m \u001b[0;34m/\u001b[0m\u001b[0mdu\u001b[0m\u001b[0;34m.\u001b[0m\u001b[0mtotal\u001b[0m\u001b[0;34m\u001b[0m\n",
       "\u001b[0;34m\u001b[0m    \u001b[0;34m\u001b[0m\n",
       "\u001b[0;34m\u001b[0m    \u001b[0;31m#caculate how many free gigabytes\u001b[0m\u001b[0;34m\u001b[0m\n",
       "\u001b[0;34m\u001b[0m    \u001b[0mgigabytes_free\u001b[0m \u001b[0;34m=\u001b[0m \u001b[0mdu\u001b[0m\u001b[0;34m.\u001b[0m\u001b[0mfree\u001b[0m \u001b[0;34m/\u001b[0m\u001b[0;36m2\u001b[0m\u001b[0;34m**\u001b[0m\u001b[0;36m30\u001b[0m\u001b[0;34m\u001b[0m\n",
       "\u001b[0;34m\u001b[0m    \u001b[0;32mif\u001b[0m \u001b[0mpercent_free\u001b[0m \u001b[0;34m<\u001b[0m\u001b[0mmin_percent\u001b[0m \u001b[0;32mor\u001b[0m \u001b[0mgigabytes_free\u001b[0m \u001b[0;34m<\u001b[0m \u001b[0mmin_absolute\u001b[0m\u001b[0;34m:\u001b[0m\u001b[0;34m\u001b[0m\n",
       "\u001b[0;34m\u001b[0m        \u001b[0;32mreturn\u001b[0m \u001b[0;32mFalse\u001b[0m\u001b[0;34m\u001b[0m\n",
       "\u001b[0;34m\u001b[0m    \u001b[0;32mreturn\u001b[0m \u001b[0;32mTrue\u001b[0m\u001b[0;34m\u001b[0m\n",
       "\u001b[0;34m\u001b[0m\u001b[0;34m\u001b[0m\n",
       "\u001b[0;34m\u001b[0m\u001b[0;31m#Check for at least 2GB and 10% free\u001b[0m\u001b[0;34m\u001b[0m\n",
       "\u001b[0;34m\u001b[0m\u001b[0;32mif\u001b[0m \u001b[0;32mnot\u001b[0m \u001b[0mcheck_disk_usage\u001b[0m\u001b[0;34m(\u001b[0m\u001b[0;34m\"/\"\u001b[0m\u001b[0;34m,\u001b[0m\u001b[0;36m2\u001b[0m\u001b[0;34m*\u001b[0m\u001b[0;36m2\u001b[0m\u001b[0;34m**\u001b[0m\u001b[0;36m30\u001b[0m\u001b[0;34m,\u001b[0m\u001b[0;36m10\u001b[0m\u001b[0;34m)\u001b[0m\u001b[0;34m:\u001b[0m\u001b[0;34m\u001b[0m\n",
       "\u001b[0;34m\u001b[0m    \u001b[0mprint\u001b[0m\u001b[0;34m(\u001b[0m\u001b[0;34m\"ERROR: Not enough disk space\"\u001b[0m\u001b[0;34m)\u001b[0m\u001b[0;34m\u001b[0m\n",
       "\u001b[0;34m\u001b[0m    \u001b[0msys\u001b[0m\u001b[0;34m.\u001b[0m\u001b[0mexit\u001b[0m\u001b[0;34m(\u001b[0m\u001b[0;36m1\u001b[0m\u001b[0;34m)\u001b[0m\u001b[0;34m\u001b[0m\n",
       "\u001b[0;34m\u001b[0m\u001b[0mprint\u001b[0m \u001b[0;34m(\u001b[0m\u001b[0;34m\"Everything ok\"\u001b[0m\u001b[0;34m)\u001b[0m\u001b[0;34m\u001b[0m\n",
       "\u001b[0;34m\u001b[0m\u001b[0msys\u001b[0m\u001b[0;34m.\u001b[0m\u001b[0mexit\u001b[0m\u001b[0;34m(\u001b[0m\u001b[0;36m0\u001b[0m\u001b[0;34m)\u001b[0m\u001b[0;34m\u001b[0m\u001b[0;34m\u001b[0m\u001b[0m\n"
      ]
     },
     "metadata": {},
     "output_type": "display_data"
    }
   ],
   "source": [
    "%pycat ./_02/disk_usage_fixed.py "
   ]
  },
  {
   "cell_type": "markdown",
   "id": "e37577e9-c0d6-4e6f-954c-32551b365289",
   "metadata": {},
   "source": [
    "#### Let's execute the script we've just fixed\n"
   ]
  },
  {
   "cell_type": "code",
   "execution_count": 28,
   "id": "73175692-47ab-438e-8ddc-23009dd37d9b",
   "metadata": {},
   "outputs": [
    {
     "name": "stdout",
     "output_type": "stream",
     "text": [
      "ERROR: Not enough disk space\n"
     ]
    },
    {
     "ename": "SystemExit",
     "evalue": "1",
     "output_type": "error",
     "traceback": [
      "An exception has occurred, use %tb to see the full traceback.\n",
      "\u001b[0;31mSystemExit\u001b[0m\u001b[0;31m:\u001b[0m 1\n"
     ]
    }
   ],
   "source": [
    "%run ./_02/disk_usage_fixed.py"
   ]
  },
  {
   "cell_type": "markdown",
   "id": "491af58d-e439-4ec6-8bbf-604ba2f9a7e3",
   "metadata": {},
   "source": [
    "#### Assuming that we know we actually have some free space, this is just yet another bug we gotta fix.\n",
    "If you look closely at the code, you might notice that the script is converting to gigabytes twice. \n",
    "- once when calling the function, and once inside the function\n",
    "    - gigabytes_free = du.free /2**30\n",
    "    - if not check_disk_usage(\"/\",2*2**30,10):\n",
    "    \n",
    "To fix this, let's just remove '\\*2\\*\\*30' when calling the function"
   ]
  },
  {
   "cell_type": "code",
   "execution_count": 29,
   "id": "e4e630c9-6e1c-487b-8397-912321ee8e46",
   "metadata": {},
   "outputs": [
    {
     "data": {
      "text/plain": [
       "\u001b[0;32mimport\u001b[0m \u001b[0mshutil\u001b[0m\u001b[0;34m\u001b[0m\n",
       "\u001b[0;34m\u001b[0m\u001b[0;32mimport\u001b[0m \u001b[0msys\u001b[0m\u001b[0;34m\u001b[0m\n",
       "\u001b[0;34m\u001b[0m\u001b[0;34m\u001b[0m\n",
       "\u001b[0;34m\u001b[0m\u001b[0;32mdef\u001b[0m \u001b[0mcheck_disk_usage\u001b[0m\u001b[0;34m(\u001b[0m\u001b[0mdisk\u001b[0m\u001b[0;34m,\u001b[0m\u001b[0mmin_absolute\u001b[0m\u001b[0;34m,\u001b[0m\u001b[0mmin_percent\u001b[0m\u001b[0;34m)\u001b[0m\u001b[0;34m:\u001b[0m\u001b[0;34m\u001b[0m\n",
       "\u001b[0;34m\u001b[0m    \u001b[0;34m\"\"\"returns True if there is enough free disk space, false otherwise.\"\"\"\u001b[0m\u001b[0;34m\u001b[0m\n",
       "\u001b[0;34m\u001b[0m    \u001b[0mdu\u001b[0m \u001b[0;34m=\u001b[0m \u001b[0mshutil\u001b[0m\u001b[0;34m.\u001b[0m\u001b[0mdisk_usage\u001b[0m\u001b[0;34m(\u001b[0m\u001b[0mdisk\u001b[0m\u001b[0;34m)\u001b[0m\u001b[0;34m\u001b[0m\n",
       "\u001b[0;34m\u001b[0m    \u001b[0;34m\u001b[0m\n",
       "\u001b[0;34m\u001b[0m    \u001b[0;31m#calculate the percentage of free space\u001b[0m\u001b[0;34m\u001b[0m\n",
       "\u001b[0;34m\u001b[0m    \u001b[0mpercent_free\u001b[0m \u001b[0;34m=\u001b[0m \u001b[0;36m100\u001b[0m\u001b[0;34m*\u001b[0m \u001b[0mdu\u001b[0m\u001b[0;34m.\u001b[0m\u001b[0mfree\u001b[0m \u001b[0;34m/\u001b[0m\u001b[0mdu\u001b[0m\u001b[0;34m.\u001b[0m\u001b[0mtotal\u001b[0m\u001b[0;34m\u001b[0m\n",
       "\u001b[0;34m\u001b[0m    \u001b[0;34m\u001b[0m\n",
       "\u001b[0;34m\u001b[0m    \u001b[0;31m#caculate how many free gigabytes\u001b[0m\u001b[0;34m\u001b[0m\n",
       "\u001b[0;34m\u001b[0m    \u001b[0mgigabytes_free\u001b[0m \u001b[0;34m=\u001b[0m \u001b[0mdu\u001b[0m\u001b[0;34m.\u001b[0m\u001b[0mfree\u001b[0m \u001b[0;34m/\u001b[0m\u001b[0;36m2\u001b[0m\u001b[0;34m**\u001b[0m\u001b[0;36m30\u001b[0m\u001b[0;34m\u001b[0m\n",
       "\u001b[0;34m\u001b[0m    \u001b[0;32mif\u001b[0m \u001b[0mpercent_free\u001b[0m \u001b[0;34m<\u001b[0m\u001b[0mmin_percent\u001b[0m \u001b[0;32mor\u001b[0m \u001b[0mgigabytes_free\u001b[0m \u001b[0;34m<\u001b[0m \u001b[0mmin_absolute\u001b[0m\u001b[0;34m:\u001b[0m\u001b[0;34m\u001b[0m\n",
       "\u001b[0;34m\u001b[0m        \u001b[0;32mreturn\u001b[0m \u001b[0;32mFalse\u001b[0m\u001b[0;34m\u001b[0m\n",
       "\u001b[0;34m\u001b[0m    \u001b[0;32mreturn\u001b[0m \u001b[0;32mTrue\u001b[0m\u001b[0;34m\u001b[0m\n",
       "\u001b[0;34m\u001b[0m\u001b[0;34m\u001b[0m\n",
       "\u001b[0;34m\u001b[0m\u001b[0;31m#Check for at least 2GB and 10% free\u001b[0m\u001b[0;34m\u001b[0m\n",
       "\u001b[0;34m\u001b[0m\u001b[0;32mif\u001b[0m \u001b[0;32mnot\u001b[0m \u001b[0mcheck_disk_usage\u001b[0m\u001b[0;34m(\u001b[0m\u001b[0;34m\"/\"\u001b[0m\u001b[0;34m,\u001b[0m\u001b[0;36m2\u001b[0m\u001b[0;34m,\u001b[0m\u001b[0;36m10\u001b[0m\u001b[0;34m)\u001b[0m\u001b[0;34m:\u001b[0m\u001b[0;34m\u001b[0m\n",
       "\u001b[0;34m\u001b[0m    \u001b[0mprint\u001b[0m\u001b[0;34m(\u001b[0m\u001b[0;34m\"ERROR: Not enough disk space\"\u001b[0m\u001b[0;34m)\u001b[0m\u001b[0;34m\u001b[0m\n",
       "\u001b[0;34m\u001b[0m    \u001b[0msys\u001b[0m\u001b[0;34m.\u001b[0m\u001b[0mexit\u001b[0m\u001b[0;34m(\u001b[0m\u001b[0;36m1\u001b[0m\u001b[0;34m)\u001b[0m\u001b[0;34m\u001b[0m\n",
       "\u001b[0;34m\u001b[0m\u001b[0mprint\u001b[0m \u001b[0;34m(\u001b[0m\u001b[0;34m\"Everything ok\"\u001b[0m\u001b[0;34m)\u001b[0m\u001b[0;34m\u001b[0m\n",
       "\u001b[0;34m\u001b[0m\u001b[0msys\u001b[0m\u001b[0;34m.\u001b[0m\u001b[0mexit\u001b[0m\u001b[0;34m(\u001b[0m\u001b[0;36m0\u001b[0m\u001b[0;34m)\u001b[0m\u001b[0;34m\u001b[0m\u001b[0;34m\u001b[0m\u001b[0m\n"
      ]
     },
     "metadata": {},
     "output_type": "display_data"
    }
   ],
   "source": [
    "%pycat ./_02/disk_usage_fixed.py "
   ]
  },
  {
   "cell_type": "code",
   "execution_count": 30,
   "id": "7ce2099c-20cc-4ffb-aebc-7ff8c0fc90e9",
   "metadata": {},
   "outputs": [
    {
     "name": "stdout",
     "output_type": "stream",
     "text": [
      "Everything ok\n"
     ]
    }
   ],
   "source": [
    "#Let's run that!\n",
    "%run ./_02/disk_usage_fixed.py "
   ]
  },
  {
   "cell_type": "markdown",
   "id": "3db96b77-cada-4e4a-864c-5522aac5a5ea",
   "metadata": {},
   "source": [
    "#### Now we can send the fixed script to your colleague so they can fix it. \n",
    "- diff -u disk_usage_original.py disk_usage_fixed.py > disk_usage.diff"
   ]
  },
  {
   "cell_type": "code",
   "execution_count": 34,
   "id": "1c061f82-ca85-46ab-9f02-c3b768734963",
   "metadata": {},
   "outputs": [],
   "source": [
    "!diff -u ./_02/disk_usage_original.py ./_02/disk_usage_fixed.py > ./_02/disk_usage.diff"
   ]
  },
  {
   "cell_type": "code",
   "execution_count": 35,
   "id": "fb3586fc-717d-4701-abc9-7fad93edc6f3",
   "metadata": {},
   "outputs": [
    {
     "name": "stdout",
     "output_type": "stream",
     "text": [
      "--- ./_02/disk_usage_original.py\t2021-11-12 17:03:47.000000000 +0900\n",
      "+++ ./_02/disk_usage_fixed.py\t2021-11-12 16:59:46.000000000 +0900\n",
      "@@ -15,8 +15,8 @@\n",
      "     return True\n",
      " \n",
      " #Check for at least 2GB and 10% free\n",
      "-if not check_disk_usage(\"/\",2*2**30,10):\n",
      "+if not check_disk_usage(\"/\",2,10):\n",
      "     print(\"ERROR: Not enough disk space\")\n",
      "-    return 1\n",
      "+    sys.exit(1)\n",
      " print (\"Everything ok\")\n",
      "-return 0\n",
      "\\ No newline at end of file\n",
      "+sys.exit(0)\n",
      "\\ No newline at end of file\n"
     ]
    }
   ],
   "source": [
    "#Let's check that out\n",
    "\n",
    "!cat ./_02/disk_usage.diff"
   ]
  },
  {
   "cell_type": "markdown",
   "id": "07ba4b84-8f3b-44a2-8518-65e4ac2dd0eb",
   "metadata": {},
   "source": [
    "#### If your colleague is happy with your correction, they will do the following\n"
   ]
  },
  {
   "cell_type": "code",
   "execution_count": 36,
   "id": "76a24be9-ef18-4810-84e6-90e396b464f8",
   "metadata": {},
   "outputs": [
    {
     "name": "stdout",
     "output_type": "stream",
     "text": [
      "patching file ./_02/disk_usage.py\n"
     ]
    }
   ],
   "source": [
    "!patch ./_02/disk_usage.py < ./_02/disk_usage.diff"
   ]
  },
  {
   "cell_type": "code",
   "execution_count": 37,
   "id": "addb07ff-1aae-4569-b218-80861201e2ff",
   "metadata": {},
   "outputs": [
    {
     "name": "stdout",
     "output_type": "stream",
     "text": [
      "Everything ok\n"
     ]
    }
   ],
   "source": [
    "#Let's check it out\n",
    "%run ./_02/disk_usage.py"
   ]
  },
  {
   "cell_type": "markdown",
   "id": "18ec8979-07b8-48f4-9ea5-22060cf98b89",
   "metadata": {},
   "source": [
    "#### So we've now seen how we can look at differences between files, generate diff together to gather our changes.\n",
    "\n",
    "But then again, this is still a lot of manual work which version control system can really help."
   ]
  }
 ],
 "metadata": {
  "kernelspec": {
   "display_name": "Python 3 (ipykernel)",
   "language": "python",
   "name": "python3"
  },
  "language_info": {
   "codemirror_mode": {
    "name": "ipython",
    "version": 3
   },
   "file_extension": ".py",
   "mimetype": "text/x-python",
   "name": "python",
   "nbconvert_exporter": "python",
   "pygments_lexer": "ipython3",
   "version": "3.10.0"
  }
 },
 "nbformat": 4,
 "nbformat_minor": 5
}
