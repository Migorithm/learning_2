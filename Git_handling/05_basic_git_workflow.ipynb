{
 "cells": [
  {
   "cell_type": "code",
   "execution_count": 1,
   "id": "f56bbebb-ce59-49ef-b3e5-19d2f379c85a",
   "metadata": {},
   "outputs": [
    {
     "name": "stdout",
     "output_type": "stream",
     "text": [
      "credential.helper=osxkeychain\n",
      "user.name=migo\n",
      "user.email=saka90030@gmail.com\n",
      "core.repositoryformatversion=0\n",
      "core.filemode=true\n",
      "core.bare=false\n",
      "core.logallrefupdates=true\n",
      "core.ignorecase=true\n",
      "core.precomposeunicode=true\n",
      "remote.origin.url=https://github.com/Migorithm/learning_2.git\n",
      "remote.origin.fetch=+refs/heads/*:refs/remotes/origin/*\n",
      "branch.main.remote=origin\n",
      "branch.main.merge=refs/heads/main\n"
     ]
    }
   ],
   "source": [
    "!git config -l"
   ]
  },
  {
   "cell_type": "markdown",
   "id": "c7a2476f-0723-48ef-b970-c462d8747b2e",
   "metadata": {},
   "source": [
    "    user.name=migo\n",
    "    user.email=saka90030@gmail.com \n",
    "    \n",
    "The two will appear in public commit logs if you use a shared repository."
   ]
  },
  {
   "cell_type": "code",
   "execution_count": 2,
   "id": "efa01e35-3f28-4b0f-86cc-9ca1ca71d6bb",
   "metadata": {},
   "outputs": [],
   "source": [
    "!chmod +x all_checks.py"
   ]
  },
  {
   "cell_type": "code",
   "execution_count": 3,
   "id": "8dfd52fe-28fa-489f-8460-0f074b7d606d",
   "metadata": {},
   "outputs": [],
   "source": [
    "!git add all_checks.py #this command will immediately move a new file from untracked to stage status"
   ]
  },
  {
   "cell_type": "code",
   "execution_count": 4,
   "id": "6cd1be6b-efc2-4183-9507-0a3948e4a174",
   "metadata": {},
   "outputs": [
    {
     "name": "stdout",
     "output_type": "stream",
     "text": [
      "[main ba2faed] create an empy all_checks.py\n",
      " 1 file changed, 6 insertions(+)\n",
      " create mode 100755 Git_handling/all_checks.py\n"
     ]
    }
   ],
   "source": [
    "#To initinate the changes to be committed, \n",
    "!git commit -m \"create an empy all_checks.py\""
   ]
  },
  {
   "cell_type": "code",
   "execution_count": 5,
   "id": "3cb7f6ec-c7e7-4870-ada7-bfd7ca01747a",
   "metadata": {},
   "outputs": [],
   "source": [
    "#When committing new files or changes with git commit, the user is asked to provide a commit message. \n",
    "#If not provided, the commit will be aborted"
   ]
  },
  {
   "cell_type": "code",
   "execution_count": 6,
   "id": "8f9be6be-4e90-4d00-b7f6-9ed9096caa5f",
   "metadata": {},
   "outputs": [
    {
     "name": "stdout",
     "output_type": "stream",
     "text": [
      "On branch main\n",
      "Your branch is ahead of 'origin/main' by 3 commits.\n",
      "  (use \"git push\" to publish your local commits)\n",
      "\n",
      "Changes not staged for commit:\n",
      "  (use \"git add <file>...\" to update what will be committed)\n",
      "  (use \"git restore <file>...\" to discard changes in working directory)\n",
      "\t\u001b[31mmodified:   04_tracking_files.ipynb\u001b[m\n",
      "\t\u001b[31mmodified:   all_checks.py\u001b[m\n",
      "\n",
      "Untracked files:\n",
      "  (use \"git add <file>...\" to include in what will be committed)\n",
      "\t\u001b[31m.ipynb_checkpoints/05_basic_git_workflow-checkpoint.ipynb\u001b[m\n",
      "\t\u001b[31m.ipynb_checkpoints/all_checks-checkpoint.py\u001b[m\n",
      "\t\u001b[31m05_basic_git_workflow.ipynb\u001b[m\n",
      "\n",
      "no changes added to commit (use \"git add\" and/or \"git commit -a\")\n"
     ]
    }
   ],
   "source": [
    "!git status"
   ]
  },
  {
   "cell_type": "code",
   "execution_count": 7,
   "id": "545af69f-7de3-4144-a527-e96c9adf8841",
   "metadata": {},
   "outputs": [],
   "source": [
    "!git add all_checks.py"
   ]
  },
  {
   "cell_type": "code",
   "execution_count": 8,
   "id": "ffd320c7-7ba1-43d8-a416-fca066c06a6a",
   "metadata": {},
   "outputs": [
    {
     "name": "stdout",
     "output_type": "stream",
     "text": [
      "On branch main\n",
      "Your branch is ahead of 'origin/main' by 3 commits.\n",
      "  (use \"git push\" to publish your local commits)\n",
      "\n",
      "Changes to be committed:\n",
      "  (use \"git restore --staged <file>...\" to unstage)\n",
      "\t\u001b[32mmodified:   all_checks.py\u001b[m\n",
      "\n",
      "Changes not staged for commit:\n",
      "  (use \"git add <file>...\" to update what will be committed)\n",
      "  (use \"git restore <file>...\" to discard changes in working directory)\n",
      "\t\u001b[31mmodified:   04_tracking_files.ipynb\u001b[m\n",
      "\n",
      "Untracked files:\n",
      "  (use \"git add <file>...\" to include in what will be committed)\n",
      "\t\u001b[31m.ipynb_checkpoints/05_basic_git_workflow-checkpoint.ipynb\u001b[m\n",
      "\t\u001b[31m.ipynb_checkpoints/all_checks-checkpoint.py\u001b[m\n",
      "\t\u001b[31m05_basic_git_workflow.ipynb\u001b[m\n",
      "\n"
     ]
    }
   ],
   "source": [
    "!git status"
   ]
  },
  {
   "cell_type": "code",
   "execution_count": 9,
   "id": "3a9da735-e234-4b48-bd1a-b98636fa9250",
   "metadata": {},
   "outputs": [
    {
     "name": "stdout",
     "output_type": "stream",
     "text": [
      "[main 5e8242f] add a check_reboot function\n",
      " 1 file changed, 5 insertions(+)\n"
     ]
    }
   ],
   "source": [
    "!git commit -m \"add a check_reboot function\""
   ]
  },
  {
   "cell_type": "code",
   "execution_count": 10,
   "id": "eccb24f3-5af1-42eb-a536-5ea8ad32bd67",
   "metadata": {},
   "outputs": [
    {
     "name": "stdout",
     "output_type": "stream",
     "text": [
      "\u001b[33mcommit 5e8242f4593cc8109ff85eb2a42f69e17083ded8\u001b[m\u001b[33m (\u001b[m\u001b[1;36mHEAD -> \u001b[m\u001b[1;32mmain\u001b[m\u001b[33m)\u001b[m\n",
      "Author: migo <saka90030@gmail.com>\n",
      "Date:   Mon Nov 15 20:26:38 2021 +0900\n",
      "\n",
      "    add a check_reboot function\n",
      "\n",
      "\u001b[33mcommit ba2faedbe0f2b7c5735dc78d0d5140f388382f44\u001b[m\n",
      "Author: migo <saka90030@gmail.com>\n",
      "Date:   Mon Nov 15 20:22:12 2021 +0900\n",
      "\n",
      "    create an empy all_checks.py\n",
      "\n",
      "\u001b[33mcommit 6d926c63728a4a5253a9550041054d9a158f3b33\u001b[m\n",
      "Author: migo <saka90030@gmail.com>\n",
      "Date:   Mon Nov 15 20:15:21 2021 +0900\n",
      "\n",
      "    add more contents to git_handling\n",
      "\n",
      "\u001b[33mcommit f2aeb9296a5f5e7d19787e98a4044147864ef143\u001b[m\n",
      "Author: migo <saka90030@gmail.com>\n",
      "Date:   Mon Nov 15 20:03:16 2021 +0900\n",
      "\n",
      "    new change\n",
      "\n",
      "\u001b[33mcommit d4b441e9740ba41291e80381d095a9cffce92233\u001b[m\u001b[33m (\u001b[m\u001b[1;31morigin/main\u001b[m\u001b[33m)\u001b[m\n",
      "Author: migo <saka90030@gmail.com>\n",
      "Date:   Fri Nov 12 19:01:42 2021 +0900\n",
      "\n",
      "    git\n",
      "\n",
      "\u001b[33mcommit 68498b5e58bdae41d0d004ba7442b6b2502fc64a\u001b[m\n",
      "Author: we <we@2021100003.local>\n",
      "Date:   Fri Nov 12 18:08:50 2021 +0900\n",
      "\n",
      "    VCS\n",
      "\n",
      "\u001b[33mcommit 86b7b5989c14038a1cbc208b5a2deacffa20f77c\u001b[m\n",
      "Merge: 47badf1 c1ab9cd\n",
      "Author: we <we@2021100003.local>\n",
      "Date:   Fri Nov 12 14:38:28 2021 +0900\n",
      "\n",
      "    Merge branch 'main' of https://github.com/Migorithm/learning_2\n",
      "\n",
      "\u001b[33mcommit 47badf1e9b35b38a06c74896cb2e22e799a73298\u001b[m\n",
      "Author: we <we@2021100003.local>\n",
      "Date:   Fri Nov 12 14:38:22 2021 +0900\n",
      "\n",
      "     dd\n",
      "\n",
      "\u001b[33mcommit c1ab9cd395ac0395315a025cc83982eb298a432f\u001b[m\n",
      "Author: Migorithm <saka90030@gmail.com>\n",
      "Date:   Fri Nov 12 00:54:45 2021 +0900\n",
      "\n",
      "    jam\n",
      "\n",
      "\u001b[33mcommit c734c13b40ab20ab0fc88498a68727aff120ec00\u001b[m\n",
      "Merge: 53bfda5 7bcf7b4\n",
      "Author: we <we@2021100003.local>\n",
      "Date:   Wed Nov 10 16:15:54 2021 +0900\n",
      "\n",
      "    Merge branch 'main' of https://github.com/Migorithm/learning_2\n",
      "\n",
      "\u001b[33mcommit 53bfda57db1416168e61b1afbf4c2fa338aa90e7\u001b[m\n",
      "Author: we <we@2021100003.local>\n",
      "Date:   Wed Nov 10 16:15:45 2021 +0900\n",
      "\n",
      "    redis\n",
      "\n",
      "\u001b[33mcommit 7bcf7b415fd2342127189c4b389915e23e21d645\u001b[m\n",
      "Merge: a22d722 51e35d1\n",
      "Author: Migorithm <saka90030@gmail.com>\n",
      "Date:   Wed Nov 10 09:02:51 2021 +0900\n",
      "\n",
      "    Merge branch 'main' of https://github.com/Migorithm/learning_2\n",
      "\n",
      "\u001b[33mcommit a22d72272ef562eb5a89641798e556079ae51da3\u001b[m\n",
      "Author: Migorithm <saka90030@gmail.com>\n",
      "Date:   Wed Nov 10 09:02:43 2021 +0900\n",
      "\n",
      "    dsd\n",
      "\n",
      "\u001b[33mcommit 51e35d1321b1594c5f79c5a59e759b80bba7d56c\u001b[m\n",
      "Author: Migo <81314124+Migorithm@users.noreply.github.com>\n",
      "Date:   Wed Nov 10 09:02:27 2021 +0900\n",
      "\n",
      "    Delete abc.txt\n",
      "\n",
      "\u001b[33mcommit 5898a7e47293f81b0667cf55214f746d757aa7be\u001b[m\n",
      "Author: Migorithm <saka90030@gmail.com>\n",
      "Date:   Wed Nov 10 09:00:58 2021 +0900\n",
      "\n",
      "    dds\n",
      "\n",
      "\u001b[33mcommit d3a933bf671fec63d63ba28d0990ea90b387ccb9\u001b[m\n",
      "Author: Migorithm <saka90030@gmail.com>\n",
      "Date:   Wed Nov 10 09:00:16 2021 +0900\n",
      "\n",
      "    dsds\n",
      "\n",
      "\u001b[33mcommit fca24038aab37b0f7a9a146d41836a3bfcc5a53e\u001b[m\n",
      "Author: Migorithm <saka90030@gmail.com>\n",
      "Date:   Wed Nov 10 08:59:56 2021 +0900\n",
      "\n",
      "    ds\n",
      "\n",
      "\u001b[33mcommit 4dc04d80d8cc81f191bff538fe2f22f34a9ac2ef\u001b[m\n",
      "Author: Migorithm <saka90030@gmail.com>\n",
      "Date:   Wed Nov 10 08:58:34 2021 +0900\n",
      "\n",
      "    dsd\n",
      "\n",
      "\u001b[33mcommit 77027a1901c68034d4b9022ef313b39b6a8d020c\u001b[m\n",
      "Author: Migorithm <saka90030@gmail.com>\n",
      "Date:   Wed Nov 10 08:57:08 2021 +0900\n",
      "\n",
      "    ds\n",
      "\n",
      "\u001b[33mcommit 505c9888ec36c2356ca44bb012adddd49f99f822\u001b[m\n",
      "Author: Migorithm <saka90030@gmail.com>\n",
      "Date:   Wed Nov 10 08:55:20 2021 +0900\n",
      "\n",
      "    d\n",
      "\n",
      "\u001b[33mcommit 4108a9c8b9dc749779822651bd383eb24f0a61a0\u001b[m\n",
      "Author: Migorithm <saka90030@gmail.com>\n",
      "Date:   Wed Nov 10 08:53:38 2021 +0900\n",
      "\n",
      "    dsds\n",
      "\n",
      "\u001b[33mcommit 5d96a55542e71833496bdc79edf0eb2813ce1d93\u001b[m\n",
      "Author: Migorithm <saka90030@gmail.com>\n",
      "Date:   Wed Nov 10 08:52:58 2021 +0900\n",
      "\n",
      "    him..\n",
      "\n",
      "\u001b[33mcommit e7bc532d468ed89b77eee08e8f84c2d64e2eee07\u001b[m\n",
      "Author: Migorithm <saka90030@gmail.com>\n",
      "Date:   Wed Nov 10 08:51:50 2021 +0900\n",
      "\n",
      "    delete venv\n",
      "\n",
      "\u001b[33mcommit 89907b2bd21b6e92dce90aa097f3897466dbe3ce\u001b[m\n",
      "Author: Migorithm <saka90030@gmail.com>\n",
      "Date:   Wed Nov 10 08:51:16 2021 +0900\n",
      "\n",
      "     test2\n",
      "\n",
      "\u001b[33mcommit fe71634b67f849d7e50f01dd8b0feb587e3662cb\u001b[m\n",
      "Author: Migorithm <saka90030@gmail.com>\n",
      "Date:   Wed Nov 10 08:49:20 2021 +0900\n",
      "\n",
      "    test\n",
      "\n",
      "\u001b[33mcommit 4ba0a239804f2a8fbe607aca1e281516b6d0f05c\u001b[m\n",
      "Author: Migorithm <saka90030@gmail.com>\n",
      "Date:   Wed Nov 10 08:39:49 2021 +0900\n",
      "\n",
      "    test2\n",
      "\n",
      "\u001b[33mcommit 78deac1571e1b18bcf64b78e2ed5f9fecc783240\u001b[m\n",
      "Author: Migorithm <saka90030@gmail.com>\n",
      "Date:   Wed Nov 10 08:39:20 2021 +0900\n",
      "\n",
      "     test\n",
      "\n",
      "\u001b[33mcommit 6bbe0d817901c5a52da88ad7275aaec017478fbe\u001b[m\n",
      "Author: we <we@2021100003.local>\n",
      "Date:   Tue Nov 9 21:34:52 2021 +0900\n",
      "\n",
      "    raise, assert, except\n",
      "\n",
      "\u001b[33mcommit 1307f44e2597e1fce3c921084f7072a9b0d4f05d\u001b[m\n",
      "Author: we <we@2021100003.local>\n",
      "Date:   Tue Nov 9 21:07:06 2021 +0900\n",
      "\n",
      "    other tests\n",
      "\n",
      "\u001b[33mcommit 192eb09b0d5fdb9a4af3fc3e6e1fa62b14e13c01\u001b[m\n",
      "Author: we <we@2021100003.local>\n",
      "Date:   Tue Nov 9 20:44:24 2021 +0900\n",
      "\n",
      "    unit test\n",
      "\n",
      "\u001b[33mcommit e76b8d21ce7162a5287009610382252941431c9b\u001b[m\n",
      "Author: we <we@2021100003.local>\n",
      "Date:   Mon Nov 8 21:52:13 2021 +0900\n",
      "\n",
      "    os handling\n",
      "\n",
      "\u001b[33mcommit 95452c51dacd612f5e703799c9dcab34de12b7e5\u001b[m\n",
      "Author: we <we@2021100003.local>\n",
      "Date:   Mon Nov 8 19:49:47 2021 +0900\n",
      "\n",
      "    first commit\n"
     ]
    }
   ],
   "source": [
    "!git log"
   ]
  },
  {
   "cell_type": "code",
   "execution_count": 11,
   "id": "05512afd-a3b8-4329-99e9-3de24d8304c8",
   "metadata": {},
   "outputs": [],
   "source": [
    "#commit + identifier\n",
    "#author indicates who made this commit.\n"
   ]
  }
 ],
 "metadata": {
  "kernelspec": {
   "display_name": "Python 3 (ipykernel)",
   "language": "python",
   "name": "python3"
  },
  "language_info": {
   "codemirror_mode": {
    "name": "ipython",
    "version": 3
   },
   "file_extension": ".py",
   "mimetype": "text/x-python",
   "name": "python",
   "nbconvert_exporter": "python",
   "pygments_lexer": "ipython3",
   "version": "3.10.0"
  }
 },
 "nbformat": 4,
 "nbformat_minor": 5
}
