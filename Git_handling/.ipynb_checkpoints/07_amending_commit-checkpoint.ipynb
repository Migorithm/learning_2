{
 "cells": [
  {
   "cell_type": "markdown",
   "id": "5430ffd6-5665-4f0d-bb9c-ec17ee39af73",
   "metadata": {},
   "source": [
    "#### \n",
    "--amend"
   ]
  },
  {
   "cell_type": "code",
   "execution_count": 2,
   "id": "d83a3f81-278b-4be2-8ea1-6d2ea444018c",
   "metadata": {},
   "outputs": [
    {
     "name": "stdout",
     "output_type": "stream",
     "text": [
      "total 32\n",
      "-rw-r--r--  1 we  staff    0 Nov 16 20:19 auto-update.py\n",
      "-rw-r--r--  1 we  staff  466 Nov 12 17:03 disk_usage.diff\n",
      "-rw-r--r--  1 we  staff  628 Nov 12 17:06 disk_usage.py\n",
      "-rw-r--r--  1 we  staff  628 Nov 12 16:59 disk_usage_fixed.py\n",
      "-rw-r--r--  1 we  staff  628 Nov 12 17:03 disk_usage_original.py\n",
      "-rw-r--r--  1 we  staff    0 Nov 16 20:19 garther-information.sh\n"
     ]
    }
   ],
   "source": [
    "!touch ./_02/auto-update.py\n",
    "!touch ./_02/garther-information.sh\n",
    "!ls -l ./_02/"
   ]
  },
  {
   "cell_type": "code",
   "execution_count": 3,
   "id": "64f40018-c263-4de1-bb5b-6d300e8faf9e",
   "metadata": {},
   "outputs": [],
   "source": [
    "!git add ./_02/auto-update.py"
   ]
  },
  {
   "cell_type": "code",
   "execution_count": 4,
   "id": "aa5c225e-49b4-48fc-a596-3980a571e393",
   "metadata": {},
   "outputs": [
    {
     "name": "stdout",
     "output_type": "stream",
     "text": [
      "[main 7d6d6c4] Add two new scripts!\n",
      " 1 file changed, 0 insertions(+), 0 deletions(-)\n",
      " create mode 100644 Git_handling/_02/auto-update.py\n"
     ]
    }
   ],
   "source": [
    "!git commit -m \"Add two new scripts!\""
   ]
  },
  {
   "cell_type": "markdown",
   "id": "2b50eac9-1884-40ab-883a-c67547ab54d6",
   "metadata": {},
   "source": [
    "#### As you can see, we've added just one script as opposed to two. So the description is wrong. "
   ]
  },
  {
   "cell_type": "code",
   "execution_count": 5,
   "id": "7b815527-f3c3-4e9f-b552-cfea6590579b",
   "metadata": {},
   "outputs": [],
   "source": [
    "!git add ./_02/garther-information.sh"
   ]
  },
  {
   "cell_type": "code",
   "execution_count": null,
   "id": "d3dd0143-28e9-4515-b82f-28feba0c953c",
   "metadata": {},
   "outputs": [],
   "source": [
    "!git commit --amend "
   ]
  }
 ],
 "metadata": {
  "kernelspec": {
   "display_name": "Python 3 (ipykernel)",
   "language": "python",
   "name": "python3"
  },
  "language_info": {
   "codemirror_mode": {
    "name": "ipython",
    "version": 3
   },
   "file_extension": ".py",
   "mimetype": "text/x-python",
   "name": "python",
   "nbconvert_exporter": "python",
   "pygments_lexer": "ipython3",
   "version": "3.10.0"
  }
 },
 "nbformat": 4,
 "nbformat_minor": 5
}
