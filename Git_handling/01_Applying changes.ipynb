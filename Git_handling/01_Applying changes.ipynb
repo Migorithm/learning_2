{
 "cells": [
  {
   "cell_type": "markdown",
   "id": "84c1d335-55c5-438c-be7c-00a871d98769",
   "metadata": {
    "tags": []
   },
   "source": [
    "### Applying changes"
   ]
  },
  {
   "cell_type": "code",
   "execution_count": 1,
   "id": "d44be17b-eee6-4fe5-a574-8b2b86f6b90e",
   "metadata": {},
   "outputs": [
    {
     "data": {
      "text/plain": [
       "\u001b[0;31m#!/bin/python3\u001b[0m\u001b[0;34m\u001b[0m\n",
       "\u001b[0;34m\u001b[0m\u001b[0;32mimport\u001b[0m \u001b[0mpsutil\u001b[0m\u001b[0;34m\u001b[0m\n",
       "\u001b[0;34m\u001b[0m\u001b[0;32mdef\u001b[0m \u001b[0mcheck_cpu_usage\u001b[0m\u001b[0;34m(\u001b[0m\u001b[0mpercent\u001b[0m\u001b[0;34m)\u001b[0m\u001b[0;34m:\u001b[0m\u001b[0;34m\u001b[0m\n",
       "\u001b[0;34m\u001b[0m    \u001b[0musage\u001b[0m \u001b[0;34m=\u001b[0m \u001b[0mpsutil\u001b[0m\u001b[0;34m.\u001b[0m\u001b[0mcpu_percent\u001b[0m\u001b[0;34m(\u001b[0m\u001b[0;34m)\u001b[0m\u001b[0;34m\u001b[0m\n",
       "\u001b[0;34m\u001b[0m    \u001b[0;32mreturn\u001b[0m \u001b[0musage\u001b[0m \u001b[0;34m<\u001b[0m \u001b[0mpercent\u001b[0m\u001b[0;34m\u001b[0m\n",
       "\u001b[0;34m\u001b[0m\u001b[0;34m\u001b[0m\n",
       "\u001b[0;34m\u001b[0m\u001b[0;32mif\u001b[0m \u001b[0;32mnot\u001b[0m \u001b[0mcheck_cpu_usage\u001b[0m\u001b[0;34m(\u001b[0m\u001b[0;36m75\u001b[0m\u001b[0;34m)\u001b[0m\u001b[0;34m:\u001b[0m\u001b[0;34m\u001b[0m\n",
       "\u001b[0;34m\u001b[0m    \u001b[0mprint\u001b[0m\u001b[0;34m(\u001b[0m\u001b[0;34m\"CPU is being overloaded!\"\u001b[0m\u001b[0;34m)\u001b[0m\u001b[0;34m\u001b[0m\n",
       "\u001b[0;34m\u001b[0m\u001b[0;32melse\u001b[0m\u001b[0;34m:\u001b[0m\u001b[0;34m\u001b[0m\n",
       "\u001b[0;34m\u001b[0m    \u001b[0mprint\u001b[0m\u001b[0;34m(\u001b[0m\u001b[0;34m\"It's fine\"\u001b[0m\u001b[0;34m)\u001b[0m\u001b[0;34m\u001b[0m\u001b[0;34m\u001b[0m\u001b[0m\n"
      ]
     },
     "metadata": {},
     "output_type": "display_data"
    }
   ],
   "source": [
    "%pycat cpu_usage.py"
   ]
  },
  {
   "cell_type": "markdown",
   "id": "785f4b83-d66c-46e2-999c-1c6c6770f097",
   "metadata": {},
   "source": [
    "##### the above script actually has a problem. But still when you run this, if will give the following result. "
   ]
  },
  {
   "cell_type": "code",
   "execution_count": 3,
   "id": "0c3132e0-3e34-4884-99ff-6546f2742f99",
   "metadata": {},
   "outputs": [
    {
     "name": "stdout",
     "output_type": "stream",
     "text": [
      "It's fine\n"
     ]
    }
   ],
   "source": [
    "%run cpu_usage.py"
   ]
  },
  {
   "cell_type": "markdown",
   "id": "6180a602-037a-49bb-8c5a-37feb4866a41",
   "metadata": {
    "tags": []
   },
   "source": [
    "This is becuase cpu_percent() returns the average of cpu usage given the 'interval'.<br> \n",
    "When interval is not provided, it always return 0, therefore meaningless result."
   ]
  },
  {
   "cell_type": "code",
   "execution_count": 27,
   "id": "51fca93d-e7cc-433d-bb4c-3580c31c0c38",
   "metadata": {},
   "outputs": [],
   "source": [
    "!diff -u cpu_usage.py cpu_usage_fixed.py > cpu_usage.diff"
   ]
  },
  {
   "cell_type": "markdown",
   "id": "50b9aa43-f312-474b-bbba-e28cbf1b4706",
   "metadata": {
    "tags": []
   },
   "source": [
    "#### Thanks for you colleague. BUT, how are you gonna apply that change to your original code? \n",
    "- patch command!\n",
    "- using redirection(<) to redirect the contents of the file to standard input.\n",
    "\n",
    "Before we go, let's check out three different files."
   ]
  },
  {
   "cell_type": "code",
   "execution_count": 29,
   "id": "5a58930a-77f0-4203-91d1-18553155f457",
   "metadata": {},
   "outputs": [
    {
     "data": {
      "text/plain": [
       "\u001b[0;31m#!/bin/python3\u001b[0m\u001b[0;34m\u001b[0m\n",
       "\u001b[0;34m\u001b[0m\u001b[0;32mimport\u001b[0m \u001b[0mpsutil\u001b[0m\u001b[0;34m\u001b[0m\n",
       "\u001b[0;34m\u001b[0m\u001b[0;32mdef\u001b[0m \u001b[0mcheck_cpu_usage\u001b[0m\u001b[0;34m(\u001b[0m\u001b[0mpercent\u001b[0m\u001b[0;34m)\u001b[0m\u001b[0;34m:\u001b[0m\u001b[0;34m\u001b[0m\n",
       "\u001b[0;34m\u001b[0m    \u001b[0musage\u001b[0m \u001b[0;34m=\u001b[0m \u001b[0mpsutil\u001b[0m\u001b[0;34m.\u001b[0m\u001b[0mcpu_percent\u001b[0m\u001b[0;34m(\u001b[0m\u001b[0;34m)\u001b[0m\u001b[0;34m\u001b[0m\n",
       "\u001b[0;34m\u001b[0m    \u001b[0;32mreturn\u001b[0m \u001b[0musage\u001b[0m \u001b[0;34m<\u001b[0m \u001b[0mpercent\u001b[0m\u001b[0;34m\u001b[0m\n",
       "\u001b[0;34m\u001b[0m\u001b[0;34m\u001b[0m\n",
       "\u001b[0;34m\u001b[0m\u001b[0;32mif\u001b[0m \u001b[0;32mnot\u001b[0m \u001b[0mcheck_cpu_usage\u001b[0m\u001b[0;34m(\u001b[0m\u001b[0;36m75\u001b[0m\u001b[0;34m)\u001b[0m\u001b[0;34m:\u001b[0m\u001b[0;34m\u001b[0m\n",
       "\u001b[0;34m\u001b[0m    \u001b[0mprint\u001b[0m\u001b[0;34m(\u001b[0m\u001b[0;34m\"CPU is being overloaded!\"\u001b[0m\u001b[0;34m)\u001b[0m\u001b[0;34m\u001b[0m\n",
       "\u001b[0;34m\u001b[0m\u001b[0;32melse\u001b[0m\u001b[0;34m:\u001b[0m\u001b[0;34m\u001b[0m\n",
       "\u001b[0;34m\u001b[0m    \u001b[0mprint\u001b[0m\u001b[0;34m(\u001b[0m\u001b[0;34m\"It's fine\"\u001b[0m\u001b[0;34m)\u001b[0m\u001b[0;34m\u001b[0m\u001b[0;34m\u001b[0m\u001b[0m\n"
      ]
     },
     "metadata": {},
     "output_type": "display_data"
    }
   ],
   "source": [
    "%pycat cpu_usage.py"
   ]
  },
  {
   "cell_type": "code",
   "execution_count": 30,
   "id": "eea1d4bb-ad4c-4470-abc0-563b1da02117",
   "metadata": {},
   "outputs": [
    {
     "data": {
      "text/plain": [
       "\u001b[0;31m#!/bin/python3\u001b[0m\u001b[0;34m\u001b[0m\n",
       "\u001b[0;34m\u001b[0m\u001b[0;32mimport\u001b[0m \u001b[0mpsutil\u001b[0m\u001b[0;34m\u001b[0m\n",
       "\u001b[0;34m\u001b[0m\u001b[0;32mdef\u001b[0m \u001b[0mcheck_cpu_usage\u001b[0m\u001b[0;34m(\u001b[0m\u001b[0mpercent\u001b[0m\u001b[0;34m)\u001b[0m\u001b[0;34m:\u001b[0m\u001b[0;34m\u001b[0m\n",
       "\u001b[0;34m\u001b[0m    \u001b[0musage\u001b[0m \u001b[0;34m=\u001b[0m \u001b[0mpustil\u001b[0m\u001b[0;34m.\u001b[0m\u001b[0mcpu_percent\u001b[0m\u001b[0;34m(\u001b[0m\u001b[0;36m1\u001b[0m\u001b[0;34m)\u001b[0m\u001b[0;34m\u001b[0m\n",
       "\u001b[0;34m\u001b[0m    \u001b[0mprint\u001b[0m\u001b[0;34m(\u001b[0m\u001b[0;34m\"DEBUG: usage: {}\"\u001b[0m\u001b[0;34m.\u001b[0m\u001b[0mformat\u001b[0m\u001b[0;34m(\u001b[0m\u001b[0musage\u001b[0m\u001b[0;34m)\u001b[0m\u001b[0;34m)\u001b[0m\u001b[0;34m\u001b[0m\n",
       "\u001b[0;34m\u001b[0m    \u001b[0;32mreturn\u001b[0m \u001b[0musage\u001b[0m \u001b[0;34m<\u001b[0m \u001b[0mpercent\u001b[0m\u001b[0;34m\u001b[0m\n",
       "\u001b[0;34m\u001b[0m\u001b[0;34m\u001b[0m\n",
       "\u001b[0;34m\u001b[0m\u001b[0;32mif\u001b[0m \u001b[0;32mnot\u001b[0m \u001b[0mcheck_cpu_usage\u001b[0m\u001b[0;34m(\u001b[0m\u001b[0;36m75\u001b[0m\u001b[0;34m)\u001b[0m\u001b[0;34m:\u001b[0m\u001b[0;34m\u001b[0m\n",
       "\u001b[0;34m\u001b[0m    \u001b[0mprint\u001b[0m\u001b[0;34m(\u001b[0m\u001b[0;34m\"CPU is being overloaded!\"\u001b[0m\u001b[0;34m)\u001b[0m\u001b[0;34m\u001b[0m\n",
       "\u001b[0;34m\u001b[0m\u001b[0;32melse\u001b[0m\u001b[0;34m:\u001b[0m\u001b[0;34m\u001b[0m\n",
       "\u001b[0;34m\u001b[0m    \u001b[0mprint\u001b[0m\u001b[0;34m(\u001b[0m\u001b[0;34m\"It's fine\"\u001b[0m\u001b[0;34m)\u001b[0m\u001b[0;34m\u001b[0m\u001b[0;34m\u001b[0m\u001b[0m\n"
      ]
     },
     "metadata": {},
     "output_type": "display_data"
    }
   ],
   "source": [
    "%pycat cpu_usage_fixed.py"
   ]
  },
  {
   "cell_type": "code",
   "execution_count": 31,
   "id": "36c6c998-1928-4cd8-b303-23c6a4191f47",
   "metadata": {},
   "outputs": [
    {
     "name": "stdout",
     "output_type": "stream",
     "text": [
      "--- cpu_usage.py\t2021-11-12 15:59:41.000000000 +0900\n",
      "+++ cpu_usage_fixed.py\t2021-11-12 15:59:40.000000000 +0900\n",
      "@@ -1,11 +1,11 @@\n",
      " #!/bin/python3\n",
      " import psutil\n",
      " def check_cpu_usage(percent):\n",
      "-    usage = psutil.cpu_percent()\n",
      "+    usage = pustil.cpu_percent(1)\n",
      "+    print(\"DEBUG: usage: {}\".format(usage))\n",
      "     return usage < percent\n",
      " \n",
      " if not check_cpu_usage(75):\n",
      "     print(\"CPU is being overloaded!\")\n",
      " else:\n",
      "-    print(\"It's fine\")\n",
      "-    \n",
      "\\ No newline at end of file\n",
      "+    print(\"It's fine\")\n",
      "\\ No newline at end of file\n"
     ]
    }
   ],
   "source": [
    "%cat cpu_usage.diff"
   ]
  },
  {
   "cell_type": "markdown",
   "id": "738a4d24-08bd-43a4-acdb-585d5cf2ae7b",
   "metadata": {},
   "source": [
    "#### Let's patch them!\n"
   ]
  },
  {
   "cell_type": "code",
   "execution_count": 32,
   "id": "6f169283-85f7-493f-be34-6dc37cc6e867",
   "metadata": {},
   "outputs": [
    {
     "name": "stdout",
     "output_type": "stream",
     "text": [
      "patching file cpu_usage.py\n"
     ]
    }
   ],
   "source": [
    "!patch cpu_usage.py < cpu_usage.diff"
   ]
  },
  {
   "cell_type": "code",
   "execution_count": 34,
   "id": "ac6e1df4-1e98-43dd-bdc8-ed0f54e2d2b6",
   "metadata": {},
   "outputs": [
    {
     "data": {
      "text/plain": [
       "\u001b[0;31m#!/bin/python3\u001b[0m\u001b[0;34m\u001b[0m\n",
       "\u001b[0;34m\u001b[0m\u001b[0;32mimport\u001b[0m \u001b[0mpsutil\u001b[0m\u001b[0;34m\u001b[0m\n",
       "\u001b[0;34m\u001b[0m\u001b[0;32mdef\u001b[0m \u001b[0mcheck_cpu_usage\u001b[0m\u001b[0;34m(\u001b[0m\u001b[0mpercent\u001b[0m\u001b[0;34m)\u001b[0m\u001b[0;34m:\u001b[0m\u001b[0;34m\u001b[0m\n",
       "\u001b[0;34m\u001b[0m    \u001b[0musage\u001b[0m \u001b[0;34m=\u001b[0m \u001b[0mpustil\u001b[0m\u001b[0;34m.\u001b[0m\u001b[0mcpu_percent\u001b[0m\u001b[0;34m(\u001b[0m\u001b[0;36m1\u001b[0m\u001b[0;34m)\u001b[0m\u001b[0;34m\u001b[0m\n",
       "\u001b[0;34m\u001b[0m    \u001b[0mprint\u001b[0m\u001b[0;34m(\u001b[0m\u001b[0;34m\"DEBUG: usage: {}\"\u001b[0m\u001b[0;34m.\u001b[0m\u001b[0mformat\u001b[0m\u001b[0;34m(\u001b[0m\u001b[0musage\u001b[0m\u001b[0;34m)\u001b[0m\u001b[0;34m)\u001b[0m\u001b[0;34m\u001b[0m\n",
       "\u001b[0;34m\u001b[0m    \u001b[0;32mreturn\u001b[0m \u001b[0musage\u001b[0m \u001b[0;34m<\u001b[0m \u001b[0mpercent\u001b[0m\u001b[0;34m\u001b[0m\n",
       "\u001b[0;34m\u001b[0m\u001b[0;34m\u001b[0m\n",
       "\u001b[0;34m\u001b[0m\u001b[0;32mif\u001b[0m \u001b[0;32mnot\u001b[0m \u001b[0mcheck_cpu_usage\u001b[0m\u001b[0;34m(\u001b[0m\u001b[0;36m75\u001b[0m\u001b[0;34m)\u001b[0m\u001b[0;34m:\u001b[0m\u001b[0;34m\u001b[0m\n",
       "\u001b[0;34m\u001b[0m    \u001b[0mprint\u001b[0m\u001b[0;34m(\u001b[0m\u001b[0;34m\"CPU is being overloaded!\"\u001b[0m\u001b[0;34m)\u001b[0m\u001b[0;34m\u001b[0m\n",
       "\u001b[0;34m\u001b[0m\u001b[0;32melse\u001b[0m\u001b[0;34m:\u001b[0m\u001b[0;34m\u001b[0m\n",
       "\u001b[0;34m\u001b[0m    \u001b[0mprint\u001b[0m\u001b[0;34m(\u001b[0m\u001b[0;34m\"It's fine\"\u001b[0m\u001b[0;34m)\u001b[0m\u001b[0;34m\u001b[0m\u001b[0;34m\u001b[0m\u001b[0m\n"
      ]
     },
     "metadata": {},
     "output_type": "display_data"
    }
   ],
   "source": [
    "#check\n",
    "\n",
    "%pycat cpu_usage.py"
   ]
  },
  {
   "cell_type": "markdown",
   "id": "8475e84e-ad35-4117-8991-40b8d8a65a1b",
   "metadata": {},
   "source": [
    "#### why not just send the whole file instead?\n",
    "Because;\n",
    "- the original code could've changed.\n",
    "    - by using a diff instead of the whole file, we can clearly see what they changed. \n",
    "    - patch command can detect that there were changes made to the file, and will do its best to apply the diff anyways. \n",
    "- Another reason is structure.\n",
    "    - you might be modifying a bunch of large files inside of a huge project that has, for example, 100 different files. \n",
    "    - if you were to send the whole files, you need to specify where those files were supposed to be placed. \n",
    "    - we can diff we can diff whole directory structures and in that case, the diff file can specify where each change file should be.  \n",
    "    "
   ]
  },
  {
   "cell_type": "code",
   "execution_count": null,
   "id": "c2689b69-12f3-4b7e-bf18-7d9c06f1e17b",
   "metadata": {},
   "outputs": [],
   "source": []
  }
 ],
 "metadata": {
  "kernelspec": {
   "display_name": "Python 3 (ipykernel)",
   "language": "python",
   "name": "python3"
  },
  "language_info": {
   "codemirror_mode": {
    "name": "ipython",
    "version": 3
   },
   "file_extension": ".py",
   "mimetype": "text/x-python",
   "name": "python",
   "nbconvert_exporter": "python",
   "pygments_lexer": "ipython3",
   "version": "3.9.4"
  }
 },
 "nbformat": 4,
 "nbformat_minor": 5
}
