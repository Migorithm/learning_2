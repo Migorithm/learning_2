{
 "cells": [
  {
   "cell_type": "markdown",
   "id": "09d6eba7-6652-49fd-995e-6dc6ba5cbf34",
   "metadata": {},
   "source": [
    "### Git project will consist of three sections. \n",
    "- The Git directory\n",
    "    - contains the history of all the files and changes.\n",
    "- The working tree\n",
    "    - Current state of the project\n",
    "- The staging area"
   ]
  },
  {
   "cell_type": "markdown",
   "id": "e4919311-e450-4c1c-9f81-4df458b188d1",
   "metadata": {},
   "source": [
    "#### let's dive into the details of how we track changes to our files. \n",
    "When we operate with Git, our files can be either tracked or untracked. Tracked files are part of the snapshots, while untracked files aren't a part of snapshots YET.<br>\n",
    "\n",
    "This is the usual case for new files. Each track file can be in one of three main states; \n",
    "- modified \n",
    "    - We've made changes to the file, but haven't commited yet.(adding, modifying, deleting and so on)\n",
    "- staged\n",
    "    - All files that are staged will be aprt of the next snapshot we take. \n",
    "- committed\n",
    "    \n",
    "Let's see these in action"
   ]
  },
  {
   "cell_type": "code",
   "execution_count": 1,
   "id": "94e7467e-9e4a-44c4-8965-17408f754e67",
   "metadata": {},
   "outputs": [
    {
     "name": "stdout",
     "output_type": "stream",
     "text": [
      "On branch main\n",
      "Your branch is ahead of 'origin/main' by 1 commit.\n",
      "  (use \"git push\" to publish your local commits)\n",
      "\n",
      "Changes not staged for commit:\n",
      "  (use \"git add <file>...\" to update what will be committed)\n",
      "  (use \"git restore <file>...\" to discard changes in working directory)\n",
      "\t\u001b[31mmodified:   03_git_config.ipynb\u001b[m\n",
      "\n",
      "Untracked files:\n",
      "  (use \"git add <file>...\" to include in what will be committed)\n",
      "\t\u001b[31m.ipynb_checkpoints/04_tracking_files-checkpoint.ipynb\u001b[m\n",
      "\t\u001b[31m04_tracking_files.ipynb\u001b[m\n",
      "\n",
      "no changes added to commit (use \"git add\" and/or \"git commit -a\")\n"
     ]
    }
   ],
   "source": [
    "!git status"
   ]
  },
  {
   "cell_type": "markdown",
   "id": "71ec8f5b-cd1d-4c62-b9a9-78e020d0b18f",
   "metadata": {},
   "source": [
    "#### notice how the file we changed is now marked as modified."
   ]
  },
  {
   "cell_type": "code",
   "execution_count": null,
   "id": "9822695b-b359-4a7f-b821-a5ec0fd5f20a",
   "metadata": {},
   "outputs": [],
   "source": []
  }
 ],
 "metadata": {
  "kernelspec": {
   "display_name": "Python 3 (ipykernel)",
   "language": "python",
   "name": "python3"
  },
  "language_info": {
   "codemirror_mode": {
    "name": "ipython",
    "version": 3
   },
   "file_extension": ".py",
   "mimetype": "text/x-python",
   "name": "python",
   "nbconvert_exporter": "python",
   "pygments_lexer": "ipython3",
   "version": "3.10.0"
  }
 },
 "nbformat": 4,
 "nbformat_minor": 5
}
