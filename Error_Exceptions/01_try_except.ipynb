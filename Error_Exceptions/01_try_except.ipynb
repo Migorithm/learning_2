{
 "cells": [
  {
   "cell_type": "code",
   "execution_count": 1,
   "id": "9ad743b5-b627-4520-b97e-edc17f28ea14",
   "metadata": {},
   "outputs": [],
   "source": [
    "def read_file(filename):\n",
    "    if not os.path.exists(filename):\n",
    "        return \"\"\n",
    "    if not os.path.isfile(filename):\n",
    "        return \"\"\n",
    "    if not os.access(filename,os.R_OK):\n",
    "        return \"\"\n",
    "    if is_locked(filename):\n",
    "        return \"\""
   ]
  },
  {
   "cell_type": "markdown",
   "id": "7d4d71ad-453f-4789-a908-be0d5ce012b9",
   "metadata": {},
   "source": [
    "#### ... How many IFs will be required to check all the cases? \n",
    "Millions!<br>\n",
    "\n",
    "To solve this problem, we have try-except.\n",
    "\n"
   ]
  },
  {
   "cell_type": "code",
   "execution_count": 2,
   "id": "1c8908be-ba87-4fa2-a39c-809ca51fea6a",
   "metadata": {},
   "outputs": [],
   "source": [
    "def character_frequency(filename):\n",
    "    \"\"\"counts the frequency of each character in the given file..\"\"\"\n",
    "    #Firstly, try to open the file\n",
    "    try:\n",
    "        f=open(filename)\n",
    "    except OSError:\n",
    "        return None\n",
    "    \n",
    "    #Now process the file\n",
    "    characters ={}\n",
    "    for line in f:\n",
    "        for char in line:\n",
    "            characters[char] = characters.get(char,0)+1\n",
    "    f.close()\n",
    "    return characters\n"
   ]
  },
  {
   "cell_type": "code",
   "execution_count": 3,
   "id": "126bcd47-9800-44e4-a193-f9b70191d95d",
   "metadata": {},
   "outputs": [
    {
     "data": {
      "text/plain": [
       "{'i': 15,\n",
       " 'm': 7,\n",
       " 'p': 5,\n",
       " 'o': 8,\n",
       " 'r': 11,\n",
       " 't': 13,\n",
       " ' ': 34,\n",
       " 's': 14,\n",
       " '\\n': 10,\n",
       " 'y': 4,\n",
       " 'f': 10,\n",
       " 'l': 8,\n",
       " 'e': 22,\n",
       " 'n': 8,\n",
       " 'a': 11,\n",
       " '=': 1,\n",
       " '.': 6,\n",
       " 'g': 1,\n",
       " 'v': 1,\n",
       " '[': 1,\n",
       " '1': 2,\n",
       " ']': 1,\n",
       " 'h': 3,\n",
       " 'x': 3,\n",
       " '(': 6,\n",
       " ')': 6,\n",
       " ':': 3,\n",
       " 'w': 4,\n",
       " ',': 2,\n",
       " \"'\": 2,\n",
       " '\"': 4,\n",
       " 'N': 1,\n",
       " 'c': 1,\n",
       " 'd': 2,\n",
       " '\\\\': 1,\n",
       " 'E': 1,\n",
       " '{': 1,\n",
       " '}': 1,\n",
       " '!': 1}"
      ]
     },
     "execution_count": 3,
     "metadata": {},
     "output_type": "execute_result"
    }
   ],
   "source": [
    "character_frequency(\"../OS_handling/create_file.py\")"
   ]
  },
  {
   "cell_type": "code",
   "execution_count": 4,
   "id": "bc70efb5-a044-40ec-a1d8-d11a6cb13323",
   "metadata": {},
   "outputs": [],
   "source": [
    "character_frequency(\"dasd\")"
   ]
  },
  {
   "cell_type": "code",
   "execution_count": null,
   "id": "4e261416-b5e0-44eb-9a84-b72fc11ec986",
   "metadata": {},
   "outputs": [],
   "source": []
  }
 ],
 "metadata": {
  "kernelspec": {
   "display_name": "Python 3 (ipykernel)",
   "language": "python",
   "name": "python3"
  },
  "language_info": {
   "codemirror_mode": {
    "name": "ipython",
    "version": 3
   },
   "file_extension": ".py",
   "mimetype": "text/x-python",
   "name": "python",
   "nbconvert_exporter": "python",
   "pygments_lexer": "ipython3",
   "version": "3.10.0"
  }
 },
 "nbformat": 4,
 "nbformat_minor": 5
}
