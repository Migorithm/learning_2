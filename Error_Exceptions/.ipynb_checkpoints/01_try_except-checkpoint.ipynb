{
 "cells": [
  {
   "cell_type": "code",
   "execution_count": 1,
   "id": "9ad743b5-b627-4520-b97e-edc17f28ea14",
   "metadata": {},
   "outputs": [],
   "source": [
    "def read_file(filename):\n",
    "    if not os.path.exists(filename):\n",
    "        return \"\"\n",
    "    if not os.path.isfile(filename):\n",
    "        return \"\"\n",
    "    if not os.access(filename,os.R_OK):\n",
    "        return \"\"\n",
    "    if is_locked(filename):\n",
    "        return \"\""
   ]
  },
  {
   "cell_type": "markdown",
   "id": "7d4d71ad-453f-4789-a908-be0d5ce012b9",
   "metadata": {},
   "source": [
    "#### ... How many IFs will be required to check all the cases? \n",
    "Millions!<br>\n",
    "\n",
    "To solve this problem, we have try-except.\n",
    "\n"
   ]
  },
  {
   "cell_type": "code",
   "execution_count": 2,
   "id": "1c8908be-ba87-4fa2-a39c-809ca51fea6a",
   "metadata": {},
   "outputs": [],
   "source": [
    "def character_frequency(filename):\n",
    "    \"\"\"counts the frequency of each character in the given file..\"\"\"\n",
    "    #Firstly, try to open the file\n",
    "    try:\n",
    "        f=open(filename)\n",
    "    except OSError:\n",
    "        return None\n",
    "    \n",
    "    #Now process the file\n",
    "    characters ={}\n",
    "    for line in f:\n",
    "        for char in line:\n",
    "            characters[char] = characters.get(char,0)+1\n",
    "    f.close()\n",
    "    return characters\n"
   ]
  },
  {
   "cell_type": "code",
   "execution_count": null,
   "id": "126bcd47-9800-44e4-a193-f9b70191d95d",
   "metadata": {},
   "outputs": [],
   "source": []
  }
 ],
 "metadata": {
  "kernelspec": {
   "display_name": "Python 3 (ipykernel)",
   "language": "python",
   "name": "python3"
  },
  "language_info": {
   "codemirror_mode": {
    "name": "ipython",
    "version": 3
   },
   "file_extension": ".py",
   "mimetype": "text/x-python",
   "name": "python",
   "nbconvert_exporter": "python",
   "pygments_lexer": "ipython3",
   "version": "3.10.0"
  }
 },
 "nbformat": 4,
 "nbformat_minor": 5
}
