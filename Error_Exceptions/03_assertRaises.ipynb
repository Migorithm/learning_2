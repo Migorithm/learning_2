{
 "cells": [
  {
   "cell_type": "code",
   "execution_count": 1,
   "id": "e19e9cc6-001b-445f-99e4-bf179fdd5e5f",
   "metadata": {},
   "outputs": [],
   "source": [
    "import unittest"
   ]
  },
  {
   "cell_type": "code",
   "execution_count": 6,
   "id": "b3cc52fb-48d9-4d71-93c8-3cbcf75388c9",
   "metadata": {},
   "outputs": [],
   "source": [
    "\n",
    "def validate_user(username,minlen):\n",
    "    assert type(username) ==str, \"username must be a string\"\n",
    "    if minlen <1 : \n",
    "        raise ValueError(\"minlen must be at least 1\")\n",
    "    if len(username) < minlen:\n",
    "        return False\n",
    "    if not username.isalnum():\n",
    "        return False\n",
    "    return True\n",
    "\n",
    "class TestValidateUser(unittest.TestCase):\n",
    "    def test_valid(self):\n",
    "        self.assertEqual(validate_user(\"validuser\",3),True)\n",
    "    \n",
    "    def test_too_short(self):\n",
    "        self.assertEqual(validate_user(\"inv\",5),False)\n",
    "    def test_invalid_characters(self):\n",
    "        self.assertEqual(validate_user(\"invalid_user\",1),False)\n",
    "    \n",
    "    def test_invalid_minlen(self):\n",
    "        self.assertRaises(ValueError,validate_user,\"user\",-1)\n",
    "        \n",
    "    #We can see that the assert raises method works a little bit differently than the assert equal method that we used before.\n",
    "    #In this case, we need to first pass the error that we expect the function to raise. Then the function name, \n",
    "    #followed by any parameters that need to be passed to that function. "
   ]
  },
  {
   "cell_type": "code",
   "execution_count": 8,
   "id": "62ceb834-c32e-4cb4-823e-55afa35f67d4",
   "metadata": {},
   "outputs": [
    {
     "name": "stderr",
     "output_type": "stream",
     "text": [
      "....\n",
      "----------------------------------------------------------------------\n",
      "Ran 4 tests in 0.005s\n",
      "\n",
      "OK\n"
     ]
    },
    {
     "data": {
      "text/plain": [
       "<unittest.main.TestProgram at 0x112db3df0>"
      ]
     },
     "execution_count": 8,
     "metadata": {},
     "output_type": "execute_result"
    }
   ],
   "source": [
    "unittest.main(argv = ['first-arg-is-ignored'], exit = False)"
   ]
  },
  {
   "cell_type": "code",
   "execution_count": null,
   "id": "429b19ac-10e5-4fd8-9fb4-c475ee638e69",
   "metadata": {},
   "outputs": [],
   "source": []
  }
 ],
 "metadata": {
  "kernelspec": {
   "display_name": "Python 3 (ipykernel)",
   "language": "python",
   "name": "python3"
  },
  "language_info": {
   "codemirror_mode": {
    "name": "ipython",
    "version": 3
   },
   "file_extension": ".py",
   "mimetype": "text/x-python",
   "name": "python",
   "nbconvert_exporter": "python",
   "pygments_lexer": "ipython3",
   "version": "3.10.0"
  }
 },
 "nbformat": 4,
 "nbformat_minor": 5
}
