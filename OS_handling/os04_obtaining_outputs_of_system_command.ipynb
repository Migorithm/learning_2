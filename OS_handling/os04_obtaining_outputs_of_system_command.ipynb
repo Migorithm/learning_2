{
 "cells": [
  {
   "cell_type": "code",
   "execution_count": 3,
   "id": "46b082de-8912-4f94-99bd-85d6df421339",
   "metadata": {},
   "outputs": [],
   "source": [
    "import subprocess"
   ]
  },
  {
   "cell_type": "code",
   "execution_count": 4,
   "id": "0bdc7f10-74ac-4dd0-a221-690a852a4e8d",
   "metadata": {},
   "outputs": [],
   "source": [
    "result = subprocess.run([\"host\",\"8.8.8.8\"], capture_output=True)"
   ]
  },
  {
   "cell_type": "code",
   "execution_count": 5,
   "id": "316d1482-a360-439c-b378-48e0898470c8",
   "metadata": {},
   "outputs": [
    {
     "name": "stdout",
     "output_type": "stream",
     "text": [
      "0\n"
     ]
    }
   ],
   "source": [
    "print(result.returncode)"
   ]
  },
  {
   "cell_type": "code",
   "execution_count": 6,
   "id": "a9f8a966-d61c-4d42-b61d-b12796817ba2",
   "metadata": {},
   "outputs": [
    {
     "name": "stdout",
     "output_type": "stream",
     "text": [
      "b'8.8.8.8.in-addr.arpa domain name pointer dns.google.\\n'\n"
     ]
    }
   ],
   "source": [
    "print(result.stdout)"
   ]
  },
  {
   "cell_type": "markdown",
   "id": "d27345e9-29e0-470e-bf32-013603225789",
   "metadata": {},
   "source": [
    "#### It's byte type! - gotta convert it to proper string"
   ]
  },
  {
   "cell_type": "code",
   "execution_count": 13,
   "id": "69ae2cea-b9b0-4847-992b-add659919146",
   "metadata": {},
   "outputs": [
    {
     "data": {
      "text/plain": [
       "'8.8.8.8.in-addr.arpa domain name pointer dns.google.\\n'"
      ]
     },
     "execution_count": 13,
     "metadata": {},
     "output_type": "execute_result"
    }
   ],
   "source": [
    "result.stdout.decode('utf-8')"
   ]
  },
  {
   "cell_type": "markdown",
   "id": "7647f51f-6f0a-4ff2-8caa-52b02f9f5660",
   "metadata": {},
   "source": [
    "#### This time, we got standard output. What about stderr?"
   ]
  },
  {
   "cell_type": "code",
   "execution_count": 14,
   "id": "1267c621-23bb-4fe2-9345-42bf9c670f74",
   "metadata": {},
   "outputs": [],
   "source": [
    "result = subprocess.run([\"rm\", \"does_not_exists\"],capture_output=True)"
   ]
  },
  {
   "cell_type": "code",
   "execution_count": 15,
   "id": "805505e6-7451-400a-9631-93ca67b5169a",
   "metadata": {},
   "outputs": [
    {
     "data": {
      "text/plain": [
       "1"
      ]
     },
     "execution_count": 15,
     "metadata": {},
     "output_type": "execute_result"
    }
   ],
   "source": [
    "result.returncode"
   ]
  },
  {
   "cell_type": "code",
   "execution_count": 16,
   "id": "22f44b32-4065-4d54-88aa-9cb2bac6817b",
   "metadata": {},
   "outputs": [],
   "source": [
    "#1 means it exists with error"
   ]
  },
  {
   "cell_type": "code",
   "execution_count": 17,
   "id": "6866ddb3-72de-44fd-b747-55547e613ce5",
   "metadata": {},
   "outputs": [
    {
     "data": {
      "text/plain": [
       "b''"
      ]
     },
     "execution_count": 17,
     "metadata": {},
     "output_type": "execute_result"
    }
   ],
   "source": [
    "result.stdout"
   ]
  },
  {
   "cell_type": "code",
   "execution_count": 18,
   "id": "af2ffb74-1717-45bd-8fac-78c08f634921",
   "metadata": {},
   "outputs": [
    {
     "data": {
      "text/plain": [
       "b'rm: does_not_exists: No such file or directory\\n'"
      ]
     },
     "execution_count": 18,
     "metadata": {},
     "output_type": "execute_result"
    }
   ],
   "source": [
    "result.stderr"
   ]
  },
  {
   "cell_type": "code",
   "execution_count": null,
   "id": "5639514d-2bd2-452d-ae3b-6d08e5527651",
   "metadata": {},
   "outputs": [],
   "source": []
  }
 ],
 "metadata": {
  "kernelspec": {
   "display_name": "Python 3 (ipykernel)",
   "language": "python",
   "name": "python3"
  },
  "language_info": {
   "codemirror_mode": {
    "name": "ipython",
    "version": 3
   },
   "file_extension": ".py",
   "mimetype": "text/x-python",
   "name": "python",
   "nbconvert_exporter": "python",
   "pygments_lexer": "ipython3",
   "version": "3.10.0"
  }
 },
 "nbformat": 4,
 "nbformat_minor": 5
}
