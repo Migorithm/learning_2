{
 "cells": [
  {
   "cell_type": "code",
   "execution_count": 1,
   "id": "562e2b87-9208-48f3-9618-314f864aeccd",
   "metadata": {},
   "outputs": [],
   "source": [
    "import re"
   ]
  },
  {
   "cell_type": "markdown",
   "id": "46e746a7-8902-4e54-a25c-d4e56b0b7cdb",
   "metadata": {},
   "source": [
    "#### First step\n",
    "When working with log files and scripts, our first step is usually to open them so our code can access their contents. <br>\n",
    "check this file below.\n"
   ]
  },
  {
   "cell_type": "code",
   "execution_count": 5,
   "id": "5939d321-c842-4fb9-8987-8f905035b899",
   "metadata": {},
   "outputs": [
    {
     "data": {
      "text/plain": [
       "\u001b[0;32mimport\u001b[0m \u001b[0msys\u001b[0m\u001b[0;34m\u001b[0m\n",
       "\u001b[0;34m\u001b[0m\u001b[0;34m\u001b[0m\n",
       "\u001b[0;34m\u001b[0m\u001b[0mlogfile\u001b[0m\u001b[0;34m=\u001b[0m\u001b[0msys\u001b[0m\u001b[0;34m.\u001b[0m\u001b[0margv\u001b[0m\u001b[0;34m[\u001b[0m\u001b[0;36m1\u001b[0m\u001b[0;34m]\u001b[0m\u001b[0;34m\u001b[0m\n",
       "\u001b[0;34m\u001b[0m\u001b[0;32mwith\u001b[0m \u001b[0mopen\u001b[0m\u001b[0;34m(\u001b[0m\u001b[0mlogfile\u001b[0m\u001b[0;34m)\u001b[0m \u001b[0;32mas\u001b[0m \u001b[0mf\u001b[0m\u001b[0;34m:\u001b[0m\u001b[0;34m\u001b[0m\n",
       "\u001b[0;34m\u001b[0m    \u001b[0;32mfor\u001b[0m \u001b[0mline\u001b[0m \u001b[0;32min\u001b[0m \u001b[0mf\u001b[0m\u001b[0;34m:\u001b[0m\u001b[0;34m\u001b[0m\n",
       "\u001b[0;34m\u001b[0m        \u001b[0mprint\u001b[0m\u001b[0;34m(\u001b[0m\u001b[0mline\u001b[0m\u001b[0;34m.\u001b[0m\u001b[0mstrip\u001b[0m\u001b[0;34m(\u001b[0m\u001b[0;34m)\u001b[0m\u001b[0;34m)\u001b[0m\u001b[0;34m\u001b[0m\u001b[0;34m\u001b[0m\u001b[0m\n"
      ]
     },
     "metadata": {},
     "output_type": "display_data"
    }
   ],
   "source": [
    "%pycat check_log.py"
   ]
  },
  {
   "cell_type": "code",
   "execution_count": 6,
   "id": "f2ae90b9-a0c9-4a28-bcbc-b541145d58a9",
   "metadata": {},
   "outputs": [],
   "source": [
    "#remember, for performance reasons, whem files are large, it's generally a good practice to read them line by line instead of reading in bulk."
   ]
  },
  {
   "cell_type": "code",
   "execution_count": 9,
   "id": "41370fe3-821f-462b-99cd-3907b4be4451",
   "metadata": {},
   "outputs": [
    {
     "name": "stdout",
     "output_type": "stream",
     "text": [
      "Mon Nov  8 18:58:12 2021 [92] <err> (0x70000b81c000) -[RDServer fetchPersona:forPid:completionHandler:]_block_invoke: Fetch persona failed with error:Error Domain=NSPOSIXErrorDomain Code=2 \"No such file or directory\"\n",
      "Mon Nov  8 18:58:26 2021 [92] <err> (0x70000b799000) -[RDServer fetchPersona:forPid:completionHandler:]_block_invoke: Fetch persona failed with error:Error Domain=NSPOSIXErrorDomain Code=2 \"No such file or directory\"\n",
      "Mon Nov  8 19:16:08 2021 [92] <err> (0x70000b81c000) -[RDServer fetchPersona:forPid:completionHandler:]_block_invoke: Fetch persona failed with error:Error Domain=NSPOSIXErrorDomain Code=2 \"No such file or directory\"\n",
      "Mon Nov  8 19:16:08 2021 [92] <err> (0x70000b81c000) -[RDServer fetchPersona:forPid:completionHandler:]_block_invoke: Fetch persona failed with error:Error Domain=NSPOSIXErrorDomain Code=2 \"No such file or directory\"\n",
      "Mon Nov  8 19:16:25 2021 [92] <err> (0x70000b799000) -[RDServer fetchPersona:forPid:completionHandler:]_block_invoke: Fetch persona failed with error:Error Domain=NSPOSIXErrorDomain Code=2 \"No such file or directory\"\n",
      "Mon Nov  8 19:16:25 2021 [92] <err> (0x70000b799000) -[RDServer fetchPersona:forPid:completionHandler:]_block_invoke: Fetch persona failed with error:Error Domain=NSPOSIXErrorDomain Code=2 \"No such file or directory\"\n",
      "Mon Nov  8 19:32:12 2021 [92] <err> (0x70000b81c000) -[RDServer fetchPersona:forPid:completionHandler:]_block_invoke: Fetch persona failed with error:Error Domain=NSPOSIXErrorDomain Code=2 \"No such file or directory\"\n",
      "Mon Nov  8 19:32:12 2021 [92] <err> (0x70000b81c000) -[RDServer fetchPersona:forPid:completionHandler:]_block_invoke: Fetch persona failed with error:Error Domain=NSPOSIXErrorDomain Code=2 \"No such file or directory\"\n",
      "Mon Nov  8 19:41:30 2021 [92] <err> (0x70000b799000) -[RDServer fetchPersona:forPid:completionHandler:]_block_invoke: Fetch persona failed with error:Error Domain=NSPOSIXErrorDomain Code=2 \"No such file or directory\"\n",
      "Mon Nov  8 19:41:30 2021 [92] <err> (0x70000b799000) -[RDServer fetchPersona:forPid:completionHandler:]_block_invoke: Fetch persona failed with error:Error Domain=NSPOSIXErrorDomain Code=2 \"No such file or directory\"\n"
     ]
    }
   ],
   "source": [
    "!tail -10 /var/logs/keybagd.log.0"
   ]
  },
  {
   "cell_type": "markdown",
   "id": "e013a9ef-8649-46f5-a20f-8fbd1f225a79",
   "metadata": {},
   "source": [
    "#### Let's pull some info from the preceding log files that match our pattern"
   ]
  },
  {
   "cell_type": "code",
   "execution_count": 38,
   "id": "813cf45d-9f47-4469-bbfb-95e3781aea33",
   "metadata": {},
   "outputs": [],
   "source": [
    "regex= r\"\\[[a-zA-Z_:\\s]+\\]\"\n"
   ]
  },
  {
   "cell_type": "code",
   "execution_count": 39,
   "id": "af653b45-2f9f-4b69-84c0-531f24a661ed",
   "metadata": {},
   "outputs": [
    {
     "data": {
      "text/plain": [
       "<re.Match object; span=(54, 103), match='[RDServer fetchPersona:forPid:completionHandler:]>"
      ]
     },
     "execution_count": 39,
     "metadata": {},
     "output_type": "execute_result"
    }
   ],
   "source": [
    "re.search(regex,\"Mon Nov  8 19:41:30 2021 [92] <err> (0x70000b799000) -[RDServer fetchPersona:forPid:completionHandler:]_block_invoke: Fetch persona failed with error:Error Domain=NSPOSIXErrorDomain Code=2\")\n"
   ]
  },
  {
   "cell_type": "markdown",
   "id": "6f406076-3f3b-4d81-ae5c-f6f1017c2780",
   "metadata": {},
   "source": [
    "#### Problem \n",
    "We're using the same syslog, and we want to display the date, time, and process id that's inside the square brackets. We can read each line of the syslog and pass the contents to the show_time_of_pid function. Fill in the gaps to extract the date, time, and process id from the passed line, and return this format: Jul 6 14:01:23 pid:29440."
   ]
  },
  {
   "cell_type": "code",
   "execution_count": 43,
   "id": "035f85bf-8e42-43f4-bc99-f056f3823f56",
   "metadata": {},
   "outputs": [
    {
     "name": "stdout",
     "output_type": "stream",
     "text": [
      "Jul 6 14:01:23 pid:29440\n",
      "Jul 6 14:02:08 pid:29187\n",
      "Jul 6 14:02:09 pid:29187\n",
      "Jul 6 14:03:01 pid:29440\n",
      "Jul 6 14:03:40 pid:29807\n",
      "Jul 6 14:04:01 pid:29440\n",
      "Jul 6 14:05:01 pid:29440\n"
     ]
    }
   ],
   "source": [
    "import re\n",
    "def show_time_of_pid(line):\n",
    "    pattern = r\"^([a-zA-Z]{3}) ([0-9]{1,2}) (\\d{2}:\\d{2}:\\d{2}).*\\[(\\d+)\\]\"\n",
    "    result = re.search(pattern, line)\n",
    "    return \"{} {} {} pid:{}\".format(result[1],result[2],result[3],result[4])\n",
    "\n",
    "print(show_time_of_pid(\"Jul 6 14:01:23 computer.name CRON[29440]: USER (good_user)\")) # Jul 6 14:01:23 pid:29440\n",
    "\n",
    "print(show_time_of_pid(\"Jul 6 14:02:08 computer.name jam_tag=psim[29187]: (UUID:006)\")) # Jul 6 14:02:08 pid:29187\n",
    "\n",
    "print(show_time_of_pid(\"Jul 6 14:02:09 computer.name jam_tag=psim[29187]: (UUID:007)\")) # Jul 6 14:02:09 pid:29187\n",
    "\n",
    "print(show_time_of_pid(\"Jul 6 14:03:01 computer.name CRON[29440]: USER (naughty_user)\")) # Jul 6 14:03:01 pid:29440\n",
    "\n",
    "print(show_time_of_pid(\"Jul 6 14:03:40 computer.name cacheclient[29807]: start syncing from \\\"0xDEADBEEF\\\"\")) # Jul 6 14:03:40 pid:29807\n",
    "\n",
    "print(show_time_of_pid(\"Jul 6 14:04:01 computer.name CRON[29440]: USER (naughty_user)\")) # Jul 6 14:04:01 pid:29440\n",
    "\n",
    "print(show_time_of_pid(\"Jul 6 14:05:01 computer.name CRON[29440]: USER (naughty_user)\")) # Jul 6 14:05:01 pid:29440"
   ]
  },
  {
   "cell_type": "code",
   "execution_count": null,
   "id": "6d3e8d64-9af1-47fc-b2c3-99d832f47841",
   "metadata": {},
   "outputs": [],
   "source": []
  }
 ],
 "metadata": {
  "kernelspec": {
   "display_name": "Python 3 (ipykernel)",
   "language": "python",
   "name": "python3"
  },
  "language_info": {
   "codemirror_mode": {
    "name": "ipython",
    "version": 3
   },
   "file_extension": ".py",
   "mimetype": "text/x-python",
   "name": "python",
   "nbconvert_exporter": "python",
   "pygments_lexer": "ipython3",
   "version": "3.10.0"
  }
 },
 "nbformat": 4,
 "nbformat_minor": 5
}
