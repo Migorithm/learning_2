{
 "cells": [
  {
   "cell_type": "markdown",
   "id": "29a26423-9df1-4038-a6af-c9462985820b",
   "metadata": {},
   "source": [
    "### contents of parameter.py"
   ]
  },
  {
   "cell_type": "code",
   "execution_count": 9,
   "id": "29f555f1-e858-435d-b68b-7ff8cc149f28",
   "metadata": {},
   "outputs": [
    {
     "data": {
      "text/plain": [
       "\u001b[0;32mimport\u001b[0m \u001b[0msys\u001b[0m\u001b[0;34m\u001b[0m\n",
       "\u001b[0;34m\u001b[0m\u001b[0mprint\u001b[0m\u001b[0;34m(\u001b[0m\u001b[0msys\u001b[0m\u001b[0;34m.\u001b[0m\u001b[0margv\u001b[0m\u001b[0;34m)\u001b[0m\u001b[0;34m\u001b[0m\u001b[0;34m\u001b[0m\u001b[0m\n"
      ]
     },
     "metadata": {},
     "output_type": "display_data"
    }
   ],
   "source": [
    "%pycat parameters.py\n"
   ]
  },
  {
   "cell_type": "markdown",
   "id": "315d244a-f67b-4419-a675-a53fb7cc1259",
   "metadata": {},
   "source": [
    "#### When you run it..."
   ]
  },
  {
   "cell_type": "code",
   "execution_count": 12,
   "id": "00a25a81-920f-490f-9962-83e24622b083",
   "metadata": {},
   "outputs": [
    {
     "name": "stdout",
     "output_type": "stream",
     "text": [
      "['parameters.py']\n"
     ]
    }
   ],
   "source": [
    "%run parameters.py\n"
   ]
  },
  {
   "cell_type": "markdown",
   "id": "34ab03ef-1dda-4a15-b2f5-74363c72db68",
   "metadata": {},
   "source": [
    "#### When you pass arguments.."
   ]
  },
  {
   "cell_type": "code",
   "execution_count": 13,
   "id": "e16a6c26-f628-4c0d-8c9b-e268fe28813d",
   "metadata": {},
   "outputs": [
    {
     "name": "stdout",
     "output_type": "stream",
     "text": [
      "['parameters.py', 'one', 'two', 'three']\n"
     ]
    }
   ],
   "source": [
    "%run parameters.py one two three"
   ]
  },
  {
   "cell_type": "markdown",
   "id": "ad533c0e-3292-45e4-8bc7-0f4fb7ebe3e0",
   "metadata": {},
   "source": [
    "### Exit status\n",
    "The value returned by a program to the shell<br>\n",
    "In all Unix-like operating systems, the exit status of the process is zero when the process succeeds and different than zero if it fails."
   ]
  },
  {
   "cell_type": "code",
   "execution_count": 14,
   "id": "f3b3d001-38a7-4d01-a0e2-63a9a69f1553",
   "metadata": {},
   "outputs": [
    {
     "name": "stdout",
     "output_type": "stream",
     "text": [
      "       1       3      26 parameters.py\n"
     ]
    }
   ],
   "source": [
    "!wc parameters.py"
   ]
  },
  {
   "cell_type": "code",
   "execution_count": 15,
   "id": "5651ea59-2dd8-4451-9c08-74e6cafd336f",
   "metadata": {},
   "outputs": [
    {
     "name": "stdout",
     "output_type": "stream",
     "text": [
      "0\n"
     ]
    }
   ],
   "source": [
    "!echo $?"
   ]
  },
  {
   "cell_type": "markdown",
   "id": "146f520a-1ee0-46bf-a031-20dddc891a74",
   "metadata": {},
   "source": [
    "#### We see that the exit value was zero. and that's because 'wc' command ran successfully"
   ]
  },
  {
   "cell_type": "code",
   "execution_count": 21,
   "id": "58fce5d4-609b-4473-b526-0273d0edd5da",
   "metadata": {},
   "outputs": [
    {
     "name": "stdout",
     "output_type": "stream",
     "text": [
      "wc: notpresent.py: open: No such file or directory\n",
      "1\n"
     ]
    }
   ],
   "source": [
    "!wc notpresent.py; echo $?"
   ]
  },
  {
   "cell_type": "code",
   "execution_count": 22,
   "id": "ba0c81bf-57df-43a0-9a96-5bd27a7dbfb1",
   "metadata": {},
   "outputs": [
    {
     "data": {
      "text/plain": [
       "\u001b[0;32mimport\u001b[0m \u001b[0mos\u001b[0m\u001b[0;34m\u001b[0m\n",
       "\u001b[0;34m\u001b[0m\u001b[0;32mimport\u001b[0m \u001b[0msys\u001b[0m\u001b[0;34m\u001b[0m\n",
       "\u001b[0;34m\u001b[0m\u001b[0;34m\u001b[0m\n",
       "\u001b[0;34m\u001b[0m\u001b[0mfilename\u001b[0m\u001b[0;34m=\u001b[0m\u001b[0msys\u001b[0m\u001b[0;34m.\u001b[0m\u001b[0margv\u001b[0m\u001b[0;34m[\u001b[0m\u001b[0;36m1\u001b[0m\u001b[0;34m]\u001b[0m\u001b[0;34m\u001b[0m\n",
       "\u001b[0;34m\u001b[0m\u001b[0;32mif\u001b[0m \u001b[0;32mnot\u001b[0m \u001b[0mos\u001b[0m\u001b[0;34m.\u001b[0m\u001b[0mpath\u001b[0m\u001b[0;34m.\u001b[0m\u001b[0mexists\u001b[0m\u001b[0;34m(\u001b[0m\u001b[0mfilename\u001b[0m\u001b[0;34m)\u001b[0m\u001b[0;34m:\u001b[0m\u001b[0;34m\u001b[0m\n",
       "\u001b[0;34m\u001b[0m    \u001b[0;32mwith\u001b[0m \u001b[0mopen\u001b[0m\u001b[0;34m(\u001b[0m\u001b[0mfilename\u001b[0m\u001b[0;34m,\u001b[0m\u001b[0;34m'w'\u001b[0m\u001b[0;34m)\u001b[0m \u001b[0;32mas\u001b[0m \u001b[0mf\u001b[0m\u001b[0;34m:\u001b[0m\u001b[0;34m\u001b[0m\n",
       "\u001b[0;34m\u001b[0m        \u001b[0mf\u001b[0m\u001b[0;34m.\u001b[0m\u001b[0mwrite\u001b[0m\u001b[0;34m(\u001b[0m\u001b[0;34m\"New file created\\n\"\u001b[0m\u001b[0;34m)\u001b[0m\u001b[0;34m\u001b[0m\n",
       "\u001b[0;34m\u001b[0m\u001b[0;32melse\u001b[0m\u001b[0;34m:\u001b[0m\u001b[0;34m\u001b[0m\n",
       "\u001b[0;34m\u001b[0m    \u001b[0mprint\u001b[0m\u001b[0;34m(\u001b[0m\u001b[0;34m\"Error, the file {} already exists!\"\u001b[0m\u001b[0;34m.\u001b[0m\u001b[0mformat\u001b[0m\u001b[0;34m(\u001b[0m\u001b[0mfilename\u001b[0m\u001b[0;34m)\u001b[0m\u001b[0;34m)\u001b[0m\u001b[0;34m\u001b[0m\n",
       "\u001b[0;34m\u001b[0m    \u001b[0msys\u001b[0m\u001b[0;34m.\u001b[0m\u001b[0mexit\u001b[0m\u001b[0;34m(\u001b[0m\u001b[0;36m1\u001b[0m\u001b[0;34m)\u001b[0m\u001b[0;34m\u001b[0m\u001b[0;34m\u001b[0m\u001b[0m\n"
      ]
     },
     "metadata": {},
     "output_type": "display_data"
    }
   ],
   "source": [
    "%pycat create_file.py\n"
   ]
  },
  {
   "cell_type": "markdown",
   "id": "f013497f-7641-4d5e-b586-3494b7e727dd",
   "metadata": {},
   "source": [
    "#### the above script receives a file name as a command line argument, check if it exists already, and if not, create the file"
   ]
  },
  {
   "cell_type": "code",
   "execution_count": 23,
   "id": "6ab77239-2818-4a78-aad5-166d9f836251",
   "metadata": {},
   "outputs": [],
   "source": [
    "%run create_file.py example"
   ]
  },
  {
   "cell_type": "code",
   "execution_count": 25,
   "id": "7688eb22-b5f3-42f4-8a48-588defcd1e60",
   "metadata": {},
   "outputs": [
    {
     "name": "stdout",
     "output_type": "stream",
     "text": [
      "0\n"
     ]
    }
   ],
   "source": [
    "!echo $?"
   ]
  },
  {
   "cell_type": "code",
   "execution_count": 26,
   "id": "73d87658-6150-4935-b18c-e74c1a564a9e",
   "metadata": {},
   "outputs": [
    {
     "name": "stdout",
     "output_type": "stream",
     "text": [
      "New file created\n"
     ]
    }
   ],
   "source": [
    "!cat example"
   ]
  },
  {
   "cell_type": "code",
   "execution_count": 27,
   "id": "d722348a-00ef-4fe5-a8fe-b7e9ee41cbf2",
   "metadata": {},
   "outputs": [
    {
     "name": "stdout",
     "output_type": "stream",
     "text": [
      "Error, the file example already exists!\n"
     ]
    },
    {
     "ename": "SystemExit",
     "evalue": "1",
     "output_type": "error",
     "traceback": [
      "An exception has occurred, use %tb to see the full traceback.\n",
      "\u001b[0;31mSystemExit\u001b[0m\u001b[0;31m:\u001b[0m 1\n"
     ]
    }
   ],
   "source": [
    "%run create_file.py example"
   ]
  },
  {
   "cell_type": "code",
   "execution_count": null,
   "id": "3effa3fe-7c75-437f-8f1c-e3aebdffa4ca",
   "metadata": {},
   "outputs": [],
   "source": []
  }
 ],
 "metadata": {
  "kernelspec": {
   "display_name": "Python 3 (ipykernel)",
   "language": "python",
   "name": "python3"
  },
  "language_info": {
   "codemirror_mode": {
    "name": "ipython",
    "version": 3
   },
   "file_extension": ".py",
   "mimetype": "text/x-python",
   "name": "python",
   "nbconvert_exporter": "python",
   "pygments_lexer": "ipython3",
   "version": "3.10.0"
  }
 },
 "nbformat": 4,
 "nbformat_minor": 5
}
