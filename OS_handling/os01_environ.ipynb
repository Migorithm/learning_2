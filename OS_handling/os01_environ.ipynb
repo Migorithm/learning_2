{
 "cells": [
  {
   "cell_type": "code",
   "execution_count": 3,
   "id": "99092056-5916-4662-a395-2e1fbfdbac56",
   "metadata": {},
   "outputs": [],
   "source": [
    "import os"
   ]
  },
  {
   "cell_type": "markdown",
   "id": "d58ed834-b279-4d3f-af6d-93917f3e2bd2",
   "metadata": {},
   "source": [
    "#### How do you get access to variable that is accessible directly from your shell?"
   ]
  },
  {
   "cell_type": "code",
   "execution_count": 5,
   "id": "c5c61a58-fa93-4160-8d8a-8442fe28d4fc",
   "metadata": {},
   "outputs": [
    {
     "name": "stdout",
     "output_type": "stream",
     "text": [
      "HOME: /Users/we\n",
      "SHELL: /bin/zsh\n",
      "FRUIT: \n"
     ]
    }
   ],
   "source": [
    "print(\"HOME: \" + os.environ.get(\"HOME\", \"\"))\n",
    "print(\"SHELL: \" + os.environ.get(\"SHELL\", \"\"))\n",
    "print(\"FRUIT: \" + os.environ.get(\"FRUIT\", \"\"))\n",
    "      "
   ]
  },
  {
   "cell_type": "markdown",
   "id": "b41dbfac-c1e4-49b5-8b1e-f80fa8417782",
   "metadata": {},
   "source": [
    "#### meaning that if variable exists, it returns its value.\n",
    "By using this, we can steer clear of getting error."
   ]
  },
  {
   "cell_type": "code",
   "execution_count": 36,
   "id": "70afe425-3ba5-4932-a658-5d462beb8d93",
   "metadata": {},
   "outputs": [
    {
     "name": "stdout",
     "output_type": "stream",
     "text": [
      "env: FRUIT=PINAPPLE\n"
     ]
    }
   ],
   "source": [
    "#jupyter notebook magic keyword!\n",
    "\n",
    "%set_env FRUIT=PINAPPLE"
   ]
  },
  {
   "cell_type": "code",
   "execution_count": 35,
   "id": "964d6ba3-d72f-411e-a6e6-c6b88c9448b1",
   "metadata": {},
   "outputs": [
    {
     "name": "stdout",
     "output_type": "stream",
     "text": [
      "HOME: /Users/we\n",
      "SHELL: /bin/zsh\n",
      "FRUIT: PINAPPLE\n"
     ]
    }
   ],
   "source": [
    "print(\"HOME: \" + os.environ.get(\"HOME\", \"\"))\n",
    "print(\"SHELL: \" + os.environ.get(\"SHELL\", \"\"))\n",
    "print(\"FRUIT: \" + os.environ.get(\"FRUIT\", \"\"))"
   ]
  },
  {
   "cell_type": "code",
   "execution_count": null,
   "id": "99ac8352-83e7-40b8-9484-8bfa99aac43b",
   "metadata": {},
   "outputs": [],
   "source": []
  }
 ],
 "metadata": {
  "kernelspec": {
   "display_name": "Python 3 (ipykernel)",
   "language": "python",
   "name": "python3"
  },
  "language_info": {
   "codemirror_mode": {
    "name": "ipython",
    "version": 3
   },
   "file_extension": ".py",
   "mimetype": "text/x-python",
   "name": "python",
   "nbconvert_exporter": "python",
   "pygments_lexer": "ipython3",
   "version": "3.10.0"
  }
 },
 "nbformat": 4,
 "nbformat_minor": 5
}
