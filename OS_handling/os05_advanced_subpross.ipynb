{
 "cells": [
  {
   "cell_type": "code",
   "execution_count": 1,
   "id": "21e9a730-fed5-4592-b3e2-74becf0515f2",
   "metadata": {},
   "outputs": [],
   "source": [
    "import os"
   ]
  },
  {
   "cell_type": "markdown",
   "id": "887cfcfd-f12b-4b4e-9b06-b0c7200739ed",
   "metadata": {},
   "source": [
    "we called out in an earlier video that one way of providing information to our processes is to modify the environment variables.<br>\n",
    "Using this mechanism, we can change where the process looks for executable files, which commands it uses interact with some parts of the system,<br>\n",
    "the kind of output it'll generate and a bunch more things"
   ]
  },
  {
   "cell_type": "markdown",
   "id": "0eccb2c2-461b-4d70-95ba-2d5b4d8906d9",
   "metadata": {},
   "source": [
    "The usual strategy for modifying the environment of a child process is to **1)first copy the environment seen by our process,** <br>\n",
    "**2)do any necessary changes**, and then **3)pass that as the environment that the child process will see**. Let's take a look at this."
   ]
  },
  {
   "cell_type": "code",
   "execution_count": 9,
   "id": "182faa4b-737d-4b28-b3cb-4949424c5d20",
   "metadata": {},
   "outputs": [
    {
     "data": {
      "text/plain": [
       "\u001b[0;32mimport\u001b[0m \u001b[0mos\u001b[0m\u001b[0;34m\u001b[0m\n",
       "\u001b[0;34m\u001b[0m\u001b[0;32mimport\u001b[0m \u001b[0msubprocess\u001b[0m\u001b[0;34m\u001b[0m\n",
       "\u001b[0;34m\u001b[0m\u001b[0mmy_env\u001b[0m \u001b[0;34m=\u001b[0m \u001b[0mos\u001b[0m\u001b[0;34m.\u001b[0m\u001b[0menviron\u001b[0m\u001b[0;34m.\u001b[0m\u001b[0mcopy\u001b[0m\u001b[0;34m(\u001b[0m\u001b[0;34m)\u001b[0m\u001b[0;34m\u001b[0m\n",
       "\u001b[0;34m\u001b[0m\u001b[0mmy_env\u001b[0m\u001b[0;34m[\u001b[0m\u001b[0;34m\"PATH\"\u001b[0m\u001b[0;34m]\u001b[0m \u001b[0;34m=\u001b[0m \u001b[0mos\u001b[0m\u001b[0;34m.\u001b[0m\u001b[0mpathsep\u001b[0m\u001b[0;34m.\u001b[0m\u001b[0mjoin\u001b[0m\u001b[0;34m(\u001b[0m\u001b[0;34m[\u001b[0m\u001b[0;34m\"/opt/myapp/\"\u001b[0m\u001b[0;34m,\u001b[0m\u001b[0mmy_env\u001b[0m\u001b[0;34m[\u001b[0m\u001b[0;34m\"PATH\"\u001b[0m\u001b[0;34m]\u001b[0m\u001b[0;34m]\u001b[0m\u001b[0;34m)\u001b[0m\u001b[0;34m\u001b[0m\n",
       "\u001b[0;34m\u001b[0m\u001b[0;31m#'/opt/myapp/:/Users/we/google_course/venv/bin:/usr/local/bin:/usr/local/sbin:/opt/local/bin:/opt/local/sbin:/Library/Frameworks/Python.framework/Versions/3.10/bin:/usr/local/bin:/usr/bin:/bin:/usr/sbin:/sbin:/opt/X11/bin'\u001b[0m\u001b[0;34m\u001b[0m\n",
       "\u001b[0;34m\u001b[0m\u001b[0;31m#This is nice way to put old path and new path together and run the child process with the given path\u001b[0m\u001b[0;34m\u001b[0m\n",
       "\u001b[0;34m\u001b[0m\u001b[0mresult\u001b[0m \u001b[0;34m=\u001b[0m \u001b[0msubprocess\u001b[0m\u001b[0;34m.\u001b[0m\u001b[0mrun\u001b[0m\u001b[0;34m(\u001b[0m\u001b[0;34m[\u001b[0m\u001b[0;34m\"myapp\"\u001b[0m\u001b[0;34m]\u001b[0m\u001b[0;34m,\u001b[0m\u001b[0menv\u001b[0m\u001b[0;34m=\u001b[0m\u001b[0mmy_env\u001b[0m\u001b[0;34m)\u001b[0m\u001b[0;34m\u001b[0m\u001b[0;34m\u001b[0m\u001b[0m\n"
      ]
     },
     "metadata": {},
     "output_type": "display_data"
    }
   ],
   "source": [
    "%pycat myapp.py"
   ]
  },
  {
   "cell_type": "markdown",
   "id": "4962a018-c2ad-4faf-a4e7-47e8bc050ad6",
   "metadata": {
    "tags": []
   },
   "source": [
    "### Some drawbacks you may remember"
   ]
  },
  {
   "cell_type": "markdown",
   "id": "622c01f6-5d09-43f7-b56a-560ebbe5b90c",
   "metadata": {},
   "source": [
    "- Using these system-level commands built assumptions into our scripts about the infrastructure, our automation will run on. If those assumptions change, it can lead to unexpected effects or failures. \n",
    "- If we're automating a one-off, well-defined task, we're developing a solution quickly is the biggest requirement, then using system commands and subprocesses can help a lot. \n",
    "- But if we're doing something more complex or long-running, it's usually a good idea to use the bait in or external modules that Python provides. "
   ]
  },
  {
   "cell_type": "code",
   "execution_count": null,
   "id": "9d83347f-1b32-4bc7-bc7f-8448851b1ffd",
   "metadata": {},
   "outputs": [],
   "source": []
  }
 ],
 "metadata": {
  "kernelspec": {
   "display_name": "Python 3 (ipykernel)",
   "language": "python",
   "name": "python3"
  },
  "language_info": {
   "codemirror_mode": {
    "name": "ipython",
    "version": 3
   },
   "file_extension": ".py",
   "mimetype": "text/x-python",
   "name": "python",
   "nbconvert_exporter": "python",
   "pygments_lexer": "ipython3",
   "version": "3.10.0"
  }
 },
 "nbformat": 4,
 "nbformat_minor": 5
}
