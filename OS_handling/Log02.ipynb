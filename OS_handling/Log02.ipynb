{
 "cells": [
  {
   "cell_type": "markdown",
   "id": "4b1a3f6c-5def-4daa-944a-af2299145928",
   "metadata": {},
   "source": [
    "### Counting occurrence of stuff"
   ]
  },
  {
   "cell_type": "code",
   "execution_count": 2,
   "id": "420342f4-054a-4a74-92e5-1832e6c6ed4e",
   "metadata": {},
   "outputs": [],
   "source": [
    "usernames={}\n",
    "name = \"good_user\"\n",
    "usernames[name] = usernames.get(name,0) +1 \n"
   ]
  },
  {
   "cell_type": "code",
   "execution_count": 3,
   "id": "f60d3c65-deb2-4da1-8969-f2693421aa67",
   "metadata": {},
   "outputs": [
    {
     "data": {
      "text/plain": [
       "{'good_user': 1}"
      ]
     },
     "execution_count": 3,
     "metadata": {},
     "output_type": "execute_result"
    }
   ],
   "source": [
    "usernames"
   ]
  },
  {
   "cell_type": "code",
   "execution_count": 4,
   "id": "12acb7d9-119a-4552-adae-c9d11f43f7bb",
   "metadata": {},
   "outputs": [],
   "source": [
    "usernames[name] = usernames.get(name,0) +1 "
   ]
  },
  {
   "cell_type": "code",
   "execution_count": 5,
   "id": "a810ba33-f30a-4ccc-8525-f44b79674342",
   "metadata": {},
   "outputs": [
    {
     "data": {
      "text/plain": [
       "{'good_user': 2}"
      ]
     },
     "execution_count": 5,
     "metadata": {},
     "output_type": "execute_result"
    }
   ],
   "source": [
    "usernames"
   ]
  },
  {
   "cell_type": "markdown",
   "id": "50f7e83a-562b-4d1b-824e-16ff439c7457",
   "metadata": {},
   "source": [
    "### Let's dig into how we get occurrence of words in a log file"
   ]
  },
  {
   "cell_type": "code",
   "execution_count": 7,
   "id": "5fe62085-58f5-4606-8072-99a640d8df62",
   "metadata": {},
   "outputs": [],
   "source": [
    "import re\n",
    "import sys\n"
   ]
  },
  {
   "cell_type": "code",
   "execution_count": 10,
   "id": "2bc55bac-6757-4bde-8d75-2cadd318eb34",
   "metadata": {},
   "outputs": [],
   "source": [
    "\n",
    "log1=\"Jul 6 14:01:23 computer.name CRON[29440]: USER (good_user)\" # Jul 6 14:01:23 pid:29440\n",
    "log2=\"Jul 6 14:02:08 computer.name jam_tag=psim[29187]: (UUID:006)\" # Jul 6 14:02:08 pid:29187\n",
    "log3=\"Jul 6 14:02:09 computer.name jam_tag=psim[29187]: (UUID:007)\"# Jul 6 14:02:09 pid:29187\n",
    "log4=\"Jul 6 14:03:01 computer.name CRON[29440]: USER (naughty_user)\" # Jul 6 14:03:01 pid:29440\n",
    "log5= \"Jul 6 14:03:40 computer.name cacheclient[29807]: start syncing from \\\"0xDEADBEEF\\\"\" # Jul 6 14:03:40 pid:29807\n",
    "log6=\"Jul 6 14:04:01 computer.name CRON[29440]: USER (naughty_user)\" # Jul 6 14:04:01 pid:29440\n",
    "log7=\"Jul 6 14:05:01 computer.name CRON[29440]: USER (naughty_user)\" # Jul 6 14:05:01 pid:29440\n",
    "lst=[log1,log2,log3,log4,log5,log6,log7]"
   ]
  },
  {
   "cell_type": "code",
   "execution_count": 11,
   "id": "b84400ab-fc54-485f-a802-d0e0f72d8935",
   "metadata": {},
   "outputs": [
    {
     "name": "stdout",
     "output_type": "stream",
     "text": [
      "good_user\n",
      "naughty_user\n",
      "naughty_user\n",
      "naughty_user\n"
     ]
    }
   ],
   "source": [
    "for line in lst:\n",
    "    if \"CRON\" not in line:\n",
    "        continue\n",
    "    pattern = r\"USER \\((\\w+)\\)$\"\n",
    "    result = re.search(pattern,line)\n",
    "    if result is None:\n",
    "        continue\n",
    "    name=result[1]\n",
    "    usernames[name] = usernames.get(name,0)+1\n",
    "    print(result[1])"
   ]
  },
  {
   "cell_type": "code",
   "execution_count": 12,
   "id": "a2583b1d-7fb9-480a-806e-b9a900338772",
   "metadata": {},
   "outputs": [
    {
     "name": "stdout",
     "output_type": "stream",
     "text": [
      "{'good_user': 3, 'naughty_user': 3}\n"
     ]
    }
   ],
   "source": [
    "print(usernames)"
   ]
  },
  {
   "cell_type": "code",
   "execution_count": null,
   "id": "f5eec308-8dc9-4f49-8b85-ed7439ec9183",
   "metadata": {},
   "outputs": [],
   "source": []
  }
 ],
 "metadata": {
  "kernelspec": {
   "display_name": "Python 3 (ipykernel)",
   "language": "python",
   "name": "python3"
  },
  "language_info": {
   "codemirror_mode": {
    "name": "ipython",
    "version": 3
   },
   "file_extension": ".py",
   "mimetype": "text/x-python",
   "name": "python",
   "nbconvert_exporter": "python",
   "pygments_lexer": "ipython3",
   "version": "3.10.0"
  }
 },
 "nbformat": 4,
 "nbformat_minor": 5
}
