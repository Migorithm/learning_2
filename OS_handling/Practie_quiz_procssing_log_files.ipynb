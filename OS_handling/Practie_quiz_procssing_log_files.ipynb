{
 "cells": [
  {
   "cell_type": "markdown",
   "id": "2d4961fd-99a8-4dc2-bb6a-095ab8ab4341",
   "metadata": {},
   "source": [
    "#### problem 1\n",
    "You have created a Python script to read a log of users running CRON jobs. The script needs to accept a command line argument for the path to the log file. Which line of code accomplishes this?"
   ]
  },
  {
   "cell_type": "code",
   "execution_count": 1,
   "id": "86a85869-2f89-4db1-8d01-bd020621169d",
   "metadata": {},
   "outputs": [],
   "source": [
    "import sys\n",
    "syslog= sys.argv[1]"
   ]
  },
  {
   "cell_type": "markdown",
   "id": "cc233d07-4677-4ae5-a60e-dfff12c3525f",
   "metadata": {},
   "source": [
    "#### Problem2\n",
    "Which of the following is a data structure that can be used to count how many times a specific error appears in a log?"
   ]
  },
  {
   "cell_type": "code",
   "execution_count": 4,
   "id": "058a347f-8535-4cbb-8385-c3e18da233d2",
   "metadata": {},
   "outputs": [
    {
     "data": {
      "text/plain": [
       "1"
      ]
     },
     "execution_count": 4,
     "metadata": {},
     "output_type": "execute_result"
    }
   ],
   "source": [
    "random = {}\n",
    "random[\"a\"] = random.get(\"a\",0) +1\n",
    "random[\"a\"]"
   ]
  },
  {
   "cell_type": "markdown",
   "id": "f9f174f9-416b-48f0-9db9-4cc51f0e86ec",
   "metadata": {},
   "source": [
    "#### Problem3\n",
    "When searching log files using regex, which regex statement will search for the alphanumeric word \"IP\" followed by one or more digits wrapped in parentheses using a capturing group?"
   ]
  },
  {
   "cell_type": "code",
   "execution_count": 5,
   "id": "0d68c2f8-c957-40b4-8b15-c26495ecc518",
   "metadata": {},
   "outputs": [],
   "source": [
    "import re\n",
    "regex = r\"IP \\((\\d+)\\)\""
   ]
  },
  {
   "cell_type": "code",
   "execution_count": null,
   "id": "e8d47ab3-04f8-415f-b66c-bfdbbde3d75e",
   "metadata": {},
   "outputs": [],
   "source": []
  }
 ],
 "metadata": {
  "kernelspec": {
   "display_name": "Python 3 (ipykernel)",
   "language": "python",
   "name": "python3"
  },
  "language_info": {
   "codemirror_mode": {
    "name": "ipython",
    "version": 3
   },
   "file_extension": ".py",
   "mimetype": "text/x-python",
   "name": "python",
   "nbconvert_exporter": "python",
   "pygments_lexer": "ipython3",
   "version": "3.10.0"
  }
 },
 "nbformat": 4,
 "nbformat_minor": 5
}
