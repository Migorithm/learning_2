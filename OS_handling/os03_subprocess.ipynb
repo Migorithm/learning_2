{
 "cells": [
  {
   "cell_type": "markdown",
   "id": "0751b6a0-35be-4956-8967-569449bfe6c8",
   "metadata": {},
   "source": [
    "#### What if?\n",
    "\n",
    "- as part of a Python script, we needed to send ICMP packets to a host to check if it's responding? \n",
    "    - We can use either external module or our friendly \"ping\" command!\n",
    "    \n",
    "Sometimes it's easier or faster to use a system command as part of our Python script to accomplish a task, or use some functionality that doesn't exist in the Python modules, neither built in or external. For these cases, Python provides a way to execute system commands in our scripts, using functions provided by the subprocess module"
   ]
  },
  {
   "cell_type": "code",
   "execution_count": 1,
   "id": "15098e37-3e9a-4976-9a8b-10499bd9d4bf",
   "metadata": {},
   "outputs": [],
   "source": [
    "import subprocess"
   ]
  },
  {
   "cell_type": "code",
   "execution_count": 2,
   "id": "b14fff66-e9f7-4849-ac12-9f7f5a1f4b85",
   "metadata": {},
   "outputs": [
    {
     "name": "stdout",
     "output_type": "stream",
     "text": [
      "Mon Nov  8 20:34:46 KST 2021\n"
     ]
    },
    {
     "data": {
      "text/plain": [
       "CompletedProcess(args=['date'], returncode=0)"
      ]
     },
     "execution_count": 2,
     "metadata": {},
     "output_type": "execute_result"
    }
   ],
   "source": [
    "subprocess.run([\"date\"])"
   ]
  },
  {
   "cell_type": "markdown",
   "id": "3c3275ac-8edb-4091-9390-722822ffec80",
   "metadata": {},
   "source": [
    "#### subprocess.run([command]) returns an object of the completed process type\n",
    "We can also see that the return code of the command was 0. <br>\n",
    "To run the external command a secondary environment is created for the child process or subprocess where the command is executed.<br> \n",
    "While the parent process, which is our script, is waiting on the subprocess to finish, it's blocked, **which means that the parent can't do any work until the child finishes.**\n",
    "\n"
   ]
  },
  {
   "cell_type": "code",
   "execution_count": 6,
   "id": "e2095ea6-019f-4644-b380-a92b18f05dc1",
   "metadata": {},
   "outputs": [
    {
     "data": {
      "text/plain": [
       "CompletedProcess(args=['sleep', '2'], returncode=0)"
      ]
     },
     "execution_count": 6,
     "metadata": {},
     "output_type": "execute_result"
    }
   ],
   "source": [
    "subprocess.run(args=[\"sleep\",\"2\"])"
   ]
  },
  {
   "cell_type": "code",
   "execution_count": 11,
   "id": "406a68ad-f716-4b9e-b28f-b5bd1eb6f519",
   "metadata": {},
   "outputs": [
    {
     "name": "stderr",
     "output_type": "stream",
     "text": [
      "ls: this_file_does_not_exist: No such file or directory\n"
     ]
    }
   ],
   "source": [
    "result = subprocess.run([\"ls\",\"this_file_does_not_exist\"])"
   ]
  },
  {
   "cell_type": "code",
   "execution_count": 19,
   "id": "a4592752-8f77-4a09-8491-82a95dfe53fa",
   "metadata": {},
   "outputs": [
    {
     "data": {
      "text/plain": [
       "1"
      ]
     },
     "execution_count": 19,
     "metadata": {},
     "output_type": "execute_result"
    }
   ],
   "source": [
    "result.returncode"
   ]
  },
  {
   "cell_type": "markdown",
   "id": "0a15aea8-a0c2-47ba-903b-7d20c42b1b2c",
   "metadata": {},
   "source": [
    "The output of the command will be printed to the screen, which means that our script has no control over it. <br>\n",
    "This can be handy for system commands that either don't have useful output like cp, chmod, sleep, and many others, or when we don't care about processing the output any further.<br>\n",
    "In other words, when it's just fine to have the output, print it to the screen. <br>\n",
    "For example, if we're writing a script that's changing the permissions of a bunch of files in a tree of directories, we don't care about the output of the chmod command. "
   ]
  },
  {
   "cell_type": "markdown",
   "id": "56ad628e-3332-4954-a52c-133ccad510ba",
   "metadata": {},
   "source": [
    "#### But if we instead want to capture the output? "
   ]
  },
  {
   "cell_type": "code",
   "execution_count": null,
   "id": "79aefeed-a000-43ae-a03f-9f935e0a6d1a",
   "metadata": {},
   "outputs": [],
   "source": []
  }
 ],
 "metadata": {
  "kernelspec": {
   "display_name": "Python 3 (ipykernel)",
   "language": "python",
   "name": "python3"
  },
  "language_info": {
   "codemirror_mode": {
    "name": "ipython",
    "version": 3
   },
   "file_extension": ".py",
   "mimetype": "text/x-python",
   "name": "python",
   "nbconvert_exporter": "python",
   "pygments_lexer": "ipython3",
   "version": "3.10.0"
  }
 },
 "nbformat": 4,
 "nbformat_minor": 5
}
