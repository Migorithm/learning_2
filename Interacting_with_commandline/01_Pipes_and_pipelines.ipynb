{
 "cells": [
  {
   "cell_type": "markdown",
   "id": "79f90dc1-db2c-455f-bd25-8adbc4968003",
   "metadata": {},
   "source": [
    "### How you gonna get data input to python file and get python file processed them?"
   ]
  },
  {
   "cell_type": "code",
   "execution_count": null,
   "id": "1f76482d-01c0-41f7-a72a-8f55a5a9a07e",
   "metadata": {},
   "outputs": [],
   "source": [
    "%pycat haiku.txt\n"
   ]
  }
 ],
 "metadata": {
  "kernelspec": {
   "display_name": "Python 3 (ipykernel)",
   "language": "python",
   "name": "python3"
  },
  "language_info": {
   "codemirror_mode": {
    "name": "ipython",
    "version": 3
   },
   "file_extension": ".py",
   "mimetype": "text/x-python",
   "name": "python",
   "nbconvert_exporter": "python",
   "pygments_lexer": "ipython3",
   "version": "3.9.4"
  }
 },
 "nbformat": 4,
 "nbformat_minor": 5
}
