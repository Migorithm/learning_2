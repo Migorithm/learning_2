{
 "cells": [
  {
   "cell_type": "code",
   "execution_count": 1,
   "id": "59c546bc-dd70-42ed-9f7b-1ac37a62c39a",
   "metadata": {},
   "outputs": [],
   "source": [
    "from rediscluster import RedisCluster"
   ]
  },
  {
   "cell_type": "code",
   "execution_count": 2,
   "id": "8471da24-28ea-421c-a370-38522f0121ea",
   "metadata": {},
   "outputs": [],
   "source": [
    "#protocol - redis://[:password]@ip:port/db_number\n",
    "rc = RedisCluster.from_url(\"redis://:xx4ULGz3GjhPCZTZ@10.107.11.66:6379/\")"
   ]
  },
  {
   "cell_type": "markdown",
   "id": "98efb7c3-0221-4bc6-8ed0-0fa491012375",
   "metadata": {},
   "source": [
    "#### hset\n"
   ]
  },
  {
   "cell_type": "code",
   "execution_count": 6,
   "id": "10844294-1955-4493-a0a6-e78b966e553e",
   "metadata": {},
   "outputs": [
    {
     "name": "stderr",
     "output_type": "stream",
     "text": [
      "/var/folders/2s/jnszs86d60s48tdr3l0whl5r0000gn/T/ipykernel_81294/3472944327.py:3: DeprecationWarning: RedisCluster.hmset() is deprecated. Use RedisCluster.hset() instead.\n",
      "  rc.hmset(prefix+\"test\",test_dict)\n"
     ]
    },
    {
     "data": {
      "text/plain": [
       "True"
      ]
     },
     "execution_count": 6,
     "metadata": {},
     "output_type": "execute_result"
    }
   ],
   "source": [
    "prefix=\"wmp_vert_\"\n",
    "test_dict = {\"a\":1,\"b\":2,\"c\":3}\n",
    "rc.hmset(prefix+\"test\",test_dict)"
   ]
  },
  {
   "cell_type": "code",
   "execution_count": 7,
   "id": "55795ef5-2070-4193-9ab2-21bad2260560",
   "metadata": {},
   "outputs": [
    {
     "data": {
      "text/plain": [
       "b'1'"
      ]
     },
     "execution_count": 7,
     "metadata": {},
     "output_type": "execute_result"
    }
   ],
   "source": [
    "rc.hget(prefix+\"test\",\"a\")\n"
   ]
  },
  {
   "cell_type": "code",
   "execution_count": 10,
   "id": "19cf0efd-30ad-4146-8123-10660105b228",
   "metadata": {},
   "outputs": [
    {
     "data": {
      "text/plain": [
       "b'2'"
      ]
     },
     "execution_count": 10,
     "metadata": {},
     "output_type": "execute_result"
    }
   ],
   "source": [
    "rc.hget(prefix+\"test\",\"b\")"
   ]
  },
  {
   "cell_type": "code",
   "execution_count": 11,
   "id": "9fe61582-e277-4c39-a120-61eb7be46b43",
   "metadata": {},
   "outputs": [
    {
     "data": {
      "text/plain": [
       "True"
      ]
     },
     "execution_count": 11,
     "metadata": {},
     "output_type": "execute_result"
    }
   ],
   "source": [
    "rc.set(\"text\",\"I know what you are doing here.\")"
   ]
  },
  {
   "cell_type": "code",
   "execution_count": 12,
   "id": "bf154785-4cdc-4157-92d6-eb775bf413ac",
   "metadata": {},
   "outputs": [],
   "source": [
    "import re"
   ]
  },
  {
   "cell_type": "code",
   "execution_count": 14,
   "id": "30354f27-6924-4bea-80d1-eac2df2a897e",
   "metadata": {},
   "outputs": [
    {
     "ename": "TypeError",
     "evalue": "cannot use a string pattern on a bytes-like object",
     "output_type": "error",
     "traceback": [
      "\u001b[0;31m---------------------------------------------------------------------------\u001b[0m",
      "\u001b[0;31mTypeError\u001b[0m                                 Traceback (most recent call last)",
      "\u001b[0;32m/var/folders/2s/jnszs86d60s48tdr3l0whl5r0000gn/T/ipykernel_81294/2967822842.py\u001b[0m in \u001b[0;36m<module>\u001b[0;34m\u001b[0m\n\u001b[0;32m----> 1\u001b[0;31m \u001b[0mre\u001b[0m\u001b[0;34m.\u001b[0m\u001b[0msearch\u001b[0m\u001b[0;34m(\u001b[0m\u001b[0;34m\"^[A-Z][a-z ]*.$\"\u001b[0m\u001b[0;34m,\u001b[0m\u001b[0mrc\u001b[0m\u001b[0;34m.\u001b[0m\u001b[0mget\u001b[0m\u001b[0;34m(\u001b[0m\u001b[0;34m\"text\"\u001b[0m\u001b[0;34m)\u001b[0m\u001b[0;34m)\u001b[0m\u001b[0;34m\u001b[0m\u001b[0;34m\u001b[0m\u001b[0m\n\u001b[0m\u001b[1;32m      2\u001b[0m \u001b[0;34m\u001b[0m\u001b[0m\n",
      "\u001b[0;32m/Library/Frameworks/Python.framework/Versions/3.10/lib/python3.10/re.py\u001b[0m in \u001b[0;36msearch\u001b[0;34m(pattern, string, flags)\u001b[0m\n\u001b[1;32m    198\u001b[0m     \"\"\"Scan through string looking for a match to the pattern, returning\n\u001b[1;32m    199\u001b[0m     a Match object, or None if no match was found.\"\"\"\n\u001b[0;32m--> 200\u001b[0;31m     \u001b[0;32mreturn\u001b[0m \u001b[0m_compile\u001b[0m\u001b[0;34m(\u001b[0m\u001b[0mpattern\u001b[0m\u001b[0;34m,\u001b[0m \u001b[0mflags\u001b[0m\u001b[0;34m)\u001b[0m\u001b[0;34m.\u001b[0m\u001b[0msearch\u001b[0m\u001b[0;34m(\u001b[0m\u001b[0mstring\u001b[0m\u001b[0;34m)\u001b[0m\u001b[0;34m\u001b[0m\u001b[0;34m\u001b[0m\u001b[0m\n\u001b[0m\u001b[1;32m    201\u001b[0m \u001b[0;34m\u001b[0m\u001b[0m\n\u001b[1;32m    202\u001b[0m \u001b[0;32mdef\u001b[0m \u001b[0msub\u001b[0m\u001b[0;34m(\u001b[0m\u001b[0mpattern\u001b[0m\u001b[0;34m,\u001b[0m \u001b[0mrepl\u001b[0m\u001b[0;34m,\u001b[0m \u001b[0mstring\u001b[0m\u001b[0;34m,\u001b[0m \u001b[0mcount\u001b[0m\u001b[0;34m=\u001b[0m\u001b[0;36m0\u001b[0m\u001b[0;34m,\u001b[0m \u001b[0mflags\u001b[0m\u001b[0;34m=\u001b[0m\u001b[0;36m0\u001b[0m\u001b[0;34m)\u001b[0m\u001b[0;34m:\u001b[0m\u001b[0;34m\u001b[0m\u001b[0;34m\u001b[0m\u001b[0m\n",
      "\u001b[0;31mTypeError\u001b[0m: cannot use a string pattern on a bytes-like object"
     ]
    }
   ],
   "source": [
    "re.search(\"^[A-Z][a-z ]*.$\",rc.get(\"text\"))\n",
    "          "
   ]
  },
  {
   "cell_type": "code",
   "execution_count": null,
   "id": "8772be8b-f026-4722-b457-d69a2492f46b",
   "metadata": {},
   "outputs": [],
   "source": []
  }
 ],
 "metadata": {
  "kernelspec": {
   "display_name": "Python 3 (ipykernel)",
   "language": "python",
   "name": "python3"
  },
  "language_info": {
   "codemirror_mode": {
    "name": "ipython",
    "version": 3
   },
   "file_extension": ".py",
   "mimetype": "text/x-python",
   "name": "python",
   "nbconvert_exporter": "python",
   "pygments_lexer": "ipython3",
   "version": "3.10.0"
  }
 },
 "nbformat": 4,
 "nbformat_minor": 5
}
