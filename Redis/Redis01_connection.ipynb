{
 "cells": [
  {
   "cell_type": "code",
   "execution_count": 2,
   "id": "55fc6bae-7956-4aab-bc75-ea485822e5b3",
   "metadata": {},
   "outputs": [
    {
     "name": "stdout",
     "output_type": "stream",
     "text": [
      "Collecting redis-py-cluster\n",
      "  Downloading redis_py_cluster-2.1.3-py2.py3-none-any.whl (42 kB)\n",
      "\u001b[K     |████████████████████████████████| 42 kB 875 kB/s eta 0:00:01\n",
      "\u001b[?25hCollecting redis<4.0.0,>=3.0.0\n",
      "  Downloading redis-3.5.3-py2.py3-none-any.whl (72 kB)\n",
      "\u001b[K     |████████████████████████████████| 72 kB 1.5 MB/s eta 0:00:011\n",
      "\u001b[?25hInstalling collected packages: redis, redis-py-cluster\n",
      "Successfully installed redis-3.5.3 redis-py-cluster-2.1.3\n",
      "\u001b[33mWARNING: You are using pip version 21.1.2; however, version 21.3.1 is available.\n",
      "You should consider upgrading via the '/Users/we/google_course/venv/bin/python -m pip install --upgrade pip' command.\u001b[0m\n"
     ]
    }
   ],
   "source": [
    "!pip install redis-py-cluster"
   ]
  },
  {
   "cell_type": "markdown",
   "id": "73b828f5-1eb6-41ba-9390-6ae11633ac8e",
   "metadata": {},
   "source": [
    "### Making connection to cluster"
   ]
  },
  {
   "cell_type": "code",
   "execution_count": 3,
   "id": "bee66ad4-efb8-4952-8865-9695130376bb",
   "metadata": {},
   "outputs": [],
   "source": [
    "from rediscluster import RedisCluster"
   ]
  },
  {
   "cell_type": "code",
   "execution_count": 7,
   "id": "a39b6ccb-c8dc-423a-b774-e5e4c1c16486",
   "metadata": {},
   "outputs": [],
   "source": [
    "#protocol - redis://[:password]@ip:port/db_number\n",
    "rc = RedisCluster.from_url(\"redis://:xx4ULGz3GjhPCZTZ@10.107.11.66:6379/\")"
   ]
  },
  {
   "cell_type": "code",
   "execution_count": 8,
   "id": "8ab57b9a-fcb8-47c4-b838-7bef62995ef5",
   "metadata": {},
   "outputs": [
    {
     "data": {
      "text/plain": [
       "True"
      ]
     },
     "execution_count": 8,
     "metadata": {},
     "output_type": "execute_result"
    }
   ],
   "source": [
    "prefix = \"wmp_vert_\"\n",
    "rc.set(prefix+\"leader\",\"sykim\")"
   ]
  },
  {
   "cell_type": "code",
   "execution_count": 10,
   "id": "7b8d5207-688d-428b-947b-0ee2cb08ae71",
   "metadata": {},
   "outputs": [
    {
     "data": {
      "text/plain": [
       "True"
      ]
     },
     "execution_count": 10,
     "metadata": {},
     "output_type": "execute_result"
    }
   ],
   "source": [
    "rc.set(prefix+\"manager1\",\"jh\")\n",
    "rc.set(prefix+\"manager2\",\"ws\")"
   ]
  },
  {
   "cell_type": "code",
   "execution_count": 11,
   "id": "22a5f79e-7d3e-4926-ae02-cb8058d36917",
   "metadata": {},
   "outputs": [
    {
     "data": {
      "text/plain": [
       "b'sykim'"
      ]
     },
     "execution_count": 11,
     "metadata": {},
     "output_type": "execute_result"
    }
   ],
   "source": [
    "rc.get(prefix+\"leader\")"
   ]
  },
  {
   "cell_type": "markdown",
   "id": "68d7f8bc-c0d6-4500-9434-e6040a262dbb",
   "metadata": {},
   "source": [
    "#### Note that it gives you byte type data by default."
   ]
  },
  {
   "cell_type": "code",
   "execution_count": null,
   "id": "92d2370f-c158-4bd0-824d-fadeda8a2f11",
   "metadata": {},
   "outputs": [],
   "source": []
  }
 ],
 "metadata": {
  "kernelspec": {
   "display_name": "Python 3 (ipykernel)",
   "language": "python",
   "name": "python3"
  },
  "language_info": {
   "codemirror_mode": {
    "name": "ipython",
    "version": 3
   },
   "file_extension": ".py",
   "mimetype": "text/x-python",
   "name": "python",
   "nbconvert_exporter": "python",
   "pygments_lexer": "ipython3",
   "version": "3.10.0"
  }
 },
 "nbformat": 4,
 "nbformat_minor": 5
}
