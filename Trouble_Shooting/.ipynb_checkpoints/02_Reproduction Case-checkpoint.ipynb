{
 "cells": [
  {
   "cell_type": "markdown",
   "id": "ff3ecdd0-8280-4675-9d9d-48597d294545",
   "metadata": {},
   "source": [
    "#### How can you figure out what's causing a problem?\n",
    "<br>\n",
    "\n",
    "**First step** is to read the logs available to you, which also depends on your OS. <br>\n",
    "- For linux, it's mostly located on **/var/log/syslog**\n",
    "<br><br>\n",
    "\n",
    "**Second step** : try to isolate the conditions that trigger the issue.<br>\n",
    "- Do other users in the same office also experienced the problem? <br>\n",
    "- Does the same thing happen if the same user logs into a different computer?<br>\n",
    "- Does the problem happen if the applications config directory is moved away? <br>\n",
    "<br>\n",
    "\n",
    "**Third step** : Be creative in making assumption(or hypothesis to think about the root cause.\n",
    "- Whenever possible, we should check our hypothesis in a test environment, instead of the production environment that our users are working with. \n",
    "\n",
    "- To check out which processes are suing the most disk input and disk output, you can use **iotop**\n",
    "- To check out if server uses too much network, **iftop** \n",
    "- another "
   ]
  }
 ],
 "metadata": {
  "kernelspec": {
   "display_name": "Python 3 (ipykernel)",
   "language": "python",
   "name": "python3"
  },
  "language_info": {
   "codemirror_mode": {
    "name": "ipython",
    "version": 3
   },
   "file_extension": ".py",
   "mimetype": "text/x-python",
   "name": "python",
   "nbconvert_exporter": "python",
   "pygments_lexer": "ipython3",
   "version": "3.10.0"
  }
 },
 "nbformat": 4,
 "nbformat_minor": 5
}
