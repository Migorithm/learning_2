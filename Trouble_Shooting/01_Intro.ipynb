{
 "cells": [
  {
   "cell_type": "markdown",
   "id": "56939a97-0221-4026-b12c-96ed5a8a3600",
   "metadata": {},
   "source": [
    "Troubles can be caused by hardware, OS, application running on the computer, configuration and so on..<br>\n",
    "Debugging is on the other hand, the process of identifying, analyzing and removing bugs in a system "
   ]
  },
  {
   "cell_type": "markdown",
   "id": "60c9bf9e-b3fe-4483-a620-1f4879408433",
   "metadata": {},
   "source": [
    "### Problem solving steps"
   ]
  },
  {
   "cell_type": "markdown",
   "id": "eb431ee2-2146-439d-8862-e0ca80c1be43",
   "metadata": {},
   "source": [
    "#### 1. Getting information\n",
    "#### 2. Finding the root cause\n",
    "#### 3. Performing the necessary remediation"
   ]
  },
  {
   "cell_type": "code",
   "execution_count": 5,
   "id": "775c596c-7288-4bbe-897e-23ceb751fe6e",
   "metadata": {},
   "outputs": [],
   "source": [
    "#strace -o file_to_be_created program \n"
   ]
  },
  {
   "cell_type": "markdown",
   "id": "66209eed-a1d5-4eb9-be57-63809e0d4219",
   "metadata": {},
   "source": [
    "#### Which tool can you use when debugging to look at library calls made by the software?\n",
    "ltrace"
   ]
  },
  {
   "cell_type": "markdown",
   "id": "cb6bee6a-50da-48a7-9828-3b60beabc9dc",
   "metadata": {},
   "source": [
    "#### The strace (in Linux) tool allows us to see all of the _____ our program has made.\n",
    "System calls"
   ]
  }
 ],
 "metadata": {
  "kernelspec": {
   "display_name": "Python 3 (ipykernel)",
   "language": "python",
   "name": "python3"
  },
  "language_info": {
   "codemirror_mode": {
    "name": "ipython",
    "version": 3
   },
   "file_extension": ".py",
   "mimetype": "text/x-python",
   "name": "python",
   "nbconvert_exporter": "python",
   "pygments_lexer": "ipython3",
   "version": "3.10.0"
  }
 },
 "nbformat": 4,
 "nbformat_minor": 5
}
